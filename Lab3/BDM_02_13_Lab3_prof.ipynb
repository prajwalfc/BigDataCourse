{
 "cells": [
  {
   "cell_type": "markdown",
   "metadata": {},
   "source": [
    "# Lab 3\n",
    "\n",
    "In this lab, we will practice Python's higher order functions, in particular, map(), filter() and reduce().\n",
    "\n",
    "\n",
    "## Task 1\n",
    "\n",
    "You are provided a list of service status updates scraped from an MTA information website. Each update may indicate <i>Good Service</i>, <i>Planned Work</i>, or <i>Delays</i> for one or more subway lines. Our first objective is to list all the lines that are running with <i>Delays</i>. To guide you through the process, we split the problem into smaller tasks."
   ]
  },
  {
   "cell_type": "code",
   "execution_count": 1,
   "metadata": {},
   "outputs": [],
   "source": [
    "from functools import reduce\n",
    "import csv"
   ]
  },
  {
   "cell_type": "code",
   "execution_count": 2,
   "metadata": {},
   "outputs": [],
   "source": [
    "# This is your input data, a list of subway line status.\n",
    "# It is a list of string in a specific format\n",
    "\n",
    "status = [\n",
    "    '1,2,3 : Good Service',\n",
    "    '4,5,6 : Delays',\n",
    "    '7 : Good Service',\n",
    "    'A,C : Good Service',\n",
    "    'E : Planned Work',\n",
    "    'G : Delays',\n",
    "    'B,D,F,M : Good Service',\n",
    "    'J,Z : Delays',\n",
    "    'L : Good Service',\n",
    "    'N,Q,R : Planned Work',\n",
    "    'S : Good Service',\n",
    "]"
   ]
  },
  {
   "cell_type": "markdown",
   "metadata": {},
   "source": [
    "### Sub-Task 1\n",
    "\n",
    "Please complete the lambda expression to filter only the status updates for the lines that run with <i>Delays</i>."
   ]
  },
  {
   "cell_type": "code",
   "execution_count": 3,
   "metadata": {},
   "outputs": [
    {
     "data": {
      "text/plain": [
       "['4,5,6 : Delays', 'G : Delays', 'J,Z : Delays']"
      ]
     },
     "execution_count": 3,
     "metadata": {},
     "output_type": "execute_result"
    }
   ],
   "source": [
    "delayUpdates = list(filter(lambda x: 'Delays' in x, status))\n",
    "delayUpdates\n",
    "# After this, your delayUpdates should be\n",
    "# ['4,5,6 : Delays', 'G : Delays', 'J,Z : Delays']"
   ]
  },
  {
   "cell_type": "markdown",
   "metadata": {},
   "source": [
    "### Sub-Task 2\n",
    "\n",
    "Please complete the lambda expression below to convert each status line into a list of subway lines, i.e. <b><i>'4,5,6 : Delays'</i></b> would become <b><i>['4','5','6']</i></b>"
   ]
  },
  {
   "cell_type": "code",
   "execution_count": 4,
   "metadata": {},
   "outputs": [
    {
     "data": {
      "text/plain": [
       "[['4', '5', '6 '], ['G '], ['J', 'Z ']]"
      ]
     },
     "execution_count": 4,
     "metadata": {},
     "output_type": "execute_result"
    }
   ],
   "source": [
    "delayLineList = list(map(lambda x: x.split(':')[0].split(','), delayUpdates))\n",
    "delayLineList\n",
    "# After this, your delayLineList should be\n",
    "# [['4', '5', '6'], ['G'], ['J', 'Z']]"
   ]
  },
  {
   "cell_type": "markdown",
   "metadata": {},
   "source": [
    "### Sub-Task 3\n",
    "\n",
    "Please complete the reduce command below to convert each the list of subway lists given in <i>delayLineList</i> into a single list of subway lines running with delay."
   ]
  },
  {
   "cell_type": "code",
   "execution_count": 5,
   "metadata": {},
   "outputs": [
    {
     "data": {
      "text/plain": [
       "['4', '5', '6 ', 'G ', 'J', 'Z ']"
      ]
     },
     "execution_count": 5,
     "metadata": {},
     "output_type": "execute_result"
    }
   ],
   "source": [
    "delayLine = reduce(lambda x,y: x + y, delayLineList)\n",
    "delayLine\n",
    "# After this, your delayLines should be\n",
    "# ['4', '5', '6', 'G', 'J', 'Z']"
   ]
  },
  {
   "cell_type": "markdown",
   "metadata": {},
   "source": [
    "### Sub-Task 4\n",
    "\n",
    "Please complete the reduce command below to count the number of lines in <b>delayLines</b>."
   ]
  },
  {
   "cell_type": "code",
   "execution_count": 6,
   "metadata": {},
   "outputs": [
    {
     "data": {
      "text/plain": [
       "6"
      ]
     },
     "execution_count": 6,
     "metadata": {},
     "output_type": "execute_result"
    }
   ],
   "source": [
    "sum_delayLines = reduce(lambda x,y: x + 1, delayLine, 0)   # initial value or first element of list\n",
    "                     \n",
    "\n",
    "\n",
    "\"\"\"\n",
    "agg = 0\n",
    "for y in delayedLines:\n",
    "    agg = (lambda x,y: x+1)(agg, y)    y is required because of reduce \"REQUIRED\"\n",
    "agg\n",
    "\"\"\"\n",
    "# After this, your delayLineCount should be\n",
    "# 6\n",
    "\n",
    "sum_delayLines"
   ]
  },
  {
   "cell_type": "markdown",
   "metadata": {},
   "source": [
    "## Task 2\n",
    "\n",
    "In this excercise, we would like to expand the combined service updatse into separate updates for each subway line. For example, instead of having a single line <b>'1,2,3 : Good Service'</b> to indicate that line 1, 2, and 3 are in good service, we would like to convert that into 3 separate updates: <b>'1 : Good Service'</b>, <b>'2 : Good Service'</b>, and <b>'3 : Good Service'</b>.\n",
    "\n",
    "You are tasked to write a chain of map(), filter(), and/or reduce() to convert the <b>status</b> variable into a list like below:"
   ]
  },
  {
   "cell_type": "raw",
   "metadata": {},
   "source": [
    "['1 : Good Service',\n",
    " '2 : Good Service',\n",
    " '3 : Good Service',\n",
    " '4 : Delays',\n",
    " '5 : Delays',\n",
    " '6 : Delays',\n",
    " '7 : Good Service',\n",
    " 'A : Good Service',\n",
    " 'C : Good Service',\n",
    " 'E : Planned Work',\n",
    " 'G : Delays',\n",
    " 'B : Good Service',\n",
    " 'D : Good Service',\n",
    " 'F : Good Service',\n",
    " 'M : Good Service',\n",
    " 'J : Delays',\n",
    " 'Z : Delays',\n",
    " 'L : Good Service',\n",
    " 'N : Planned Work',\n",
    " 'Q : Planned Work',\n",
    " 'R : Planned Work',\n",
    " 'S : Good Service']"
   ]
  },
  {
   "cell_type": "markdown",
   "metadata": {},
   "source": [
    "Please note that you may only use higher order functions without access to global variables. Your expression should contain only map(), filter() and/or reduce() and your custom function definitions."
   ]
  },
  {
   "cell_type": "code",
   "execution_count": 7,
   "metadata": {},
   "outputs": [
    {
     "data": {
      "text/plain": [
       "['1,2,3 : Good Service', '4,5,6 : Delays']"
      ]
     },
     "execution_count": 7,
     "metadata": {},
     "output_type": "execute_result"
    }
   ],
   "source": [
    "status[:2]"
   ]
  },
  {
   "cell_type": "code",
   "execution_count": 8,
   "metadata": {},
   "outputs": [
    {
     "data": {
      "text/plain": [
       "['1: Good Service',\n",
       " '2: Good Service',\n",
       " '3 : Good Service',\n",
       " '4: Delays',\n",
       " '5: Delays',\n",
       " '6 : Delays',\n",
       " '7 : Good Service',\n",
       " 'A: Good Service',\n",
       " 'C : Good Service',\n",
       " 'E : Planned Work',\n",
       " 'G : Delays',\n",
       " 'B: Good Service',\n",
       " 'D: Good Service',\n",
       " 'F: Good Service',\n",
       " 'M : Good Service',\n",
       " 'J: Delays',\n",
       " 'Z : Delays',\n",
       " 'L : Good Service',\n",
       " 'N: Planned Work',\n",
       " 'Q: Planned Work',\n",
       " 'R : Planned Work',\n",
       " 'S : Good Service']"
      ]
     },
     "execution_count": 8,
     "metadata": {},
     "output_type": "execute_result"
    }
   ],
   "source": [
    "# <ANY FUNCTION TO BE USED IN YOUR HOF>\n",
    "def transform(x):\n",
    "    lines, status = x.split(':')\n",
    "    lines = lines.split(',')\n",
    "    return list(map(lambda x: ':'.join((x,status)), lines))\n",
    "updates = reduce(lambda x,y : x+y, map(transform, status)) \n",
    "\n",
    "# The expected value of updates is the list shown above\n",
    "updates"
   ]
  },
  {
   "cell_type": "markdown",
   "metadata": {},
   "source": [
    "## Task 3\n",
    "\n",
    "We would like to write an HOF expression to count the total number of trip activities involved each station. For example, if a rider starts a trip at station A and ends at station B, each station A and B will receive +1 count for  the trip. The output must be tuples, each consisting of a station name and a total count. A portion of the expected output are included below."
   ]
  },
  {
   "cell_type": "code",
   "execution_count": 9,
   "metadata": {},
   "outputs": [
    {
     "data": {
      "text/plain": [
       "[('8 Ave & W 31 St', 1065),\n",
       " ('W 54 St & 9 Ave', 134),\n",
       " ('E 17 St & Broadway', 943),\n",
       " ('1 Ave & E 15 St', 795),\n",
       " ('Grand Army Plaza & Central Park S', 291),\n",
       " ('Barrow St & Hudson St', 426),\n",
       " ('6 Ave & Broome St', 227),\n",
       " ('6 Ave & W 33 St', 517),\n",
       " ('Lawrence St & Willoughby St', 128),\n",
       " ('Atlantic Ave & Fort Greene Pl', 70)]"
      ]
     },
     "execution_count": 9,
     "metadata": {},
     "output_type": "execute_result"
    }
   ],
   "source": [
    "import csv\n",
    "def extract(x):\n",
    "    return x['start_station_name'], x['end_station_name']\n",
    "\n",
    "def reducer (count,y):       # y = (x['start_station_name'], x['end_station_name'])\n",
    "    for station_name in y:        \n",
    "        count[station_name] = count.get(station_name, 0) +1\n",
    "    return count\n",
    "    \n",
    "    \n",
    "with open('citibike.csv', 'r') as fi:\n",
    "    reader = csv.DictReader(fi)\n",
    "    output1 = reduce(reducer, map(extract, reader), {})   # to make the output in dictionary  & initial is dictionary \n",
    "\n",
    "list(output1.items())[:10]"
   ]
  },
  {
   "cell_type": "markdown",
   "metadata": {},
   "source": [
    "## Task 4\n",
    "\n",
    "Next, we would like to do the same task as Task 3, but only keep the stations with more than 1000 trips involved. Please add your HOF expression below."
   ]
  },
  {
   "cell_type": "code",
   "execution_count": 10,
   "metadata": {},
   "outputs": [
    {
     "data": {
      "text/plain": [
       "[('8 Ave & W 31 St', 1065),\n",
       " ('W 41 St & 8 Ave', 1095),\n",
       " ('Lafayette St & E 8 St', 1013),\n",
       " ('W 21 St & 6 Ave', 1057),\n",
       " ('E 43 St & Vanderbilt Ave', 1003)]"
      ]
     },
     "execution_count": 10,
     "metadata": {},
     "output_type": "execute_result"
    }
   ],
   "source": [
    "with open('citibike.csv', 'r') as fi:\n",
    "    reader = csv.DictReader(fi)\n",
    "    output2 = filter(lambda x: x[1] > 1000, output1.items())\n",
    "\n",
    "list(output2)"
   ]
  },
  {
   "cell_type": "markdown",
   "metadata": {},
   "source": [
    "## Task 5\n",
    "\n",
    "We would like to count the number of trips taken between pairs of stations. Trips taken from station A to station B or  from station B to station A are both counted towards the station pair A and B. *Please note that the station pair should be identified by station names, as a tuple, and **in lexical order**, i.e. **(A,B)** instead of ~~(B,A)~~ in this case*. The output must be tuples, each consisting of the station pair identification and a count. A portion of the expected output are included below. Please provide your HOF expression."
   ]
  },
  {
   "cell_type": "code",
   "execution_count": 11,
   "metadata": {},
   "outputs": [
    {
     "data": {
      "text/plain": [
       "[(('1 Ave & E 15 St', '1 Ave & E 15 St'), 5),\n",
       " (('1 Ave & E 15 St', '1 Ave & E 44 St'), 6),\n",
       " (('1 Ave & E 15 St', '11 Ave & W 27 St'), 1),\n",
       " (('1 Ave & E 15 St', '2 Ave & E 31 St'), 9),\n",
       " (('1 Ave & E 15 St', '5 Ave & E 29 St'), 2),\n",
       " (('1 Ave & E 15 St', '6 Ave & Broome St'), 3),\n",
       " (('1 Ave & E 15 St', '6 Ave & Canal St'), 1),\n",
       " (('1 Ave & E 15 St', '8 Ave & W 31 St'), 5),\n",
       " (('1 Ave & E 15 St', '9 Ave & W 14 St'), 3),\n",
       " (('1 Ave & E 15 St', '9 Ave & W 16 St'), 3)]"
      ]
     },
     "execution_count": 11,
     "metadata": {},
     "output_type": "execute_result"
    }
   ],
   "source": [
    "def extract3(x):\n",
    "    return tuple(sorted([x['start_station_name'], x['end_station_name']]))\n",
    "\n",
    "def reducer3(count,y):\n",
    "    \n",
    "    count[y] = count.get(y, 0) +1\n",
    "    return count\n",
    "    \n",
    "    \n",
    "with open('citibike.csv', 'r') as fi:\n",
    "    reader = csv.DictReader(fi)\n",
    "    output3 = reduce(reducer3, map(extract3, reader), {})   # to make the output in dictionary   \n",
    "\n",
    "sorted(output3.items())[:10]"
   ]
  },
  {
   "cell_type": "markdown",
   "metadata": {},
   "source": [
    "## Task 6\n",
    "\n",
    "Next, we would like to futher process the output from Task 5 to determine the station popularity among all of the station pairs that have 35 or more trips. The popularity of station is calculated by how many times it appears on the list. In other words, we would like to first filter the station pairs to only those that have 35 or more trips. Then, among these pairs, we count how many time each station appears and report back the counts. The output will be tuples, each consisting of the station name and a count. The expected output are included below. As illustrated, *W 41 St & 8 Ave* station is the most \"popular\" with 4 appearances. Please provide your HOF expression below. You can use the output3 from the previous task."
   ]
  },
  {
   "cell_type": "code",
   "execution_count": 12,
   "metadata": {},
   "outputs": [
    {
     "data": {
      "text/plain": [
       "[('Lafayette St & E 8 St', 3),\n",
       " ('8 Ave & W 31 St', 3),\n",
       " ('W 41 St & 8 Ave', 3),\n",
       " ('E 33 St & 2 Ave', 2),\n",
       " ('W 31 St & 7 Ave', 2),\n",
       " ('11 Ave & W 27 St', 2),\n",
       " ('W 20 St & 11 Ave', 2),\n",
       " ('W 33 St & 7 Ave', 2),\n",
       " ('E 24 St & Park Ave S', 2),\n",
       " ('E 43 St & Vanderbilt Ave', 2),\n",
       " ('E 10 St & Avenue A', 1),\n",
       " ('E 6 St & Avenue B', 1),\n",
       " ('10 Ave & W 28 St', 1),\n",
       " ('E 32 St & Park Ave', 1),\n",
       " ('E 27 St & 1 Ave', 1),\n",
       " ('W 26 St & 8 Ave', 1),\n",
       " ('W 17 St & 8 Ave', 1),\n",
       " ('9 Ave & W 22 St', 1),\n",
       " ('W 21 St & 6 Ave', 1),\n",
       " ('11 Ave & W 41 St', 1),\n",
       " ('8 Ave & W 33 St', 1),\n",
       " ('E 7 St & Avenue A', 1),\n",
       " ('Pershing Square South', 1),\n",
       " ('Vesey Pl & River Terrace', 1),\n",
       " ('West Thames St', 1),\n",
       " ('Pershing Square North', 1),\n",
       " ('Adelphi St & Myrtle Ave', 1),\n",
       " ('DeKalb Ave & Hudson Ave', 1),\n",
       " ('E 47 St & Park Ave', 1)]"
      ]
     },
     "execution_count": 12,
     "metadata": {},
     "output_type": "execute_result"
    }
   ],
   "source": [
    "def reducer (count,y):\n",
    "    for station_name in y:         # y is the output\n",
    "        count[station_name] = count.get(station_name, 0) +1\n",
    "    return count\n",
    "\n",
    "output4 = reduce(reducer, map(lambda x: x[0],\n",
    "                 filter(lambda x: x[1] >35, output3.items())),\n",
    "                 {})\n",
    "sorted(output4.items(), key=lambda x:-x[1])"
   ]
  },
  {
   "cell_type": "markdown",
   "metadata": {},
   "source": [
    "## Task 7\n",
    "\n",
    "In this task, you are asked to compute the station with the most riders started from, per each gender of the *'Subscriber'* user. Meaning, what was the station name with the highest number of bike pickups for female riders, for male riders and for unknown riders.\n",
    "\n",
    "The output will be a list of tuples, each includes a gender label (as indicated below) and another tuple consisting of a station name, and the total number of trips started at that station for that gender. The expected output are included below. Please provide your HOF expression below.\n",
    "\n",
    "The label mapping for the gender column in citibike.csv is: (Zero=**Unknown**; 1=**Male**; 2=**Female**)"
   ]
  },
  {
   "cell_type": "code",
   "execution_count": 13,
   "metadata": {},
   "outputs": [
    {
     "name": "stdout",
     "output_type": "stream",
     "text": [
      "Female ('W 21 St & 6 Ave', 107)\n",
      "Male ('8 Ave & W 31 St', 488)\n",
      "Unknown ('Central Park S & 6 Ave', 32)\n"
     ]
    }
   ],
   "source": [
    "\n",
    "def extract7(x):\n",
    "    return x['start_station_name'], x['gender']\n",
    "\n",
    "def reducer7(count, y):\n",
    "    if int(y[1]) == 0:\n",
    "        count['Unknown'][y[0]] = count['Unknown'].get(y[0],0) + 1\n",
    "        return count\n",
    "    elif int(y[1]) == 1:\n",
    "        count['Male'][y[0]] = count['Male'].get(y[0],0) + 1\n",
    "        return count\n",
    "    else: \n",
    "        count['Female'][y[0]] = count['Female'].get(y[0],0) + 1\n",
    "        return count\n",
    "        \n",
    "        \n",
    "with open('citibike.csv', 'r') as fi:\n",
    "    reader = csv.DictReader(fi)\n",
    "    output5 = reduce(reducer7, map(extract7, reader), {'Unknown': {}, 'Male': {}, 'Female': {}  })\n",
    "\n",
    "print('Female', sorted(output5['Female'].items(), key = lambda x:-x[1])[0])\n",
    "print('Male', sorted(output5['Male'].items(), key = lambda x:-x[1])[0])\n",
    "print('Unknown', sorted(output5['Unknown'].items(), key = lambda x:-x[1])[0])"
   ]
  },
  {
   "cell_type": "markdown",
   "metadata": {
    "collapsed": true
   },
   "source": [
    "## Task 8\n",
    "\n",
    "In this excercise, you are tasked to perform a similar task as in Lab 2: extracting the birth year of the first 'Subscriber' ride of the day from the *citibike.csv*. However, instead of iterating through the stream using generators, you are asked to complete the task using higher order functions map(), filter() and/or reduce(). You are free to define additional functions to be used in your higher order functions, however, you are not allowed to use global variables within these functions without being passed in as arguments."
   ]
  },
  {
   "cell_type": "code",
   "execution_count": 14,
   "metadata": {
    "scrolled": false
   },
   "outputs": [
    {
     "data": {
      "text/plain": [
       "['1978', '1992', '1982', '1969', '1971', '1989', '1963']"
      ]
     },
     "execution_count": 14,
     "metadata": {},
     "output_type": "execute_result"
    }
   ],
   "source": [
    "def getSubscriber(x):\n",
    "    return x['usertype']=='Subscriber'\n",
    "\n",
    "def reducer8(x,y):\n",
    "    day = y['starttime'].split(' ')[0]       # '2015-02-01 00:00:00+00'.split(' ')[0]\n",
    "    if len(x)==0 or day != x[-1][0] :        # if New day\n",
    "        x.append((day, y['birth_year']))\n",
    "    return x\n",
    "    \n",
    "with open('citibike.csv','r') as fi:\n",
    "    reader = csv.DictReader(fi)\n",
    "    first_birth_years = reduce(reducer8, filter(getSubscriber,reader),\n",
    "                                  [] )\n",
    "\n",
    "list(map(lambda x: x[1], first_birth_years))\n",
    "\n",
    "# After this, your first_birth_years should be\n",
    "# [1978, 1992, 1982, 1969, 1971, 1989, 1963]"
   ]
  }
 ],
 "metadata": {
  "kernelspec": {
   "display_name": "Python 3",
   "language": "python",
   "name": "python3"
  },
  "language_info": {
   "codemirror_mode": {
    "name": "ipython",
    "version": 3
   },
   "file_extension": ".py",
   "mimetype": "text/x-python",
   "name": "python",
   "nbconvert_exporter": "python",
   "pygments_lexer": "ipython3",
   "version": "3.7.1"
  }
 },
 "nbformat": 4,
 "nbformat_minor": 1
}
