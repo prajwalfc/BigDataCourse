{
 "cells": [
  {
   "cell_type": "code",
   "execution_count": 90,
   "metadata": {},
   "outputs": [],
   "source": [
    "def createIndex(shapefile):\n",
    "    import rtree\n",
    "    import fiona.crs\n",
    "    import geopandas as gpd\n",
    "    zones = gpd.read_file(shapefile).to_crs(fiona.crs.from_epsg(2263))\n",
    "    index = rtree.Rtree()\n",
    "    for idx,geometry in enumerate(zones.geometry):\n",
    "        index.insert(idx, geometry.bounds)\n",
    "    return (index, zones)"
   ]
  },
  {
   "cell_type": "code",
   "execution_count": 91,
   "metadata": {},
   "outputs": [],
   "source": [
    "def findZone(p, index, zones):\n",
    "    match = index.intersection((p.x, p.y, p.x, p.y))\n",
    "    for idx in match:\n",
    "        if zones.geometry[idx].contains(p):\n",
    "            return idx\n",
    "    return None"
   ]
  },
  {
   "cell_type": "code",
   "execution_count": 92,
   "metadata": {},
   "outputs": [],
   "source": [
    "def processTrips(pid, records):\n",
    "    import csv\n",
    "    import pyproj\n",
    "    import shapely.geometry as geom\n",
    "    import geopandas as gpd\n",
    "    import fiona\n",
    "    neighborhoods = gpd.read_file('neighborhoods.geojson').to_crs(fiona.crs.from_epsg(2263))\n",
    "    boroughs = gpd.read_file('boroughs.geojson').to_crs(fiona.crs.from_epsg(2263))\n",
    "    index_neighbourhood,zone_neighbourhood = createIndex('neighborhoods.geojson')\n",
    "    proj = pyproj.Proj(init=\"epsg:2263\", preserve_units=True)    \n",
    "    if pid ==0:\n",
    "        next(records)\n",
    "    reader = csv.reader(records)\n",
    "    for ls in reader:\n",
    "        lst=[]\n",
    "        isAllDigits = True\n",
    "        try:\n",
    "            l = [ls[5],ls[6],ls[9],ls[10]]#there is a blank line after header,this try catch handles it.\n",
    "            lst = list(map(lambda x: float(x),l))#there is a blank line after header,this try catch handles it.\n",
    "        except IndexError:\n",
    "            pass\n",
    "        except ValueError:\n",
    "            isAllDigits = False\n",
    "        if(lst and isAllDigits ):\n",
    "            start = geom.Point(proj(lst[0],lst[1]))\n",
    "            end = geom.Point(proj(lst[2],lst[3]))\n",
    "            start_index = findZone(start,index_neighbourhood,zone_neighbourhood)\n",
    "            end_index = findZone(end,index_neighbourhood,zone_neighbourhood)\n",
    "            if None not in [start_index, end_index] :\n",
    "                #print(count,boroughs['boroname'][end_index],neighborhoods['neighborhood'][start_index],int(1))\n",
    "                yield((neighborhoods['borough'][end_index],neighborhoods['neighborhood'][start_index]),1)"
   ]
  },
  {
   "cell_type": "code",
   "execution_count": 93,
   "metadata": {},
   "outputs": [],
   "source": [
    "if __name__=='__main__':\n",
    "    from heapq import nlargest\n",
    "    rdd = sc.textFile('/data/share/bdm/yellow_tripdata_2011-05.csv')\\\n",
    "    .mapPartitionsWithIndex(processTrips)\\\n",
    "    .reduceByKey(lambda x,y:x+y)\\\n",
    "    .map(lambda x :(x[0][0],x[0][1],x[1]))\\\n",
    "    .groupBy(lambda x: x[0])\\\n",
    "    .flatMap(lambda g: nlargest(3, g[1], key=lambda x: x[2]))\\\n",
    "    .saveAsTextFile(\"res_opt18\")"
   ]
  },
  {
   "cell_type": "code",
   "execution_count": null,
   "metadata": {},
   "outputs": [],
   "source": []
  }
 ],
 "metadata": {
  "kernelspec": {
   "display_name": "Python 3",
   "language": "python",
   "name": "python3"
  },
  "language_info": {
   "codemirror_mode": {
    "name": "ipython",
    "version": 3
   },
   "file_extension": ".py",
   "mimetype": "text/x-python",
   "name": "python",
   "nbconvert_exporter": "python",
   "pygments_lexer": "ipython3",
   "version": "3.7.3"
  }
 },
 "nbformat": 4,
 "nbformat_minor": 2
}
