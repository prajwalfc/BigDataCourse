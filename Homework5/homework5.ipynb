{
 "cells": [
  {
   "cell_type": "code",
   "execution_count": 79,
   "metadata": {},
   "outputs": [],
   "source": [
    "# import geopandas as gpd\n",
    "# import fiona\n",
    "# neighborhoods = gpd.read_file('neighborhoods.geojson').to_crs(fiona.crs.from_epsg(2263))\n",
    "# neighborhoods\n",
    "# boroughs = gpd.read_file('boroughs.geojson').to_crs(fiona.crs.from_epsg(2263))\n",
    "# boroughs"
   ]
  },
  {
   "cell_type": "code",
   "execution_count": 158,
   "metadata": {},
   "outputs": [],
   "source": [
    "def createIndex(shapefile):\n",
    "    import rtree\n",
    "    import fiona.crs\n",
    "    import geopandas as gpd\n",
    "    zones = gpd.read_file(shapefile).to_crs(fiona.crs.from_epsg(2263))\n",
    "    index = rtree.Rtree()\n",
    "    for idx,geometry in enumerate(zones.geometry):\n",
    "        index.insert(idx, geometry.bounds)\n",
    "    return (index, zones)"
   ]
  },
  {
   "cell_type": "code",
   "execution_count": 159,
   "metadata": {},
   "outputs": [],
   "source": [
    "def findZone(p, index, zones):\n",
    "    match = index.intersection((p.x, p.y, p.x, p.y))\n",
    "    for idx in match:\n",
    "        if zones.geometry[idx].contains(p):\n",
    "            return idx\n",
    "    return None"
   ]
  },
  {
   "cell_type": "code",
   "execution_count": 165,
   "metadata": {},
   "outputs": [],
   "source": [
    "def processTrips(pid, records):\n",
    "    import csv\n",
    "    count =0\n",
    "    import pyproj\n",
    "    import shapely.geometry as geom\n",
    "    import geopandas as gpd\n",
    "    import fiona\n",
    "    neighborhoods = gpd.read_file('neighborhoods.geojson').to_crs(fiona.crs.from_epsg(2263))\n",
    "    boroughs = gpd.read_file('boroughs.geojson').to_crs(fiona.crs.from_epsg(2263))\n",
    "    index_neighbourhood,zone_neighbourhood = createIndex('neighborhoods.geojson')\n",
    "    index_boroughs,zone_boroughs = createIndex('boroughs.geojson')\n",
    "    if pid ==0:\n",
    "        next(records)\n",
    "    for i in records:\n",
    "        ls = i.split(',')\n",
    "        lst=[]\n",
    "        try:\n",
    "            lst = [ls[3],ls[2],ls[5],ls[4]]#there is a blank line after header,this try catch handles it.\n",
    "        except IndexError:\n",
    "             pass\n",
    "        if(lst and ('NULL' not in lst)):\n",
    "            proj = pyproj.Proj(init=\"epsg:2263\", preserve_units=True)    \n",
    "            start = geom.Point(proj(float(lst[0]),float(lst[1])))\n",
    "            end = geom.Point(proj(float(lst[2]),float(lst[3])))\n",
    "            start_index = findZone(start,index_neighbourhood,zone_neighbourhood)\n",
    "            end_index = findZone(end,index_boroughs,zone_boroughs)\n",
    "            if None not in [start_index, end_index] :\n",
    "                #print(count,boroughs['boroname'][end_index],neighborhoods['neighborhood'][start_index],int(1))\n",
    "                yield(boroughs['boroname'][end_index],neighborhoods['neighborhood'][start_index],int(1))"
   ]
  },
  {
   "cell_type": "code",
   "execution_count": 166,
   "metadata": {},
   "outputs": [],
   "source": [
    "rdd = sc.textFile('yellow1.csv')\n",
    "counts = rdd.mapPartitionsWithIndex(processTrips)\n",
    "a = counts.groupBy(lambda x:(x[0],x[1])).mapValues(len)"
   ]
  },
  {
   "cell_type": "code",
   "execution_count": 167,
   "metadata": {},
   "outputs": [
    {
     "data": {
      "text/plain": [
       "[(('Manhattan', 'East Village'), 22046),\n",
       " (('Manhattan', 'Theater District'), 10858),\n",
       " (('Brooklyn', \"Hell's Kitchen\"), 761),\n",
       " (('Bronx', 'Upper East Side'), 319),\n",
       " (('Manhattan', 'Central Park'), 4411),\n",
       " (('Manhattan', 'West Village'), 16619),\n",
       " (('Manhattan', 'Midtown'), 49562),\n",
       " (('Manhattan', 'Kips Bay'), 9536),\n",
       " (('Manhattan', 'Nolita'), 2190),\n",
       " (('Manhattan', 'Chelsea'), 34550),\n",
       " (('Queens', 'Astoria'), 1160),\n",
       " (('Manhattan', \"Hell's Kitchen\"), 22045),\n",
       " (('Queens', 'Sunnyside'), 440),\n",
       " (('Manhattan', 'Murray Hill'), 8867),\n",
       " (('Manhattan', 'Morningside Heights'), 1872),\n",
       " (('Brooklyn', 'West Village'), 1325),\n",
       " (('Queens', 'Upper East Side'), 2221),\n",
       " (('Manhattan', 'Long Island City'), 802),\n",
       " (('Brooklyn', 'Chelsea'), 1849),\n",
       " (('Brooklyn', 'East Village'), 2369),\n",
       " (('Bronx', 'Gramercy'), 27),\n",
       " (('Manhattan', 'Flatiron District'), 5921),\n",
       " (('Manhattan', 'Battery Park City'), 2594),\n",
       " (('Queens', 'LaGuardia Airport'), 983),\n",
       " (('Brooklyn', 'NoHo'), 390),\n",
       " (('Brooklyn', 'Chinatown'), 380),\n",
       " (('Brooklyn', 'Midtown'), 1676),\n",
       " (('Manhattan', 'Chinatown'), 1722),\n",
       " (('Brooklyn', 'Brooklyn Heights'), 279),\n",
       " (('Bronx', 'Lower East Side'), 43),\n",
       " (('Brooklyn', 'Bedford-Stuyvesant'), 563),\n",
       " (('Manhattan', 'Civic Center'), 632),\n",
       " (('Queens', 'Prospect Heights'), 24),\n",
       " (('Manhattan', 'DUMBO'), 59),\n",
       " (('Queens', 'SoHo'), 257),\n",
       " (('Brooklyn', 'Greenpoint'), 667),\n",
       " (('Manhattan', 'NoHo'), 3274),\n",
       " (('Queens', 'Williamsburg'), 341),\n",
       " (('Brooklyn', 'Prospect Park'), 45),\n",
       " (('Brooklyn', 'Theater District'), 426),\n",
       " (('Brooklyn', 'Bushwick'), 347),\n",
       " (('Queens', 'Flushing'), 35),\n",
       " (('Manhattan', 'Greenpoint'), 259),\n",
       " (('Brooklyn', 'Clinton Hill'), 257),\n",
       " (('Brooklyn', 'Park Slope'), 625),\n",
       " (('Manhattan', 'Inwood'), 84),\n",
       " (('Bronx', 'Upper West Side'), 290),\n",
       " (('Queens', 'East Harlem'), 173),\n",
       " (('Manhattan', 'Fort Greene'), 183),\n",
       " (('Queens', 'Tribeca'), 192)]"
      ]
     },
     "execution_count": 167,
     "metadata": {},
     "output_type": "execute_result"
    }
   ],
   "source": [
    "a.take(50)"
   ]
  },
  {
   "cell_type": "code",
   "execution_count": 168,
   "metadata": {},
   "outputs": [],
   "source": [
    "from heapq import nlargest\n",
    "b=a.map(lambda x:(x[0][0],x[0][1],x[1]))\n",
    "result = b.groupBy(lambda x: x[0]).flatMap(lambda g: nlargest(3, g[1], key=lambda x: x[2]))\n",
    "result.saveAsTextFile(\"output1234\")"
   ]
  },
  {
   "cell_type": "code",
   "execution_count": 13,
   "metadata": {},
   "outputs": [],
   "source": [
    "#print(result)"
   ]
  },
  {
   "cell_type": "code",
   "execution_count": 10,
   "metadata": {},
   "outputs": [
    {
     "name": "stdout",
     "output_type": "stream",
     "text": [
      "[('Manhattan', 'Midtown', 101), ('Manhattan', 'East Village', 81), ('Manhattan', 'Upper East Side', 73), ('Brooklyn', 'Williamsburg', 20), ('Brooklyn', 'West Village', 8), ('Brooklyn', 'Lower East Side', 8), ('Bronx', 'Upper East Side', 4), ('Bronx', 'Midtown', 3), ('Bronx', 'Chelsea', 2), ('Queens', 'Midtown', 7), ('Queens', 'Astoria', 5), ('Queens', 'Williamsburg', 4)]\n"
     ]
    }
   ],
   "source": [
    "# if __name__=='__main__':\n",
    "#     rdd = sc.textFile('yellow.csv')\n",
    "#     counts = rdd.mapPartitionsWithIndex(processTrips)\n",
    "#     a = counts.groupBy(lambda x:(x[0],x[1])).mapValues(len)\n",
    "#     from heapq import nlargest\n",
    "#     b=a.map(lambda x:(x[0][0],x[0][1],x[1]))\n",
    "#     result = b.groupBy(lambda x: x[0]).flatMap(lambda g: nlargest(3, g[1], key=lambda x: x[2])).collect()\n",
    "#     print(result)\n",
    "    "
   ]
  },
  {
   "cell_type": "code",
   "execution_count": null,
   "metadata": {},
   "outputs": [],
   "source": []
  }
 ],
 "metadata": {
  "kernelspec": {
   "display_name": "Python 3",
   "language": "python",
   "name": "python3"
  },
  "language_info": {
   "codemirror_mode": {
    "name": "ipython",
    "version": 3
   },
   "file_extension": ".py",
   "mimetype": "text/x-python",
   "name": "python",
   "nbconvert_exporter": "python",
   "pygments_lexer": "ipython3",
   "version": "3.7.3"
  }
 },
 "nbformat": 4,
 "nbformat_minor": 2
}
