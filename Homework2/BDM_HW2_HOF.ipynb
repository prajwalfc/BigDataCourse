{
 "cells": [
  {
   "cell_type": "markdown",
   "metadata": {},
   "source": [
    "# Homework 2 - Higher Order Functions (10 pts)\n",
    "\n",
    "In this homework, we will practice Python's higher order functions. Please note that you may only use higher order functions **without access to global variables**. Your expression should contain only **map()**, **filter()**, **sorted**, **reduce()** and your custom functions.\n",
    "\n",
    "You are required to turn in this notebook with all the parts filled in between <>. Your notebook must be named BDM\\_HW2\\_HOF_NetID.ipynb.\n",
    "\n",
    "We will be using the provided the Graduation Outcomes data set for cohorts from 2001 through 2006 (Classes of 2005 through 2010) from the NYC Department of Education (the data handle on NYC Open Data is **avir-tzek**). The data is available on online as **nyc_grads.csv**."
   ]
  },
  {
   "cell_type": "markdown",
   "metadata": {},
   "source": [
    "#### The first ten records of the data are shown below. Please note, the data are sorted by \"Demographics\", then \"Borough\", then \"Cohort\"."
   ]
  },
  {
   "cell_type": "code",
   "execution_count": null,
   "metadata": {},
   "outputs": [],
   "source": [
    "DO NOT RUN THIS CELL"
   ]
  },
  {
   "cell_type": "code",
   "execution_count": 1,
   "metadata": {},
   "outputs": [],
   "source": [
    "import csv\n",
    "from functools import reduce"
   ]
  },
  {
   "cell_type": "markdown",
   "metadata": {},
   "source": [
    "## Task 1 (3 points)\n",
    "\n",
    "In this data set, we would like to inspect whether there is a correlation between the dropped out percentage and \n",
    "the percentage of students graduated with advanced regents for schools in NYC. Thus, we must compute the ratio of **Dropped Out** and **Advanced Regents** for each borough, and for each year by dividing them by the **Total Cohort** value. Thus, the only useful records for us are those with the **Demographic** value equals to **'Borough Total'**, aka. you must filter the data to this type of demographic first.\n",
    "\n",
    "Please complete the HOF expression below to transform each input record into a tuple of only 4 elements: **Borough**, **Cohort**, **Ratio_Advanced**, **Ratio_Dropped**. Note that, your expression must user **reader** as input. Though you are encouraged to write your helper functions (instead of lambdas) to make your expression concise, global variables are absolutely not allowed. No exception. The output must be exactly as below."
   ]
  },
  {
   "cell_type": "code",
   "execution_count": null,
   "metadata": {},
   "outputs": [],
   "source": [
    "# I added thi cell please delete before submission.\n",
    "[('Bronx', '2001', 0.08713874094123811, 0.21286999039552956),\n",
    " ('Bronx', '2002', 0.08244680851063829, 0.1778590425531915),\n",
    " ('Bronx', '2003', 0.09206279342723005, 0.1813380281690141),\n",
    " ('Bronx', '2004', 0.09711779448621553, 0.16033138401559455),\n",
    " ('Bronx', '2005', 0.10174629324546952, 0.1414827018121911),\n",
    " ('Bronx', '2006', 0.10000641889723345, 0.1541819115475961),\n",
    " ('Brooklyn', '2001', 0.14172636641450828, 0.1776965081909724),\n",
    " ('Brooklyn', '2002', 0.1376874279123414, 0.16190888119953864),\n",
    " ('Brooklyn', '2003', 0.15182338051935876, 0.14990156557607576),\n",
    " ('Brooklyn', '2004', 0.1673600858945108, 0.13300228157294322),\n",
    " ('Brooklyn', '2005', 0.16201692714164168, 0.11544489722806861),\n",
    " ('Brooklyn', '2006', 0.1676060783694819, 0.12314560129864274),\n",
    " ('Manhattan', '2001', 0.14609313338595106, 0.1548539857932123),\n",
    " ('Manhattan', '2002', 0.13904776052885687, 0.1294659436975414),\n",
    " ('Manhattan', '2003', 0.18207363642913754, 0.1245766986094099),\n",
    " ('Manhattan', '2004', 0.18582666754809282, 0.12176902227804588),\n",
    " ('Manhattan', '2005', 0.1687180458246544, 0.10080161585558291),\n",
    " ('Manhattan', '2006', 0.16940789473684212, 0.10258284600389864),\n",
    " ('Queens', '2001', 0.15836811474927986, 0.15848568573276114),\n",
    " ('Queens', '2002', 0.15534990691052458, 0.15419997809659403),\n",
    " ('Queens', '2003', 0.18436057561770297, 0.14759706760792832),\n",
    " ('Queens', '2004', 0.19246995994659546, 0.13377837116154873),\n",
    " ('Queens', '2005', 0.1854338578237917, 0.12480139408538773),\n",
    " ('Queens', '2006', 0.18595970958175684, 0.11534921771142244),\n",
    " ('Staten Island', '2001', 0.2262396694214876, 0.10769628099173553),\n",
    " ('Staten Island', '2002', 0.20827285921625543, 0.10304789550072568),\n",
    " ('Staten Island', '2003', 0.20934091986723566, 0.08866761498340446),\n",
    " ('Staten Island', '2004', 0.248430709802028, 0.09198454852728151),\n",
    " ('Staten Island', '2005', 0.2374439461883408, 0.08116591928251121),\n",
    " ('Staten Island', '2006', 0.25896154681729305, 0.08994134260265045)]"
   ]
  },
  {
   "cell_type": "code",
   "execution_count": null,
   "metadata": {},
   "outputs": [],
   "source": [
    "def transformDataStructure(x):\n",
    "    return({\"Borough\":x['Borough'],\n",
    "            'Cohort':x['Cohort'],\n",
    "            'Total Cohort':x['Total Cohort'],\n",
    "            'Advanced Regents':x['Advanced Regents'],\n",
    "            'Dropped Out':x['Dropped Out']})\n",
    "def addField(x):\n",
    "    y={}\n",
    "    y['Ratio_Advanced']=float(x['Advanced Regents'])/float(x['Total Cohort'])\n",
    "    y['Ratio_Dropped']=float(x['Dropped Out'])/float(x['Total Cohort'])\n",
    "    \n",
    "    return (x['Borough'],x['Cohort'],y['Ratio_Advanced'],y['Ratio_Dropped'])\n",
    "\n",
    "with open('nyc_grads.csv', 'r') as fi:\n",
    "    reader = csv.DictReader(fi)\n",
    "    output1 = list(map(addField,(map(transformDataStructure,(filter(lambda x:x[\"Demographic\"]=='Borough Total', reader))))))\n",
    "\n",
    "output1\n"
   ]
  },
  {
   "cell_type": "markdown",
   "metadata": {},
   "source": [
    "\n",
    "## Task 2 (3 points)\n",
    "\n",
    "Now given *output1* from Task 1, we need to compute the average ratio of dropped out and advanced regents per borough (i.e. averaging the numbers from 2001 to 2006 for each borough). Please complete the HOF expression below. Your output should be similar to the one provided. Your input is **output1**.\n",
    "\n",
    "Note: If you could not finish Task 1, you could use the output information above as input to your Task 2. Please try to use the least memory possible for this task."
   ]
  },
  {
   "cell_type": "code",
   "execution_count": null,
   "metadata": {},
   "outputs": [],
   "source": [
    "def transform(x):\n",
    "    return{'Borough':x[0],x[0]:(x[2],x[3])}\n",
    "def reduce1(x,y):\n",
    "    borough_name = y['Borough']\n",
    "    x[borough_name]=(x.get(borough_name,(0,0))[0]+y.get(borough_name)[0]/6,\n",
    "                          x.get(borough_name,(0,0))[1]+y.get(borough_name)[1]/6)\n",
    "    return x\n",
    "#the reduce1 does the reduction as below\n",
    "# {'Bronx': (0.0934198082513375, 0.17134384308218617),\n",
    "#  'Brooklyn': (0.15470337770864045, 0.14351662251104022),\n",
    "#  'Manhattan': (0.16519452307558913, 0.1223416853729485),\n",
    "#  'Queens': (0.1769903541049419, 0.13903528573260707),\n",
    "#  'Staten Island': (0.23144827521877345, 0.09375060031471816)}\n",
    "\n",
    "def mapDictToListOfTuples(x):\n",
    "        return x[0],x[1][0],x[1][1]\n",
    "            \n",
    "temp_dict = reduce(reduce1,(map(transform,output1)),{})\n",
    "\n",
    "output2 = list(map(mapDictToListOfTuples,temp_dict.items()))\n",
    "output2"
   ]
  },
  {
   "cell_type": "code",
   "execution_count": null,
   "metadata": {},
   "outputs": [],
   "source": [
    "#expected output2 Delete this\n",
    "[('Bronx', 0.0934198082513375, 0.17134384308218617),\n",
    " ('Brooklyn', 0.15470337770864048, 0.14351662251104022),\n",
    " ('Manhattan', 0.16519452307558916, 0.1223416853729485),\n",
    " ('Queens', 0.1769903541049419, 0.13903528573260707),\n",
    " ('Staten Island', 0.23144827521877342, 0.09375060031471814)]"
   ]
  },
  {
   "cell_type": "markdown",
   "metadata": {
    "collapsed": true
   },
   "source": [
    "\n",
    "## Task 3 (4 points)\n",
    "\n",
    "In this task, you are asked to complete Homework 1 using only map(), filter(), reduce(), and/or sorted() higher-order functions. Note that, instead of writing to a CSV file, the output can be printed in the notebook, similar to what presented below (some differences in the output format are tolerable)."
   ]
  },
  {
   "cell_type": "code",
   "execution_count": 21,
   "metadata": {},
   "outputs": [
    {
     "name": "stdout",
     "output_type": "stream",
     "text": [
      "P02291 16 1181.97\n",
      "P19498 17 989.99\n",
      "P32565 17 1006.09\n",
      "P33162 18 1210.92\n",
      "P39328 17 1129.01\n",
      "P58225 17 1349.82\n",
      "P61235 18 959.02\n",
      "P76615 18 1087.96\n",
      "P82222 17 950.05\n",
      "P92449 14 966.17\n"
     ]
    }
   ],
   "source": [
    "#<DEFINE YOUR HELPER FUNCTIONS HERE IF NEEDED>\n",
    "def transform(x):\n",
    "    return {'Customer ID':x['Customer ID'],'Product ID':x['Product ID'],'Item Cost':float(x['Item Cost'])}\n",
    "\n",
    "\n",
    "def reduce5(x,y):\n",
    "    product=y.get('Product ID') \n",
    "    # x has datastructure as \n",
    "    # { product1 : ([list of customer for that product],total revene of item till now),\n",
    "    #   product1 : ([list of customer for that product],total revene of item till now),.....}\n",
    "    \n",
    "    x[product] = (x.get(product,([],0))[0]+[y.get('Customer ID')],# add customer to list who bought that item\n",
    "                      x.get(product,([],0))[1]+y.get('Item Cost'))# add the cost to revenue to that item \n",
    "    return x\n",
    "\n",
    "\n",
    "def dictToTuple(x):\n",
    "    return x[0],len(set(x[1][0])),round(x[1][1],2) # list of customer is converted to set to get unique customers\n",
    "                                                   # and length taken to get number of unique customer that bought \n",
    "                                                   # the item\n",
    "\n",
    "with open('sale.csv', 'r') as fi:\n",
    "    reader = csv.DictReader(fi)\n",
    "    #output3 = list(map(transform, reader))\n",
    "    temp_data = reduce(reduce5,map(transform, reader),{})\n",
    "    output3 = list(map(dictToTuple,sorted(temp_data.items())))\n",
    "    \n",
    "# for key, value in sorted(output3.items()):\n",
    "#     customer_count=len(set(value[0]))\n",
    "#     revenue=value[1]\n",
    "#     print(key,customer_count,round(revenue,2))\n",
    "output3\n",
    "for items in output3:\n",
    "        print(*items)"
   ]
  },
  {
   "cell_type": "code",
   "execution_count": null,
   "metadata": {},
   "outputs": [],
   "source": [
    "# expected output for output3 delete this\n",
    "# P02291 16 1181.97\n",
    "# P19498 17 989.99\n",
    "# P32565 17 1006.09\n",
    "# P33162 18 1210.92\n",
    "# P39328 17 1129.01\n",
    "# P58225 17 1349.82\n",
    "# P61235 18 959.02\n",
    "# P76615 18 1087.96\n",
    "# P82222 17 950.05\n",
    "# P92449 14 966.17"
   ]
  },
  {
   "cell_type": "code",
   "execution_count": null,
   "metadata": {},
   "outputs": [],
   "source": []
  }
 ],
 "metadata": {
  "kernelspec": {
   "display_name": "Python 3",
   "language": "python",
   "name": "python3"
  },
  "language_info": {
   "codemirror_mode": {
    "name": "ipython",
    "version": 3
   },
   "file_extension": ".py",
   "mimetype": "text/x-python",
   "name": "python",
   "nbconvert_exporter": "python",
   "pygments_lexer": "ipython3",
   "version": "3.7.1"
  }
 },
 "nbformat": 4,
 "nbformat_minor": 1
}
