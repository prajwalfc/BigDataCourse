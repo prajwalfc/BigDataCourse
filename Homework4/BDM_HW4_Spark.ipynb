{
 "cells": [
  {
   "cell_type": "markdown",
   "metadata": {},
   "source": [
    "# Homework 4 - Spark\n",
    "\n",
    "In this homework, we are practicing Apache Spark.\n",
    "\n",
    "You are required to turn in this notebook as BDM\\_HW4\\_Spark\\_**NetId**.ipynb. You will be asked to complete each task using Apache Spark. Output can be printed in the notebook."
   ]
  },
  {
   "cell_type": "markdown",
   "metadata": {},
   "source": [
    "## Task 1 (5 points)\n",
    "\n",
    "You are asked to implement Homework 3 using Spark. The description is provided below for your convenience.\n",
    "\n",
    "You are asked to implement the Social Triangle example discussed in class. In particular, given the email dataset, please list all \"reciprocal\" relationships in the company. Recall that:\n",
    "\n",
    "If A emails B and B emails A, then A and B is *reciprocal*.\n",
    "\n",
    "If A emails B but B doesn’t email A, then A and B is *directed*.\n",
    "\n",
    "**Dataset:** We will use a subset of the open [Enron Email Dataset](https://www.cs.cmu.edu/~./enron/ \"Enron Email Dataset\"), which contains approximately 10,000 simplified email headers from the Enron Corporation. You can download this dataset from NYU Classes as **enron_mails_small.csv**. The file contains 3 columns *Date*, *From*, and *To*. Their description is as follows:\n",
    "\n",
    "|Column name|Description|\n",
    "|--|--|\n",
    "|Date |The date and time of the email, in the format YYYY-MM-DD hh-mm-ss, <br />e.g. \"1998-10-30 07:43:00\" |\n",
    "|From |The sender email address, <br />e.g. \"mark.taylor@enron.com\" |\n",
    "|To | A list of recipients' email addresses separated by semicolons ';', <br />e.g. \"jennifer.fraser@enron.com;jeffrey.hodge@enron.com\" |\n",
    "\n",
    "Note that, we only care about users employed by Enron, or only relationships having email addresses that end with *'@enron.com'*.\n",
    "\n",
    "The expected output is also provided below. For each reciprocal relationship, please output a tuple consisting of two strings. The first one is always **'reciprocal'**. And the second one is a string showing the name of the two person in the following format: **'Jane Doe : John Doe'**. The names should be presented in the lexical order, i.e. there will not be a 'John Doe : Jane Doe' since 'Jane' is ordered before 'John.\n",
    "\n",
    "Though the dataset only contains email addresses, not actual names, we're assuming that the email aliases were created based on their name. For example:\n",
    "\n",
    "|Email Address|Converted Name|\n",
    "|--|--|\n",
    "|mark.taylor@enron.com|Mark Taylor|\n",
    "|alan.aronowitz@enron.com|Alan Aronowitz|\n",
    "|marc.r.cutler@enron.com|Marc R Cutler|\n",
    "|hugh@enron.com|Hugh|\n",
    "\n",
    "Please fill the code block with a series of MapReduce jobs using your own mapper and reducer functions. Be sure to include the naming convention logic into one of your mappers and/or reducers."
   ]
  },
  {
   "cell_type": "code",
   "execution_count": 142,
   "metadata": {},
   "outputs": [],
   "source": [
    "SAT_FN = 'SAT_Results.csv'\n",
    "HSD_FN = 'DOE_High_School_Directory_2014-2015.csv'"
   ]
  },
  {
   "cell_type": "code",
   "execution_count": 123,
   "metadata": {},
   "outputs": [],
   "source": [
    "def oneToone(pid,rows):\n",
    "    if pid ==0:\n",
    "        next(rows)\n",
    "    for row in rows:\n",
    "        sender,receivers = row\n",
    "        receiver_list = receivers.split(';')\n",
    "        for receiver in receiver_list:\n",
    "            yield(sender,receiver)\n",
    "def emailToName(x):\n",
    "    tx,rx = x\n",
    "    tx = tx.split('@')[0]\n",
    "    rx = rx.split('@')[0]\n",
    "    tx =' '.join(map(lambda x:x.capitalize(),tx.split('.')))\n",
    "    rx =' '.join(map(lambda x:x.capitalize(),rx.split('.')))\n",
    "    return((tx,rx),1)"
   ]
  },
  {
   "cell_type": "code",
   "execution_count": 124,
   "metadata": {},
   "outputs": [],
   "source": [
    "dfEmail = spark.read.load(EN_FN,format='csv',header = True,inferSchema=True)"
   ]
  },
  {
   "cell_type": "code",
   "execution_count": 133,
   "metadata": {},
   "outputs": [
    {
     "data": {
      "text/plain": [
       "[('recipropcal', 'Brenda Whitehead : Elizabeth Sager'),\n",
       " ('recipropcal', 'Carol Clair : Debra Perlingiere'),\n",
       " ('recipropcal', 'Carol Clair : Mark Taylor'),\n",
       " ('recipropcal', 'Carol Clair : Richard Sanders'),\n",
       " ('recipropcal', 'Carol Clair : Sara Shackleton'),\n",
       " ('recipropcal', 'Carol Clair : Tana Jones'),\n",
       " ('recipropcal', 'Debra Perlingiere : Kevin Ruscitti'),\n",
       " ('recipropcal', 'Drew Fossum : Susan Scott'),\n",
       " ('recipropcal', 'Elizabeth Sager : Janette Elbertson'),\n",
       " ('recipropcal', 'Elizabeth Sager : Mark Haedicke'),\n",
       " ('recipropcal', 'Elizabeth Sager : Mark Taylor'),\n",
       " ('recipropcal', 'Elizabeth Sager : Richard Sanders'),\n",
       " ('recipropcal', 'Eric Bass : Susan Scott'),\n",
       " ('recipropcal', 'Fletcher Sturm : Greg Whalley'),\n",
       " ('recipropcal', 'Fletcher Sturm : Sally Beck'),\n",
       " ('recipropcal', 'Gerald Nemec : Susan Scott'),\n",
       " ('recipropcal', 'Grant Masson : Vince Kaminski'),\n",
       " ('recipropcal', 'Greg Whalley : Richard Sanders'),\n",
       " ('recipropcal', 'Janette Elbertson : Mark Taylor'),\n",
       " ('recipropcal', 'Janette Elbertson : Richard Sanders'),\n",
       " ('recipropcal', 'Liz Taylor : Mark Haedicke'),\n",
       " ('recipropcal', 'Mark Haedicke : Mark Taylor'),\n",
       " ('recipropcal', 'Mark Haedicke : Michelle Cash'),\n",
       " ('recipropcal', 'Mark Haedicke : Richard Sanders'),\n",
       " ('recipropcal', 'Mark Haedicke : Twanda Sweet'),\n",
       " ('recipropcal', 'Mark Taylor : Sara Shackleton'),\n",
       " ('recipropcal', 'Mark Taylor : Tana Jones'),\n",
       " ('recipropcal', 'Michelle Cash : Twanda Sweet'),\n",
       " ('recipropcal', 'Pinnamaneni Krishnarao : Vince Kaminski'),\n",
       " ('recipropcal', 'Richard Sanders : Sara Shackleton'),\n",
       " ('recipropcal', 'Rosalee Fleming : Steven Kean'),\n",
       " ('recipropcal', 'Sara Shackleton : Tana Jones'),\n",
       " ('recipropcal', 'Shirley Crenshaw : Vince Kaminski'),\n",
       " ('recipropcal', 'Stinson Gibner : Vince Kaminski'),\n",
       " ('recipropcal', 'Vasant Shanbhogue : Vince Kaminski')]"
      ]
     },
     "execution_count": 133,
     "metadata": {},
     "output_type": "execute_result"
    }
   ],
   "source": [
    "dfEmail = dfEmail.select('From','To')\n",
    "rddEmail = dfEmail.rdd.mapPartitionsWithIndex(oneToone)\\\n",
    "                 .filter(lambda x: '@enron.com' in x[0] and '.' in x[0].split('@')[0]  and ('@enron.com' in x[1] \n",
    "                    and '.' in x[1].split('@')[0]))\\\n",
    "                   .map(emailToName)\\\n",
    "                   .reduceByKey(lambda x,y:1)\\\n",
    "                   .map(lambda x: (tuple(sorted(x[0])),1))\\\n",
    "                   .reduceByKey(lambda x,y:x+y)\\\n",
    "                   .filter(lambda x:x[1]>1)\\\n",
    "                   .sortByKey()\\\n",
    "                   .map(lambda x:('recipropcal',x[0][0]+' : '+x[0][1]))\n",
    "rddEmail.collect()"
   ]
  },
  {
   "cell_type": "markdown",
   "metadata": {},
   "source": [
    "## Task 2 (5 points)\n",
    "\n",
    "You are asked to implement Task 2 of Lab 5. The description is provided below for your convenience.\n",
    "\n",
    "We’ll be using two NYC open data sets: the SAT Results and the NYC High School Directory data sets. Both can be downloaded from the links below, or from online class resources.\n",
    "\n",
    "**Dataset**: *Please note that each school is uniquely identified by an DBN code, which should be found on both data sets.*\n",
    "\n",
    "**SAT_Results.csv**\n",
    "Source: https://nycopendata.socrata.com/Education/SAT-Results/f9bf-2cp4  \n",
    "Description: “The most recent school level results for New York City on the SAT. Results are available at the school level for the graduating seniors of 2012.”\n",
    "\n",
    "**DOE_High_School_Directory_2014-2015.csv**\n",
    "Source: https://data.cityofnewyork.us/Education/DOE-High-School-Directory-2014-2015/n3p6-zve2  \n",
    "Description: “Directory of NYC High Schools.”\n",
    "\n",
    "We would like to know how the Math scores vary across bus lines or subway lines serving the schools. Your task is to compute the average Math scores of all schools along each bus line and subway line. You can find the bus and subway lines serving each school in the High School Dictionary as bus and subway columns.\n",
    "\n",
    "The expected results are two lists:\n",
    "1. A list of key/value pairs: with bus line as keys, and the average Math scores as values.\n",
    "2. A list of key/value pairs: with subway line as keys, and the average Math scores as values.\n",
    "\n",
    "The top ten lines with highest score are shown below."
   ]
  },
  {
   "cell_type": "code",
   "execution_count": 125,
   "metadata": {},
   "outputs": [],
   "source": [
    "HSD_FN = 'DOE_High_School_Directory_2014-2015.csv'\n",
    "SAT_FN = 'SAT_Results.csv'"
   ]
  },
  {
   "cell_type": "code",
   "execution_count": 126,
   "metadata": {},
   "outputs": [
    {
     "name": "stdout",
     "output_type": "stream",
     "text": [
      "+------+-------+------+\n",
      "|   DBN|ntakers| total|\n",
      "+------+-------+------+\n",
      "|02M047|     16|  6400|\n",
      "|21K410|    475|207575|\n",
      "|30Q301|     98| 43120|\n",
      "|17K382|     59| 22066|\n",
      "|18K637|     35| 13335|\n",
      "|32K403|     50| 18300|\n",
      "|09X365|     54| 18306|\n",
      "|11X270|     56| 22064|\n",
      "|05M367|     33| 12078|\n",
      "|14K404|     68| 24276|\n",
      "|30Q575|    135| 66420|\n",
      "|13K336|      9|  3366|\n",
      "|04M635|     48| 17712|\n",
      "|24Q264|     89| 40406|\n",
      "|17K408|     57| 19494|\n",
      "|19K618|     60| 22260|\n",
      "|27Q309|     36| 13644|\n",
      "|32K552|     67| 24388|\n",
      "|13K499|     72| 26208|\n",
      "|07X600|     76| 30400|\n",
      "+------+-------+------+\n",
      "only showing top 20 rows\n",
      "\n"
     ]
    }
   ],
   "source": [
    "dfScores = spark.read.load(SAT_FN,format='csv',header = True,inferSchema=True)\n",
    "dfScores = dfScores.select('DBN',\n",
    "                          dfScores['Num of SAT Test Takers'].cast('int').alias('ntakers'),\n",
    "                          dfScores['`SAT Math Avg. Score`'].cast('int').alias('score')\n",
    "                          ).na.drop()\n",
    "dfScores = dfScores.select('DBN','ntakers',\n",
    "                           (dfScores.score*dfScores.ntakers).alias('total'))\n",
    "dfScores.show()"
   ]
  },
  {
   "cell_type": "code",
   "execution_count": 127,
   "metadata": {},
   "outputs": [
    {
     "name": "stdout",
     "output_type": "stream",
     "text": [
      "+------+--------------------+--------------------+\n",
      "|   dbn|                 bus|              subway|\n",
      "+------+--------------------+--------------------+\n",
      "|01M292|B39, M14A, M14D, ...|B, D to Grand St ...|\n",
      "|01M448|M14A, M14D, M15, ...|F to East Broadwa...|\n",
      "|01M450|M101, M102, M103,...|6 to Astor Place ...|\n",
      "|01M509|B39, M103, M14A, ...|B, D to Grand St ...|\n",
      "|01M539|B39, M14A, M14D, ...|F, J, M, Z to Del...|\n",
      "+------+--------------------+--------------------+\n",
      "only showing top 5 rows\n",
      "\n"
     ]
    }
   ],
   "source": [
    "dfSchools = spark.read.load(HSD_FN,format='csv',header = True,inferSchema=True)\n",
    "dfSchools = dfSchools.na.drop(subset=['boro'])\n",
    "dfSchools = dfSchools.select('dbn','bus','subway')\n",
    "dfSchools.show(5)"
   ]
  },
  {
   "cell_type": "code",
   "execution_count": 128,
   "metadata": {},
   "outputs": [
    {
     "name": "stdout",
     "output_type": "stream",
     "text": [
      "+------+--------------------+--------------------+------+-------+------+\n",
      "|   dbn|                 bus|              subway|   DBN|ntakers| total|\n",
      "+------+--------------------+--------------------+------+-------+------+\n",
      "|01M292|B39, M14A, M14D, ...|B, D to Grand St ...|01M292|     29| 11716|\n",
      "|01M448|M14A, M14D, M15, ...|F to East Broadwa...|01M448|     91| 38493|\n",
      "|01M450|M101, M102, M103,...|6 to Astor Place ...|01M450|     70| 28140|\n",
      "|01M509|B39, M103, M14A, ...|B, D to Grand St ...|01M509|     44| 19052|\n",
      "|01M539|B39, M14A, M14D, ...|F, J, M, Z to Del...|01M539|    159| 91266|\n",
      "|01M696|M14A, M14D, M21, ...|                 N/A|01M696|    130| 78520|\n",
      "|02M047|M101, M102, M14A,...|4, 5, Q to 14th S...|02M047|     16|  6400|\n",
      "|02M288|M104, M11, M31, M...|     C, E to 50th St|02M288|     62| 24366|\n",
      "|02M294|B39, M103, M14A, ...|B, D to Grand St ...|02M294|     53| 20352|\n",
      "|02M296|M104, M11, M31, M...|     C, E to 50th St|02M296|     58| 21750|\n",
      "|02M298|B39, M103, M14A, ...|6, N, Q, R to Can...|02M298|     85| 37230|\n",
      "|02M300|M104, M11, M31, M...|     C, E to 50th St|02M300|     48| 21552|\n",
      "|02M303|M104, M11, M31, M...|     C, E to 50th St|02M303|     76| 27208|\n",
      "|02M305|B39, M103, M14A, ...|B, D to Grand St ...|02M305|     50| 19400|\n",
      "|02M308|B39, M103, M14A, ...|B, D to Grand St ...|02M308|     40| 15680|\n",
      "|02M316|M15, M15-SBS, M20...|1, R to Rector St...|02M316|     42| 15540|\n",
      "|02M374|M101, M102, M103,...|1, 2, 3, F, M to ...|02M374|     60| 23460|\n",
      "|02M376| M20, M21, M5, S1115|1, 6, A, J, N, Q,...|02M376|     92| 44436|\n",
      "|02M400|M10, M104, M11, M...|1, A, B, C, D to ...|02M400|    263|129659|\n",
      "|02M407|M101, M102, M103,...|4, 5, 6, N, Q, R ...|02M407|     54| 25110|\n",
      "+------+--------------------+--------------------+------+-------+------+\n",
      "only showing top 20 rows\n",
      "\n"
     ]
    }
   ],
   "source": [
    "dfResults = dfSchools.join(dfScores, dfSchools.dbn==dfScores.DBN,how = 'inner')\n",
    "dfResults.show()\n",
    "#rddResult=dfResults.toDF().take(5)"
   ]
  },
  {
   "cell_type": "code",
   "execution_count": 129,
   "metadata": {},
   "outputs": [
    {
     "name": "stdout",
     "output_type": "stream",
     "text": [
      "+------+--------+--------------------+------+-------+-----+\n",
      "|   dbn|     Bus|              subway|   DBN|ntakers|total|\n",
      "+------+--------+--------------------+------+-------+-----+\n",
      "|01M292|     B39|B, D to Grand St ...|01M292|     29|11716|\n",
      "|01M292|    M14A|B, D to Grand St ...|01M292|     29|11716|\n",
      "|01M292|    M14D|B, D to Grand St ...|01M292|     29|11716|\n",
      "|01M292|     M15|B, D to Grand St ...|01M292|     29|11716|\n",
      "|01M292| M15-SBS|B, D to Grand St ...|01M292|     29|11716|\n",
      "|01M292|     M21|B, D to Grand St ...|01M292|     29|11716|\n",
      "|01M292|     M22|B, D to Grand St ...|01M292|     29|11716|\n",
      "|01M292|      M9|B, D to Grand St ...|01M292|     29|11716|\n",
      "|01M448|    M14A|F to East Broadwa...|01M448|     91|38493|\n",
      "|01M448|    M14D|F to East Broadwa...|01M448|     91|38493|\n",
      "|01M448|     M15|F to East Broadwa...|01M448|     91|38493|\n",
      "|01M448|     M21|F to East Broadwa...|01M448|     91|38493|\n",
      "|01M448|     M22|F to East Broadwa...|01M448|     91|38493|\n",
      "|01M448|      M9|F to East Broadwa...|01M448|     91|38493|\n",
      "|01M450|    M101|6 to Astor Place ...|01M450|     70|28140|\n",
      "|01M450|    M102|6 to Astor Place ...|01M450|     70|28140|\n",
      "|01M450|    M103|6 to Astor Place ...|01M450|     70|28140|\n",
      "|01M450|    M14A|6 to Astor Place ...|01M450|     70|28140|\n",
      "|01M450|    M14D|6 to Astor Place ...|01M450|     70|28140|\n",
      "|01M450|     M15|6 to Astor Place ...|01M450|     70|28140|\n",
      "+------+--------+--------------------+------+-------+-----+\n",
      "only showing top 20 rows\n",
      "\n"
     ]
    }
   ],
   "source": [
    "from pyspark.sql.functions import explode\n",
    "from pyspark.sql.functions import split\n",
    "dfResults = dfResults.withColumn(\"Bus\", explode(split(dfResults.bus, \"[,]\")))\n",
    "dfResults.show()"
   ]
  },
  {
   "cell_type": "code",
   "execution_count": 130,
   "metadata": {},
   "outputs": [],
   "source": [
    "dfResults = dfResults.withColumn(\"subway\", split(dfResults.subway, \"[to]\")[0])\n"
   ]
  },
  {
   "cell_type": "code",
   "execution_count": 131,
   "metadata": {},
   "outputs": [],
   "source": [
    "dfResults = dfResults.withColumn(\"Subway\", explode(split(dfResults.subway, \"[,]\")))"
   ]
  },
  {
   "cell_type": "code",
   "execution_count": 132,
   "metadata": {},
   "outputs": [
    {
     "name": "stdout",
     "output_type": "stream",
     "text": [
      "+------+--------+------+------+-------+-----+\n",
      "|   dbn|     Bus|Subway|   DBN|ntakers|total|\n",
      "+------+--------+------+------+-------+-----+\n",
      "|01M292|     B39|     B|01M292|     29|11716|\n",
      "|01M292|     B39|    D |01M292|     29|11716|\n",
      "|01M292|    M14A|     B|01M292|     29|11716|\n",
      "|01M292|    M14A|    D |01M292|     29|11716|\n",
      "|01M292|    M14D|     B|01M292|     29|11716|\n",
      "|01M292|    M14D|    D |01M292|     29|11716|\n",
      "|01M292|     M15|     B|01M292|     29|11716|\n",
      "|01M292|     M15|    D |01M292|     29|11716|\n",
      "|01M292| M15-SBS|     B|01M292|     29|11716|\n",
      "|01M292| M15-SBS|    D |01M292|     29|11716|\n",
      "|01M292|     M21|     B|01M292|     29|11716|\n",
      "|01M292|     M21|    D |01M292|     29|11716|\n",
      "|01M292|     M22|     B|01M292|     29|11716|\n",
      "|01M292|     M22|    D |01M292|     29|11716|\n",
      "|01M292|      M9|     B|01M292|     29|11716|\n",
      "|01M292|      M9|    D |01M292|     29|11716|\n",
      "|01M448|    M14A|    F |01M448|     91|38493|\n",
      "|01M448|    M14D|    F |01M448|     91|38493|\n",
      "|01M448|     M15|    F |01M448|     91|38493|\n",
      "|01M448|     M21|    F |01M448|     91|38493|\n",
      "+------+--------+------+------+-------+-----+\n",
      "only showing top 20 rows\n",
      "\n"
     ]
    }
   ],
   "source": [
    "dfResults.show()"
   ]
  },
  {
   "cell_type": "code",
   "execution_count": 133,
   "metadata": {},
   "outputs": [],
   "source": [
    "from pyspark.sql.functions import trim\n",
    "dfResults = dfResults.withColumn(\"Subway\", trim(dfResults.Subway))\\\n",
    "         .withColumn(\"Bus\", trim(dfResults.Bus))"
   ]
  },
  {
   "cell_type": "code",
   "execution_count": 180,
   "metadata": {},
   "outputs": [
    {
     "name": "stdout",
     "output_type": "stream",
     "text": [
      "+-------+------------+----------+\n",
      "|    Bus|sum(ntakers)|sum(total)|\n",
      "+-------+------------+----------+\n",
      "|   Bx33|        1626|    655606|\n",
      "|   Q101|        5362|   2463249|\n",
      "|    Q65|        3175|   1471166|\n",
      "|B44-SBS|        5642|   2496173|\n",
      "|     Q7|        1037|    424468|\n",
      "|   Q110|        1953|    902778|\n",
      "|    B39|        2067|    970608|\n",
      "|    Q32|        4653|   2132336|\n",
      "|   Q100|        2256|   1027875|\n",
      "|    Q16|         455|    202599|\n",
      "|   M104|        5333|   2430388|\n",
      "|    Q50|         263|    103227|\n",
      "|    Q42|         567|    330360|\n",
      "|   M103|        4469|   1968277|\n",
      "|    Q28|        1163|    572883|\n",
      "|     M4|        5518|   2384419|\n",
      "|    M66|        3586|   1776627|\n",
      "|     M7|        8248|   3832017|\n",
      "|    Bx7|        1290|    512349|\n",
      "|     B4|        3106|   1443173|\n",
      "+-------+------------+----------+\n",
      "only showing top 20 rows\n",
      "\n"
     ]
    }
   ],
   "source": [
    "dfResultsByBus = dfResults.groupBy('Bus').sum('ntakers','total').na.drop()\n",
    "dfResultsByBus.show()"
   ]
  },
  {
   "cell_type": "code",
   "execution_count": 181,
   "metadata": {},
   "outputs": [],
   "source": [
    "dfResultsByBus = dfResultsByBus.withColumn('avg',dfResultsByBus[2]/dfResultsByBus[1])\\\n",
    "              .select('Bus','avg')"
   ]
  },
  {
   "cell_type": "code",
   "execution_count": 182,
   "metadata": {},
   "outputs": [
    {
     "name": "stdout",
     "output_type": "stream",
     "text": [
      "+------+------------+----------+\n",
      "|Subway|sum(ntakers)|sum(total)|\n",
      "+------+------------+----------+\n",
      "|     7|       19026|   8686593|\n",
      "|     3|       38353|  20520406|\n",
      "|     F|       17044|   7656052|\n",
      "|     Q|       27031|  12262289|\n",
      "|     E|       28244|  13916659|\n",
      "|     B|       27152|  11365231|\n",
      "|     5|       64539|  30892188|\n",
      "|   SIR|       10085|   4816062|\n",
      "|     M|       16086|   7294028|\n",
      "|     L|        7408|   3188933|\n",
      "|     6|       18300|   8084209|\n",
      "|     D|       23857|   9993505|\n",
      "|     C|       19749|   9594749|\n",
      "|     J|       24177|  11019724|\n",
      "|     Z|       20748|   9645154|\n",
      "|     A|       16806|   8365338|\n",
      "|     N|       20826|   9356851|\n",
      "|     S|        5506|   2221505|\n",
      "|     R|       26780|  12097576|\n",
      "|     G|        7837|   3138115|\n",
      "+------+------------+----------+\n",
      "only showing top 20 rows\n",
      "\n"
     ]
    }
   ],
   "source": [
    "dfResultsBySubway = dfResults.groupBy('Subway').sum('ntakers','total')\n",
    "dfResultsBySubway = dfResultsBySubway.filter(dfResultsBySubway['Subway']!='N/A')\n",
    "dfResultsBySubway.show()"
   ]
  },
  {
   "cell_type": "code",
   "execution_count": 183,
   "metadata": {},
   "outputs": [],
   "source": [
    "dfResultsBySubway = dfResultsBySubway.withColumn('avg',dfResultsBySubway[2]/dfResultsBySubway[1])\\\n",
    "              .select('Subway','avg')"
   ]
  },
  {
   "cell_type": "code",
   "execution_count": 184,
   "metadata": {},
   "outputs": [
    {
     "name": "stdout",
     "output_type": "stream",
     "text": [
      "+------+------------------+\n",
      "|Subway|               avg|\n",
      "+------+------------------+\n",
      "|     7| 456.5643330179754|\n",
      "|     3| 535.0404401220244|\n",
      "|     F|449.19338183524997|\n",
      "|     Q| 453.6380082127927|\n",
      "|     E|492.72974791106077|\n",
      "|     B| 418.5780421331762|\n",
      "|     5|  478.659229303212|\n",
      "|   SIR|477.54705007436786|\n",
      "|     M| 453.4395126196693|\n",
      "|     L| 430.4715172786177|\n",
      "|     6|441.76005464480875|\n",
      "|     D|418.89193947269143|\n",
      "|     C| 485.8346751734265|\n",
      "|     J| 455.7936882160731|\n",
      "|     Z|464.87150568729515|\n",
      "|     A|497.75901463762943|\n",
      "|     N| 449.2869970229521|\n",
      "|     S| 403.4698510715583|\n",
      "|     R| 451.7392083644511|\n",
      "|     G| 400.4229934924078|\n",
      "+------+------------------+\n",
      "only showing top 20 rows\n",
      "\n"
     ]
    }
   ],
   "source": [
    "dfResultsBySubway.show()"
   ]
  },
  {
   "cell_type": "code",
   "execution_count": 185,
   "metadata": {},
   "outputs": [],
   "source": [
    "listResultsByBus = dfResultsByBus.select('Bus','avg').rdd.map(lambda x: {x[0]:x[1]}).collect()\n",
    "listResultsBySubway = dfResultsBySubway.select('Subway','avg').rdd.map(lambda x: {x[0]:x[1]}).collect()"
   ]
  },
  {
   "cell_type": "code",
   "execution_count": 186,
   "metadata": {},
   "outputs": [
    {
     "data": {
      "text/plain": [
       "[{'7': 456.5643330179754},\n",
       " {'3': 535.0404401220244},\n",
       " {'F': 449.19338183524997},\n",
       " {'Q': 453.6380082127927},\n",
       " {'E': 492.72974791106077},\n",
       " {'B': 418.5780421331762},\n",
       " {'5': 478.659229303212},\n",
       " {'SIR': 477.54705007436786},\n",
       " {'M': 453.4395126196693},\n",
       " {'L': 430.4715172786177},\n",
       " {'6': 441.76005464480875},\n",
       " {'D': 418.89193947269143},\n",
       " {'C': 485.8346751734265},\n",
       " {'J': 455.7936882160731},\n",
       " {'Z': 464.87150568729515},\n",
       " {'A': 497.75901463762943},\n",
       " {'N': 449.2869970229521},\n",
       " {'S': 403.4698510715583},\n",
       " {'R': 451.7392083644511},\n",
       " {'G': 400.4229934924078},\n",
       " {'1': 492.7112581895975},\n",
       " {'4': 513.9322317188984},\n",
       " {'2': 491.6119029275809}]"
      ]
     },
     "execution_count": 186,
     "metadata": {},
     "output_type": "execute_result"
    }
   ],
   "source": [
    "listResultsBySubway"
   ]
  },
  {
   "cell_type": "code",
   "execution_count": 189,
   "metadata": {},
   "outputs": [
    {
     "data": {
      "text/plain": [
       "[{'Bx33': 403.20172201722016},\n",
       " {'Q101': 459.3899664304364},\n",
       " {'Q65': 463.35937007874014},\n",
       " {'B44-SBS': 442.4269762495569},\n",
       " {'Q7': 409.32304725168757},\n",
       " {'Q110': 462.25192012288784},\n",
       " {'B39': 469.5732946298984},\n",
       " {'Q32': 458.27122286696755},\n",
       " {'Q100': 455.6183510638298},\n",
       " {'Q16': 445.2725274725275}]"
      ]
     },
     "execution_count": 189,
     "metadata": {},
     "output_type": "execute_result"
    }
   ],
   "source": [
    "listResultsByBus[:10]"
   ]
  },
  {
   "cell_type": "code",
   "execution_count": null,
   "metadata": {},
   "outputs": [],
   "source": []
  }
 ],
 "metadata": {
  "kernelspec": {
   "display_name": "Python 3",
   "language": "python",
   "name": "python3"
  },
  "language_info": {
   "codemirror_mode": {
    "name": "ipython",
    "version": 3
   },
   "file_extension": ".py",
   "mimetype": "text/x-python",
   "name": "python",
   "nbconvert_exporter": "python",
   "pygments_lexer": "ipython3",
   "version": "3.7.1"
  }
 },
 "nbformat": 4,
 "nbformat_minor": 1
}
