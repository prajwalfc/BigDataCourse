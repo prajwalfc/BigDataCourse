{
 "cells": [
  {
   "cell_type": "markdown",
   "metadata": {},
   "source": [
    "# Homework 4 - Spark\n",
    "\n",
    "In this homework, we are practicing Apache Spark.\n",
    "\n",
    "You are required to turn in this notebook as BDM\\_HW4\\_Spark\\_**NetId**.ipynb. You will be asked to complete each task using Apache Spark. Output can be printed in the notebook."
   ]
  },
  {
   "cell_type": "markdown",
   "metadata": {},
   "source": [
    "## Task 1 (5 points)\n",
    "\n",
    "You are asked to implement Homework 3 using Spark. The description is provided below for your convenience.\n",
    "\n",
    "You are asked to implement the Social Triangle example discussed in class. In particular, given the email dataset, please list all \"reciprocal\" relationships in the company. Recall that:\n",
    "\n",
    "If A emails B and B emails A, then A and B is *reciprocal*.\n",
    "\n",
    "If A emails B but B doesn’t email A, then A and B is *directed*.\n",
    "\n",
    "**Dataset:** We will use a subset of the open [Enron Email Dataset](https://www.cs.cmu.edu/~./enron/ \"Enron Email Dataset\"), which contains approximately 10,000 simplified email headers from the Enron Corporation. You can download this dataset from NYU Classes as **enron_mails_small.csv**. The file contains 3 columns *Date*, *From*, and *To*. Their description is as follows:\n",
    "\n",
    "|Column name|Description|\n",
    "|--|--|\n",
    "|Date |The date and time of the email, in the format YYYY-MM-DD hh-mm-ss, <br />e.g. \"1998-10-30 07:43:00\" |\n",
    "|From |The sender email address, <br />e.g. \"mark.taylor@enron.com\" |\n",
    "|To | A list of recipients' email addresses separated by semicolons ';', <br />e.g. \"jennifer.fraser@enron.com;jeffrey.hodge@enron.com\" |\n",
    "\n",
    "Note that, we only care about users employed by Enron, or only relationships having email addresses that end with *'@enron.com'*.\n",
    "\n",
    "The expected output is also provided below. For each reciprocal relationship, please output a tuple consisting of two strings. The first one is always **'reciprocal'**. And the second one is a string showing the name of the two person in the following format: **'Jane Doe : John Doe'**. The names should be presented in the lexical order, i.e. there will not be a 'John Doe : Jane Doe' since 'Jane' is ordered before 'John.\n",
    "\n",
    "Though the dataset only contains email addresses, not actual names, we're assuming that the email aliases were created based on their name. For example:\n",
    "\n",
    "|Email Address|Converted Name|\n",
    "|--|--|\n",
    "|mark.taylor@enron.com|Mark Taylor|\n",
    "|alan.aronowitz@enron.com|Alan Aronowitz|\n",
    "|marc.r.cutler@enron.com|Marc R Cutler|\n",
    "|hugh@enron.com|Hugh|\n",
    "\n",
    "Please fill the code block with a series of MapReduce jobs using your own mapper and reducer functions. Be sure to include the naming convention logic into one of your mappers and/or reducers."
   ]
  },
  {
   "cell_type": "code",
   "execution_count": 1,
   "metadata": {},
   "outputs": [],
   "source": [
    "EN_FN='enron_mails_small.csv'"
   ]
  },
  {
   "cell_type": "code",
   "execution_count": 7,
   "metadata": {},
   "outputs": [],
   "source": [
    "def oneToone(pid,rows):\n",
    "    if pid ==0:\n",
    "        next(rows)\n",
    "    for row in rows:\n",
    "        sender,receivers = row\n",
    "        receiver_list = receivers.split(';')\n",
    "        for receiver in receiver_list:\n",
    "            yield(sender,receiver)\n",
    "def emailToName(x):\n",
    "    tx,rx = x\n",
    "    tx = tx.split('@')[0]\n",
    "    rx = rx.split('@')[0]\n",
    "    tx =' '.join(map(lambda x:x.capitalize(),tx.split('.')))\n",
    "    rx =' '.join(map(lambda x:x.capitalize(),rx.split('.')))\n",
    "    return((tx,rx),1)"
   ]
  },
  {
   "cell_type": "code",
   "execution_count": 8,
   "metadata": {},
   "outputs": [],
   "source": [
    "dfEmail = spark.read.load(EN_FN,format='csv',header = True,inferSchema=True)"
   ]
  },
  {
   "cell_type": "code",
   "execution_count": 9,
   "metadata": {},
   "outputs": [
    {
     "data": {
      "text/plain": [
       "[('recipropcal', 'Brenda Whitehead : Elizabeth Sager'),\n",
       " ('recipropcal', 'Carol Clair : Debra Perlingiere'),\n",
       " ('recipropcal', 'Carol Clair : Mark Taylor'),\n",
       " ('recipropcal', 'Carol Clair : Richard Sanders'),\n",
       " ('recipropcal', 'Carol Clair : Sara Shackleton'),\n",
       " ('recipropcal', 'Carol Clair : Tana Jones'),\n",
       " ('recipropcal', 'Debra Perlingiere : Kevin Ruscitti'),\n",
       " ('recipropcal', 'Drew Fossum : Susan Scott'),\n",
       " ('recipropcal', 'Elizabeth Sager : Janette Elbertson'),\n",
       " ('recipropcal', 'Elizabeth Sager : Mark Haedicke'),\n",
       " ('recipropcal', 'Elizabeth Sager : Mark Taylor'),\n",
       " ('recipropcal', 'Elizabeth Sager : Richard Sanders'),\n",
       " ('recipropcal', 'Eric Bass : Susan Scott'),\n",
       " ('recipropcal', 'Fletcher Sturm : Greg Whalley'),\n",
       " ('recipropcal', 'Fletcher Sturm : Sally Beck'),\n",
       " ('recipropcal', 'Gerald Nemec : Susan Scott'),\n",
       " ('recipropcal', 'Grant Masson : Vince Kaminski'),\n",
       " ('recipropcal', 'Greg Whalley : Richard Sanders'),\n",
       " ('recipropcal', 'Janette Elbertson : Mark Taylor'),\n",
       " ('recipropcal', 'Janette Elbertson : Richard Sanders'),\n",
       " ('recipropcal', 'Liz Taylor : Mark Haedicke'),\n",
       " ('recipropcal', 'Mark Haedicke : Mark Taylor'),\n",
       " ('recipropcal', 'Mark Haedicke : Michelle Cash'),\n",
       " ('recipropcal', 'Mark Haedicke : Richard Sanders'),\n",
       " ('recipropcal', 'Mark Haedicke : Twanda Sweet'),\n",
       " ('recipropcal', 'Mark Taylor : Sara Shackleton'),\n",
       " ('recipropcal', 'Mark Taylor : Tana Jones'),\n",
       " ('recipropcal', 'Michelle Cash : Twanda Sweet'),\n",
       " ('recipropcal', 'Pinnamaneni Krishnarao : Vince Kaminski'),\n",
       " ('recipropcal', 'Richard Sanders : Sara Shackleton'),\n",
       " ('recipropcal', 'Rosalee Fleming : Steven Kean'),\n",
       " ('recipropcal', 'Sara Shackleton : Tana Jones'),\n",
       " ('recipropcal', 'Shirley Crenshaw : Vince Kaminski'),\n",
       " ('recipropcal', 'Stinson Gibner : Vince Kaminski'),\n",
       " ('recipropcal', 'Vasant Shanbhogue : Vince Kaminski')]"
      ]
     },
     "execution_count": 9,
     "metadata": {},
     "output_type": "execute_result"
    }
   ],
   "source": [
    "dfEmail = dfEmail.select('From','To')\n",
    "rddEmail = dfEmail.rdd.mapPartitionsWithIndex(oneToone)\\\n",
    "                 .filter(lambda x: '@enron.com' in x[0] and '.' in x[0].split('@')[0]  and ('@enron.com' in x[1] \n",
    "                    and '.' in x[1].split('@')[0]))\\\n",
    "                   .map(emailToName)\\\n",
    "                   .reduceByKey(lambda x,y:1)\\\n",
    "                   .map(lambda x: (tuple(sorted(x[0])),1))\\\n",
    "                   .reduceByKey(lambda x,y:x+y)\\\n",
    "                   .filter(lambda x:x[1]>1)\\\n",
    "                   .sortByKey()\\\n",
    "                   .map(lambda x:('recipropcal',x[0][0]+' : '+x[0][1]))\n",
    "rddEmail.collect()"
   ]
  },
  {
   "cell_type": "markdown",
   "metadata": {},
   "source": [
    "## Task 2 (5 points)\n",
    "\n",
    "You are asked to implement Task 2 of Lab 5. The description is provided below for your convenience.\n",
    "\n",
    "We’ll be using two NYC open data sets: the SAT Results and the NYC High School Directory data sets. Both can be downloaded from the links below, or from online class resources.\n",
    "\n",
    "**Dataset**: *Please note that each school is uniquely identified by an DBN code, which should be found on both data sets.*\n",
    "\n",
    "**SAT_Results.csv**\n",
    "Source: https://nycopendata.socrata.com/Education/SAT-Results/f9bf-2cp4  \n",
    "Description: “The most recent school level results for New York City on the SAT. Results are available at the school level for the graduating seniors of 2012.”\n",
    "\n",
    "**DOE_High_School_Directory_2014-2015.csv**\n",
    "Source: https://data.cityofnewyork.us/Education/DOE-High-School-Directory-2014-2015/n3p6-zve2  \n",
    "Description: “Directory of NYC High Schools.”\n",
    "\n",
    "We would like to know how the Math scores vary across bus lines or subway lines serving the schools. Your task is to compute the average Math scores of all schools along each bus line and subway line. You can find the bus and subway lines serving each school in the High School Dictionary as bus and subway columns.\n",
    "\n",
    "The expected results are two lists:\n",
    "1. A list of key/value pairs: with bus line as keys, and the average Math scores as values.\n",
    "2. A list of key/value pairs: with subway line as keys, and the average Math scores as values.\n",
    "\n",
    "The top ten lines with highest score are shown below."
   ]
  },
  {
   "cell_type": "code",
   "execution_count": 48,
   "metadata": {},
   "outputs": [],
   "source": [
    "SAT_FN = 'SAT_Results.csv'\n",
    "HSD_FN = 'DOE_High_School_Directory_2014-2015.csv'"
   ]
  },
  {
   "cell_type": "code",
   "execution_count": 49,
   "metadata": {},
   "outputs": [
    {
     "name": "stdout",
     "output_type": "stream",
     "text": [
      "+------+-----+-----+\n",
      "|   DBN|total|count|\n",
      "+------+-----+-----+\n",
      "|02M047|  400|    1|\n",
      "|21K410|  437|    1|\n",
      "|30Q301|  440|    1|\n",
      "|17K382|  374|    1|\n",
      "|18K637|  381|    1|\n",
      "|32K403|  366|    1|\n",
      "|09X365|  339|    1|\n",
      "|11X270|  394|    1|\n",
      "|05M367|  366|    1|\n",
      "|14K404|  357|    1|\n",
      "|30Q575|  492|    1|\n",
      "|13K336|  374|    1|\n",
      "|04M635|  369|    1|\n",
      "|24Q264|  454|    1|\n",
      "|17K408|  342|    1|\n",
      "|19K618|  371|    1|\n",
      "|27Q309|  379|    1|\n",
      "|32K552|  364|    1|\n",
      "|13K499|  364|    1|\n",
      "|07X600|  400|    1|\n",
      "+------+-----+-----+\n",
      "only showing top 20 rows\n",
      "\n"
     ]
    }
   ],
   "source": [
    "from pyspark.sql.functions import lit\n",
    "dfScores = spark.read.load(SAT_FN,format='csv',header = True,inferSchema=True)\n",
    "dfScores = dfScores.select('DBN',\n",
    "                          dfScores['Num of SAT Test Takers'].cast('int').alias('ntakers'),\n",
    "                          dfScores['`SAT Math Avg. Score`'].cast('int').alias('score')\n",
    "                          ).na.drop()\n",
    "dfScores = dfScores.select('DBN',\n",
    "                           (dfScores.score).alias('total'))\n",
    "\n",
    "dfScores = dfScores.withColumn('count',lit(1).cast('int'))\n",
    "dfScores.show()"
   ]
  },
  {
   "cell_type": "code",
   "execution_count": 50,
   "metadata": {},
   "outputs": [
    {
     "name": "stdout",
     "output_type": "stream",
     "text": [
      "+------+--------------------+--------------------+\n",
      "|   dbn|                 bus|              subway|\n",
      "+------+--------------------+--------------------+\n",
      "|01M292|B39, M14A, M14D, ...|B, D to Grand St ...|\n",
      "|01M448|M14A, M14D, M15, ...|F to East Broadwa...|\n",
      "|01M450|M101, M102, M103,...|6 to Astor Place ...|\n",
      "|01M509|B39, M103, M14A, ...|B, D to Grand St ...|\n",
      "|01M539|B39, M14A, M14D, ...|F, J, M, Z to Del...|\n",
      "|01M696|M14A, M14D, M21, ...|                 N/A|\n",
      "|02M047|M101, M102, M14A,...|4, 5, Q to 14th S...|\n",
      "|02M135|M10, M104, M11, M...|1, C, E to 50th S...|\n",
      "|02M139|M103, M15, M22, M...|1 to Chambers St ...|\n",
      "|02M260|M104, M11, M20, M...|1, 2, 3, A, C, E ...|\n",
      "|02M280|M103, M15, M22, M...|1 to Chambers St ...|\n",
      "|02M282|M103, M15, M22, M...|1 to Chambers St ...|\n",
      "|02M288|M104, M11, M31, M...|     C, E to 50th St|\n",
      "|02M294|B39, M103, M14A, ...|B, D to Grand St ...|\n",
      "|02M296|M104, M11, M31, M...|     C, E to 50th St|\n",
      "|02M298|B39, M103, M14A, ...|6, N, Q, R to Can...|\n",
      "|02M300|M104, M11, M31, M...|     C, E to 50th St|\n",
      "|02M303|M104, M11, M31, M...|     C, E to 50th St|\n",
      "|02M305|B39, M103, M14A, ...|B, D to Grand St ...|\n",
      "|02M308|B39, M103, M14A, ...|B, D to Grand St ...|\n",
      "+------+--------------------+--------------------+\n",
      "only showing top 20 rows\n",
      "\n"
     ]
    }
   ],
   "source": [
    "dfSchools = spark.read.load(HSD_FN,format='csv',header = True,inferSchema=True)\n",
    "dfSchools = dfSchools.na.drop(subset=['boro'])\n",
    "dfSchools = dfSchools.select('dbn','bus','subway')\n",
    "dfSchools.show()"
   ]
  },
  {
   "cell_type": "code",
   "execution_count": 98,
   "metadata": {},
   "outputs": [
    {
     "name": "stdout",
     "output_type": "stream",
     "text": [
      "+------+--------------------+----------------+------+-----+-----+\n",
      "|   dbn|                 bus|          subway|   DBN|total|count|\n",
      "+------+--------------------+----------------+------+-----+-----+\n",
      "|31R450|S40, S42, S44, S4...|SIR to St George|31R450|  435|    1|\n",
      "|31R455|  S55, S56, S59, S78| SIR to Huguenot|31R455|  486|    1|\n",
      "|31R600|S40, S42, S44, S4...|SIR to St George|31R600|  422|    1|\n",
      "|31R605|S57, S74, S76, S7...| SIR to New Dorp|31R605|  682|    1|\n",
      "+------+--------------------+----------------+------+-----+-----+\n",
      "\n"
     ]
    }
   ],
   "source": [
    "dfResults = dfSchools.join(dfScores, dfSchools.dbn==dfScores.DBN,how = 'inner')\n",
    "#dfResults.show(1)\n",
    "dfResults.filter(dfResults['subway'].contains('SIR')).show()"
   ]
  },
  {
   "cell_type": "markdown",
   "metadata": {},
   "source": [
    "## For Bus"
   ]
  },
  {
   "cell_type": "code",
   "execution_count": 70,
   "metadata": {},
   "outputs": [
    {
     "name": "stdout",
     "output_type": "stream",
     "text": [
      "+------+--------+------+-----+-----+\n",
      "|   dbn|     Bus|   DBN|total|count|\n",
      "+------+--------+------+-----+-----+\n",
      "|01M292|     B39|01M292|  404|    1|\n",
      "|01M292|    M14A|01M292|  404|    1|\n",
      "|01M292|    M14D|01M292|  404|    1|\n",
      "|01M292|     M15|01M292|  404|    1|\n",
      "|01M292| M15-SBS|01M292|  404|    1|\n",
      "|01M292|     M21|01M292|  404|    1|\n",
      "|01M292|     M22|01M292|  404|    1|\n",
      "|01M292|      M9|01M292|  404|    1|\n",
      "|01M448|    M14A|01M448|  423|    1|\n",
      "|01M448|    M14D|01M448|  423|    1|\n",
      "|01M448|     M15|01M448|  423|    1|\n",
      "|01M448|     M21|01M448|  423|    1|\n",
      "|01M448|     M22|01M448|  423|    1|\n",
      "|01M448|      M9|01M448|  423|    1|\n",
      "|01M450|    M101|01M450|  402|    1|\n",
      "|01M450|    M102|01M450|  402|    1|\n",
      "|01M450|    M103|01M450|  402|    1|\n",
      "|01M450|    M14A|01M450|  402|    1|\n",
      "|01M450|    M14D|01M450|  402|    1|\n",
      "|01M450|     M15|01M450|  402|    1|\n",
      "+------+--------+------+-----+-----+\n",
      "only showing top 20 rows\n",
      "\n"
     ]
    }
   ],
   "source": [
    "from pyspark.sql.functions import explode\n",
    "from pyspark.sql.functions import split\n",
    "dfResultsByBus = dfResults.drop('subway')\n",
    "dfResultsByBus = dfResultsByBus.withColumn(\"Bus\", explode(split(dfResultsByBus.bus, \"[,]\")))\n",
    "dfResultsByBus.show()"
   ]
  },
  {
   "cell_type": "code",
   "execution_count": 71,
   "metadata": {},
   "outputs": [
    {
     "name": "stdout",
     "output_type": "stream",
     "text": [
      "+------+-------+------+-----+-----+\n",
      "|   dbn|    Bus|   DBN|total|count|\n",
      "+------+-------+------+-----+-----+\n",
      "|01M292|    B39|01M292|  404|    1|\n",
      "|01M292|   M14A|01M292|  404|    1|\n",
      "|01M292|   M14D|01M292|  404|    1|\n",
      "|01M292|    M15|01M292|  404|    1|\n",
      "|01M292|M15-SBS|01M292|  404|    1|\n",
      "|01M292|    M21|01M292|  404|    1|\n",
      "|01M292|    M22|01M292|  404|    1|\n",
      "|01M292|     M9|01M292|  404|    1|\n",
      "|01M448|   M14A|01M448|  423|    1|\n",
      "|01M448|   M14D|01M448|  423|    1|\n",
      "|01M448|    M15|01M448|  423|    1|\n",
      "|01M448|    M21|01M448|  423|    1|\n",
      "|01M448|    M22|01M448|  423|    1|\n",
      "|01M448|     M9|01M448|  423|    1|\n",
      "|01M450|   M101|01M450|  402|    1|\n",
      "|01M450|   M102|01M450|  402|    1|\n",
      "|01M450|   M103|01M450|  402|    1|\n",
      "|01M450|   M14A|01M450|  402|    1|\n",
      "|01M450|   M14D|01M450|  402|    1|\n",
      "|01M450|    M15|01M450|  402|    1|\n",
      "+------+-------+------+-----+-----+\n",
      "only showing top 20 rows\n",
      "\n"
     ]
    }
   ],
   "source": [
    "from pyspark.sql.functions import trim\n",
    "dfResultsByBus = dfResultsByBus.withColumn(\"Bus\", trim(dfResultsByBus.Bus))\n",
    "dfResultsByBus.show()"
   ]
  },
  {
   "cell_type": "code",
   "execution_count": 72,
   "metadata": {},
   "outputs": [
    {
     "name": "stdout",
     "output_type": "stream",
     "text": [
      "+-------+----------+----------+\n",
      "|    Bus|sum(count)|sum(total)|\n",
      "+-------+----------+----------+\n",
      "|   Bx33|        12|      4836|\n",
      "|   Q101|        16|      7387|\n",
      "|    Q65|        12|      5693|\n",
      "|B44-SBS|        15|      6131|\n",
      "|     Q7|         5|      2024|\n",
      "|   Q110|         3|      1518|\n",
      "|    B39|        14|      5853|\n",
      "|    Q32|        15|      6817|\n",
      "|   Q100|        10|      4505|\n",
      "|    Q16|         3|      1347|\n",
      "|   M104|        21|      8991|\n",
      "|    Q50|         2|       778|\n",
      "|    Q42|         2|      1105|\n",
      "|   M103|        15|      6430|\n",
      "|    Q28|         4|      1870|\n",
      "|     M4|        17|      7178|\n",
      "|    M66|        12|      5685|\n",
      "|     M7|        26|     11626|\n",
      "|    Bx7|        15|      5990|\n",
      "|     B4|        13|      5708|\n",
      "+-------+----------+----------+\n",
      "only showing top 20 rows\n",
      "\n"
     ]
    }
   ],
   "source": [
    "dfResultsByBus = dfResultsByBus.groupBy('Bus').sum('count','total').na.drop()\n",
    "dfResultsByBus = dfResultsByBus.filter(dfResultsByBus['Bus']!='N/A')\n",
    "dfResultsByBus.show()"
   ]
  },
  {
   "cell_type": "code",
   "execution_count": 73,
   "metadata": {},
   "outputs": [],
   "source": [
    "dfResultsByBus = dfResultsByBus.withColumn('avg',dfResultsByBus[2]/dfResultsByBus[1])\\\n",
    "              .select('Bus','avg')"
   ]
  },
  {
   "cell_type": "code",
   "execution_count": 83,
   "metadata": {},
   "outputs": [],
   "source": [
    "from pyspark.sql.functions import desc\n",
    "dfResultsByBus = dfResultsByBus.sort(desc('avg'))"
   ]
  },
  {
   "cell_type": "code",
   "execution_count": 84,
   "metadata": {},
   "outputs": [
    {
     "name": "stdout",
     "output_type": "stream",
     "text": [
      "+-------+------------------+\n",
      "|    Bus|               avg|\n",
      "+-------+------------------+\n",
      "|    M79|             594.0|\n",
      "|    Q42|             552.5|\n",
      "|    Q64|             526.0|\n",
      "|    Q35|             519.0|\n",
      "|   Q20A|             518.5|\n",
      "|    M86|             509.0|\n",
      "|    S57|            507.75|\n",
      "|     Q9|             506.0|\n",
      "|   Q110|             506.0|\n",
      "|    B11| 500.3333333333333|\n",
      "|   Q20B|            497.75|\n",
      "|    Q88|             496.8|\n",
      "|S79-SBS|             495.5|\n",
      "|    S74|             494.0|\n",
      "|    S76|             494.0|\n",
      "|    Q31|493.77777777777777|\n",
      "|    S78|             492.4|\n",
      "|    Q76|           488.125|\n",
      "|    Q17| 487.9166666666667|\n",
      "|    S55|             486.0|\n",
      "+-------+------------------+\n",
      "only showing top 20 rows\n",
      "\n"
     ]
    }
   ],
   "source": [
    "dfResultsByBus.show()"
   ]
  },
  {
   "cell_type": "markdown",
   "metadata": {},
   "source": [
    "## For subway"
   ]
  },
  {
   "cell_type": "code",
   "execution_count": 87,
   "metadata": {},
   "outputs": [
    {
     "name": "stdout",
     "output_type": "stream",
     "text": [
      "+------+--------------------+------+-----+-----+\n",
      "|   dbn|              subway|   DBN|total|count|\n",
      "+------+--------------------+------+-----+-----+\n",
      "|01M292|               B, D |01M292|  404|    1|\n",
      "|01M448|                  F |01M448|  423|    1|\n",
      "|01M450|                  6 |01M450|  402|    1|\n",
      "|01M509|               B, D |01M509|  433|    1|\n",
      "|01M539|         F, J, M, Z |01M539|  574|    1|\n",
      "|01M696|                 N/A|01M696|  604|    1|\n",
      "|02M047|            4, 5, Q |02M047|  400|    1|\n",
      "|02M288|               C, E |02M288|  393|    1|\n",
      "|02M294|               B, D |02M294|  384|    1|\n",
      "|02M296|               C, E |02M296|  375|    1|\n",
      "|02M298|         6, N, Q, R |02M298|  438|    1|\n",
      "|02M300|               C, E |02M300|  449|    1|\n",
      "|02M303|               C, E |02M303|  358|    1|\n",
      "|02M305|               B, D |02M305|  388|    1|\n",
      "|02M308|               B, D |02M308|  392|    1|\n",
      "|02M316|               1, R |02M316|  370|    1|\n",
      "|02M374|      1, 2, 3, F, M |02M374|  391|    1|\n",
      "|02M376|1, 6, A, J, N, Q,...|02M376|  483|    1|\n",
      "|02M400|      1, A, B, C, D |02M400|  493|    1|\n",
      "|02M407|   4, 5, 6, N, Q, R |02M407|  465|    1|\n",
      "+------+--------------------+------+-----+-----+\n",
      "only showing top 20 rows\n",
      "\n"
     ]
    }
   ],
   "source": [
    "dfResultsBySubway = dfResults.drop('bus')\n",
    "dfResultsBySubway = dfResultsBySubway.withColumn(\"subway\", split(dfResultsBySubway.subway, \"[to]\")[0])\n",
    "dfResultsBySubway.show()"
   ]
  },
  {
   "cell_type": "code",
   "execution_count": 88,
   "metadata": {},
   "outputs": [],
   "source": [
    "dfResultsBySubway = dfResultsBySubway.withColumn(\"Subway\", explode(split(dfResultsBySubway.subway, \"[,]\")))"
   ]
  },
  {
   "cell_type": "code",
   "execution_count": 90,
   "metadata": {},
   "outputs": [
    {
     "name": "stdout",
     "output_type": "stream",
     "text": [
      "+------+------+------+-----+-----+\n",
      "|   dbn|Subway|   DBN|total|count|\n",
      "+------+------+------+-----+-----+\n",
      "|01M292|     B|01M292|  404|    1|\n",
      "|01M292|    D |01M292|  404|    1|\n",
      "|01M448|    F |01M448|  423|    1|\n",
      "|01M450|    6 |01M450|  402|    1|\n",
      "|01M509|     B|01M509|  433|    1|\n",
      "|01M509|    D |01M509|  433|    1|\n",
      "|01M539|     F|01M539|  574|    1|\n",
      "|01M539|     J|01M539|  574|    1|\n",
      "|01M539|     M|01M539|  574|    1|\n",
      "|01M539|    Z |01M539|  574|    1|\n",
      "|01M696|   N/A|01M696|  604|    1|\n",
      "|02M047|     4|02M047|  400|    1|\n",
      "|02M047|     5|02M047|  400|    1|\n",
      "|02M047|    Q |02M047|  400|    1|\n",
      "|02M288|     C|02M288|  393|    1|\n",
      "|02M288|    E |02M288|  393|    1|\n",
      "|02M294|     B|02M294|  384|    1|\n",
      "|02M294|    D |02M294|  384|    1|\n",
      "|02M296|     C|02M296|  375|    1|\n",
      "|02M296|    E |02M296|  375|    1|\n",
      "+------+------+------+-----+-----+\n",
      "only showing top 20 rows\n",
      "\n"
     ]
    }
   ],
   "source": [
    "dfResultsBySubway.show()"
   ]
  },
  {
   "cell_type": "code",
   "execution_count": 92,
   "metadata": {},
   "outputs": [],
   "source": [
    "dfResultsBySubway = dfResultsBySubway.withColumn(\"Subway\", trim(dfResultsBySubway.Subway))"
   ]
  },
  {
   "cell_type": "code",
   "execution_count": 93,
   "metadata": {},
   "outputs": [
    {
     "name": "stdout",
     "output_type": "stream",
     "text": [
      "+------+----------+----------+\n",
      "|Subway|sum(count)|sum(total)|\n",
      "+------+----------+----------+\n",
      "|     7|        17|      7427|\n",
      "|     3|        32|     13319|\n",
      "|     F|        16|      6879|\n",
      "|     Q|        26|     11367|\n",
      "|     E|        12|      5592|\n",
      "|     B|        41|     16344|\n",
      "|     5|        72|     29033|\n",
      "|   SIR|         4|      2025|\n",
      "|     M|        13|      5859|\n",
      "|     L|        12|      4998|\n",
      "|     6|        19|      7896|\n",
      "|     D|        38|     15276|\n",
      "|     C|        22|      9123|\n",
      "|     J|        16|      6845|\n",
      "|     Z|        12|      5319|\n",
      "|     A|        22|      9316|\n",
      "|     N|        16|      7201|\n",
      "|     S|        10|      4042|\n",
      "|     R|        27|     11930|\n",
      "|     G|        15|      5891|\n",
      "+------+----------+----------+\n",
      "only showing top 20 rows\n",
      "\n"
     ]
    }
   ],
   "source": [
    "dfResultsBySubway = dfResultsBySubway.groupBy('Subway').sum('count','total')\n",
    "dfResultsBySubway = dfResultsBySubway.filter(dfResultsBySubway['Subway']!='N/A')\n",
    "dfResultsBySubway.show()"
   ]
  },
  {
   "cell_type": "code",
   "execution_count": 94,
   "metadata": {},
   "outputs": [],
   "source": [
    "dfResultsBySubway = dfResultsBySubway.withColumn('avg',dfResultsBySubway[2]/dfResultsBySubway[1])\\\n",
    "              .select('Subway','avg')"
   ]
  },
  {
   "cell_type": "code",
   "execution_count": 103,
   "metadata": {},
   "outputs": [
    {
     "name": "stdout",
     "output_type": "stream",
     "text": [
      "+------+------------------+\n",
      "|Subway|               avg|\n",
      "+------+------------------+\n",
      "|   SIR|            506.25|\n",
      "|     E|             466.0|\n",
      "|     M| 450.6923076923077|\n",
      "|     N|          450.0625|\n",
      "|     Z|            443.25|\n",
      "|     R|441.85185185185185|\n",
      "|     1|440.78723404255317|\n",
      "|     Q| 437.1923076923077|\n",
      "|     7|436.88235294117646|\n",
      "|     F|          429.9375|\n",
      "|     J|          427.8125|\n",
      "|     4| 423.6904761904762|\n",
      "|     A|423.45454545454544|\n",
      "|     L|             416.5|\n",
      "|     3|         416.21875|\n",
      "|     6|415.57894736842104|\n",
      "|     C| 414.6818181818182|\n",
      "|     S|             404.2|\n",
      "|     5| 403.2361111111111|\n",
      "|     D|             402.0|\n",
      "|     2|399.93150684931504|\n",
      "|     B| 398.6341463414634|\n",
      "|     G|392.73333333333335|\n",
      "+------+------------------+\n",
      "\n"
     ]
    }
   ],
   "source": [
    "dfResultsBySubway = dfResultsBySubway.sort(desc('avg'))\n",
    "dfResultsBySubway.show(40)"
   ]
  },
  {
   "cell_type": "code",
   "execution_count": 99,
   "metadata": {},
   "outputs": [],
   "source": [
    "listResultsByBus = dfResultsByBus.select('Bus','avg').rdd.map(lambda x: {x[0]:x[1]}).collect()\n",
    "listResultsBySubway = dfResultsBySubway.select('Subway','avg').rdd.map(lambda x: {x[0]:x[1]}).collect()"
   ]
  },
  {
   "cell_type": "code",
   "execution_count": 100,
   "metadata": {},
   "outputs": [
    {
     "data": {
      "text/plain": [
       "[{'7': 436.88235294117646},\n",
       " {'3': 416.21875},\n",
       " {'F': 429.9375},\n",
       " {'Q': 437.1923076923077},\n",
       " {'E': 466.0},\n",
       " {'B': 398.6341463414634},\n",
       " {'5': 403.2361111111111},\n",
       " {'SIR': 506.25},\n",
       " {'M': 450.6923076923077},\n",
       " {'L': 416.5},\n",
       " {'6': 415.57894736842104},\n",
       " {'D': 402.0},\n",
       " {'C': 414.6818181818182},\n",
       " {'J': 427.8125},\n",
       " {'Z': 443.25},\n",
       " {'A': 423.45454545454544},\n",
       " {'N': 450.0625},\n",
       " {'S': 404.2},\n",
       " {'R': 441.85185185185185},\n",
       " {'G': 392.73333333333335},\n",
       " {'1': 440.78723404255317},\n",
       " {'4': 423.6904761904762},\n",
       " {'2': 399.93150684931504}]"
      ]
     },
     "execution_count": 100,
     "metadata": {},
     "output_type": "execute_result"
    }
   ],
   "source": [
    "listResultsBySubway"
   ]
  },
  {
   "cell_type": "code",
   "execution_count": 101,
   "metadata": {},
   "outputs": [
    {
     "data": {
      "text/plain": [
       "[{'M79': 594.0},\n",
       " {'Q42': 552.5},\n",
       " {'Q64': 526.0},\n",
       " {'Q35': 519.0},\n",
       " {'Q20A': 518.5},\n",
       " {'M86': 509.0},\n",
       " {'S57': 507.75},\n",
       " {'Q110': 506.0},\n",
       " {'Q9': 506.0},\n",
       " {'B11': 500.3333333333333},\n",
       " {'Q20B': 497.75},\n",
       " {'Q88': 496.8},\n",
       " {'S79-SBS': 495.5},\n",
       " {'S76': 494.0},\n",
       " {'S74': 494.0},\n",
       " {'Q31': 493.77777777777777},\n",
       " {'S78': 492.4},\n",
       " {'Q76': 488.125},\n",
       " {'Q17': 487.9166666666667},\n",
       " {'S55': 486.0},\n",
       " {'B9': 485.3333333333333},\n",
       " {'Q104': 483.25},\n",
       " {'S1115': 482.25},\n",
       " {'Q36': 482.1666666666667},\n",
       " {'Q112': 481.75},\n",
       " {'Q5': 481.0},\n",
       " {'Q30': 478.6666666666667},\n",
       " {'Q84': 478.0},\n",
       " {'Q25': 477.72727272727275},\n",
       " {'Q102': 476.3333333333333},\n",
       " {'B70': 476.0},\n",
       " {'B2': 475.0},\n",
       " {'B31': 475.0},\n",
       " {'B100': 475.0},\n",
       " {'Q65': 474.4166666666667},\n",
       " {'S54': 474.0},\n",
       " {'M66': 473.75},\n",
       " {'M22': 473.73333333333335},\n",
       " {'Q66': 473.6363636363636},\n",
       " {'M72': 472.0},\n",
       " {'Q41': 470.6},\n",
       " {'Q60': 468.6470588235294},\n",
       " {'M20': 468.0},\n",
       " {'Q28': 467.5},\n",
       " {'Q13': 467.5},\n",
       " {'Q46': 464.6666666666667},\n",
       " {'S53': 463.0},\n",
       " {'Bx10': 462.2},\n",
       " {'S59': 462.0},\n",
       " {'Q101': 461.6875},\n",
       " {'M23': 460.2307692307692},\n",
       " {'M9': 460.1923076923077},\n",
       " {'Q111': 459.0},\n",
       " {'Q8': 458.6666666666667},\n",
       " {'M21': 456.5833333333333},\n",
       " {'Q6': 456.0},\n",
       " {'Q69': 455.25},\n",
       " {'M14A': 455.1363636363636},\n",
       " {'Bx20': 455.0},\n",
       " {'Q32': 454.46666666666664},\n",
       " {'M14D': 454.45454545454544},\n",
       " {'Q39': 454.0},\n",
       " {'Q67': 454.0},\n",
       " {'Q83': 453.6666666666667},\n",
       " {'Q4': 452.5},\n",
       " {'M8': 452.3333333333333},\n",
       " {'Q103': 452.2},\n",
       " {'M5': 451.48571428571427},\n",
       " {'Q100': 450.5},\n",
       " {'Q23': 450.0},\n",
       " {'S56': 449.6666666666667},\n",
       " {'M31': 449.65},\n",
       " {'Q16': 449.0},\n",
       " {'S66': 448.3333333333333},\n",
       " {'M7': 447.15384615384613},\n",
       " {'Q3': 446.5},\n",
       " {'Q85': 446.1666666666667},\n",
       " {'B68': 446.0},\n",
       " {'M10': 445.2631578947368},\n",
       " {'M57': 443.05555555555554},\n",
       " {'Bx26': 442.8333333333333},\n",
       " {'Q11': 442.0},\n",
       " {'Q48': 441.0},\n",
       " {'Q34': 441.0},\n",
       " {'B4': 439.0769230769231},\n",
       " {'S61': 438.8},\n",
       " {'B63': 438.5833333333333},\n",
       " {'Q27': 438.57142857142856},\n",
       " {'Q43': 438.3333333333333},\n",
       " {'M15': 437.9142857142857},\n",
       " {'M11': 437.8965517241379},\n",
       " {'Q113': 436.2857142857143},\n",
       " {'M35': 435.5},\n",
       " {'Q53': 435.42857142857144},\n",
       " {'Q37': 434.6666666666667},\n",
       " {'Q18': 434.5},\n",
       " {'S89': 433.6666666666667},\n",
       " {'M15-SBS': 432.76},\n",
       " {'B1': 432.3636363636364},\n",
       " {'Bx3': 432.2},\n",
       " {'M2': 432.0357142857143},\n",
       " {'B84': 432.0},\n",
       " {'S46': 431.6666666666667},\n",
       " {'S40': 431.6666666666667},\n",
       " {'S44': 431.6},\n",
       " {'B8': 431.14285714285717},\n",
       " {'Q2': 430.4},\n",
       " {'Q1': 430.4},\n",
       " {'M102': 430.32142857142856},\n",
       " {'M101': 430.2857142857143},\n",
       " {'Q40': 429.0},\n",
       " {'Q15': 429.0},\n",
       " {'Q15A': 429.0},\n",
       " {'Q26': 429.0},\n",
       " {'Q12': 429.0},\n",
       " {'M103': 428.6666666666667},\n",
       " {'S62': 428.5},\n",
       " {'S52': 428.5},\n",
       " {'S42': 428.5},\n",
       " {'S48': 428.5},\n",
       " {'M104': 428.14285714285717},\n",
       " {'M34A-SBS': 427.8125},\n",
       " {'B36': 426.0},\n",
       " {'Q24': 424.9},\n",
       " {'Q56': 424.5},\n",
       " {'Q22': 424.2},\n",
       " {'M106': 422.5},\n",
       " {'M4': 422.2352941176471},\n",
       " {'S51': 422.0},\n",
       " {'B62': 421.64285714285717},\n",
       " {'B45': 421.6},\n",
       " {'M50': 420.6},\n",
       " {'B49': 420.1666666666667},\n",
       " {'Q38': 418.6666666666667},\n",
       " {'B25': 418.5},\n",
       " {'B39': 418.07142857142856},\n",
       " {'B64': 416.7142857142857},\n",
       " {'B65': 415.4},\n",
       " {'B103': 415.05263157894734},\n",
       " {'M116': 414.1666666666667},\n",
       " {'Bx22': 413.94736842105266},\n",
       " {'B41': 413.7368421052632},\n",
       " {'B69': 413.64285714285717},\n",
       " {'M3': 412.75},\n",
       " {'B24': 412.4375},\n",
       " {'B67': 412.25},\n",
       " {'Q77': 411.90909090909093},\n",
       " {'M98': 411.0},\n",
       " {'Bx24': 410.5},\n",
       " {'B38': 410.14285714285717},\n",
       " {'B44': 409.5},\n",
       " {'B54': 409.2352941176471},\n",
       " {'M100': 408.85714285714283},\n",
       " {'B44-SBS': 408.73333333333335},\n",
       " {'Bx28': 408.3181818181818},\n",
       " {'Q59': 407.8181818181818},\n",
       " {'B52': 406.46153846153845},\n",
       " {'B43': 405.7142857142857},\n",
       " {'B16': 405.14285714285717},\n",
       " {'Q7': 404.8},\n",
       " {'B6': 404.4},\n",
       " {'B61': 404.0769230769231},\n",
       " {'Q10': 404.0},\n",
       " {'Bx33': 403.0},\n",
       " {'Bx12': 402.9166666666667},\n",
       " {'Bx12-SBS': 402.9166666666667},\n",
       " {'Bx34': 402.5833333333333},\n",
       " {'M42': 402.3333333333333},\n",
       " {'Q54': 402.25},\n",
       " {'Bx1': 399.5405405405405},\n",
       " {'Bx7': 399.3333333333333},\n",
       " {'Bx2': 399.20588235294116},\n",
       " {'B48': 399.04347826086956},\n",
       " {'B32': 398.57142857142856},\n",
       " {'B82': 398.0},\n",
       " {'Q72': 397.3333333333333},\n",
       " {'Q29': 397.3333333333333},\n",
       " {'Bx19': 397.0967741935484},\n",
       " {'Q58': 395.8888888888889},\n",
       " {'B57': 395.4375},\n",
       " {'M1': 395.09090909090907},\n",
       " {'Bx8': 394.85714285714283},\n",
       " {'B26': 394.73333333333335},\n",
       " {'B60': 394.60869565217394},\n",
       " {'M96': 393.75},\n",
       " {'Bx31': 393.6},\n",
       " {'Bx39': 391.7647058823529},\n",
       " {'Q55': 390.4},\n",
       " {'Bx32': 389.67857142857144},\n",
       " {'Q50': 389.0},\n",
       " {'Bx29': 389.0},\n",
       " {'Bx23': 389.0},\n",
       " {'B12': 388.6923076923077},\n",
       " {'Bx9': 386.3157894736842},\n",
       " {'B13': 386.27272727272725},\n",
       " {'M34-SBS': 386.0},\n",
       " {'B42': 386.0},\n",
       " {'Bx21': 385.32142857142856},\n",
       " {'Bx30': 384.8888888888889},\n",
       " {'Bx11': 384.8181818181818},\n",
       " {'Bx40': 384.6923076923077},\n",
       " {'Bx42': 384.6923076923077},\n",
       " {'Bx17': 384.6470588235294},\n",
       " {'Bx41-SBS': 384.4},\n",
       " {'Bx5': 384.2},\n",
       " {'Bx35': 383.88235294117646},\n",
       " {'B17': 383.7},\n",
       " {'Bx15': 383.6578947368421},\n",
       " {'Bx18': 383.4},\n",
       " {'B46': 383.3333333333333},\n",
       " {'B14': 383.2},\n",
       " {'Bx41': 383.1951219512195},\n",
       " {'B3': 382.25},\n",
       " {'B35': 381.1},\n",
       " {'Bx6': 380.3157894736842},\n",
       " {'B15': 380.1666666666667},\n",
       " {'Bx13': 380.125},\n",
       " {'Bx38': 379.0},\n",
       " {'B7': 377.0},\n",
       " {'Bx46': 376.0},\n",
       " {'B83': 375.0},\n",
       " {'Bx4A': 373.45454545454544},\n",
       " {'Bx4': 373.45454545454544},\n",
       " {'B20': 373.1818181818182},\n",
       " {'B47': 372.73333333333335},\n",
       " {'Bx27': 372.45454545454544},\n",
       " {'Bx36': 369.4},\n",
       " {'M60': 358.6666666666667},\n",
       " {'Q44': 351.25}]"
      ]
     },
     "execution_count": 101,
     "metadata": {},
     "output_type": "execute_result"
    }
   ],
   "source": [
    "listResultsByBus"
   ]
  }
 ],
 "metadata": {
  "kernelspec": {
   "display_name": "Python 3",
   "language": "python",
   "name": "python3"
  },
  "language_info": {
   "codemirror_mode": {
    "name": "ipython",
    "version": 3
   },
   "file_extension": ".py",
   "mimetype": "text/x-python",
   "name": "python",
   "nbconvert_exporter": "python",
   "pygments_lexer": "ipython3",
   "version": "3.7.1"
  }
 },
 "nbformat": 4,
 "nbformat_minor": 1
}
