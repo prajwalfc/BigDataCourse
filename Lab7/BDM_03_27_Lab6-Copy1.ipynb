{
 "cells": [
  {
   "cell_type": "code",
   "execution_count": 2,
   "metadata": {
    "scrolled": true
   },
   "outputs": [
    {
     "data": {
      "text/html": [
       "\n",
       "        <div>\n",
       "            <p><b>SparkContext</b></p>\n",
       "\n",
       "            <p><a href=\"http://146.96.33.64:4045\">Spark UI</a></p>\n",
       "\n",
       "            <dl>\n",
       "              <dt>Version</dt>\n",
       "                <dd><code>v2.4.0</code></dd>\n",
       "              <dt>Master</dt>\n",
       "                <dd><code>local[*]</code></dd>\n",
       "              <dt>AppName</dt>\n",
       "                <dd><code>PySparkShell</code></dd>\n",
       "            </dl>\n",
       "        </div>\n",
       "        "
      ],
      "text/plain": [
       "<SparkContext master=local[*] appName=PySparkShell>"
      ]
     },
     "execution_count": 2,
     "metadata": {},
     "output_type": "execute_result"
    }
   ],
   "source": [
    "sc"
   ]
  },
  {
   "cell_type": "code",
   "execution_count": 3,
   "metadata": {},
   "outputs": [],
   "source": [
    "def filterBike(pid,records):\n",
    "    if pid ==0:\n",
    "        next(records)\n",
    "    for record in records:\n",
    "        fields =  record.split(',')\n",
    "        if(fields[6]=='Greenwich Ave & 8 Ave' and fields[3].startswith('2015-02-01')):\n",
    "            yield(fields[3][:19],1)\n"
   ]
  },
  {
   "cell_type": "code",
   "execution_count": 4,
   "metadata": {},
   "outputs": [
    {
     "data": {
      "text/plain": [
       "['cartodb_id',\n",
       " 'the_geom',\n",
       " 'tripduration',\n",
       " 'starttime',\n",
       " 'stoptime',\n",
       " 'start_station_id',\n",
       " 'start_station_name',\n",
       " 'start_station_latitude',\n",
       " 'start_station_longitude',\n",
       " 'end_station_id',\n",
       " 'end_station_name',\n",
       " 'end_station_latitude',\n",
       " 'end_station_longitude',\n",
       " 'bikeid',\n",
       " 'usertype',\n",
       " 'birth_year',\n",
       " 'gender']"
      ]
     },
     "execution_count": 4,
     "metadata": {},
     "output_type": "execute_result"
    }
   ],
   "source": [
    "bike = sc.textFile('citibike.csv')\n",
    "bike.take(1)[0].split(',')\n"
   ]
  },
  {
   "cell_type": "code",
   "execution_count": 5,
   "metadata": {
    "scrolled": true
   },
   "outputs": [
    {
     "data": {
      "text/plain": [
       "[('2015-02-01 00:05:00', 1), ('2015-02-01 00:05:00', 1)]"
      ]
     },
     "execution_count": 5,
     "metadata": {},
     "output_type": "execute_result"
    }
   ],
   "source": [
    "matchedBike = bike.mapPartitionsWithIndex(filterBike)\n",
    "matchedBike.take(2)"
   ]
  },
  {
   "cell_type": "code",
   "execution_count": 6,
   "metadata": {},
   "outputs": [],
   "source": [
    "def filterTaxi(pid,lines):\n",
    "    if pid == 0:\n",
    "        next(lines)\n",
    "    import pyproj\n",
    "    proj = pyproj.Proj(init = 'epsg:2263',preserve_units = True)\n",
    "    station = proj(-74.00263761,40.73901691)\n",
    "    print(station.)\n",
    "    radius = 1320**2\n",
    "    for trip in lines:\n",
    "        fields  = trip.split(',')\n",
    "        if 'NULL' in fields[4:6]: continue\n",
    "        dropoff  = proj(fields[5],fields[4])\n",
    "        distance = ((station[0]-dropoff[0])**2 + (station[1] - dropoff[1])**2)\n",
    "        if distance<=radius:\n",
    "            yield(fields[1][:19],0)"
   ]
  },
  {
   "cell_type": "code",
   "execution_count": 7,
   "metadata": {},
   "outputs": [],
   "source": [
    "# def filterTaxi(pid, lines):\n",
    "#    if pid ==0:\n",
    "#        next(lines)\n",
    "#    import pyproj\n",
    "#    proj = pyproj.Proj(init='epsg:2263', preserve_units=True)\n",
    "#    station = proj(-74.00263761, 40.73901691)\n",
    "#    radius = 1320**2\n",
    "#    for trip in lines:\n",
    "#        fields = trip.split(',')\n",
    "#        if 'NULL' in fields[4:6]: continue\n",
    "#        dropoff = proj(fields[5], fields[4])\n",
    "#        distance = ((station[0] - dropoff[0])**2 + (station[1] - dropoff[1])**2)\n",
    "#        if distance <= radius:\n",
    "#            yield (fields[1][:19],0)\n",
    "\n",
    "# taxi = sc.textFile('yellow.csv')\n",
    "# taxi.take(2)[1].split(',')\n",
    "# matchedTaxi = taxi.mapPartitionsWithIndex(filterTaxi)\n",
    "# matchedTaxi.take(2)"
   ]
  },
  {
   "cell_type": "code",
   "execution_count": 8,
   "metadata": {},
   "outputs": [
    {
     "data": {
      "text/plain": [
       "[('2015-02-01 00:11:03', 0), ('2015-02-01 00:10:23', 0)]"
      ]
     },
     "execution_count": 8,
     "metadata": {},
     "output_type": "execute_result"
    }
   ],
   "source": [
    "taxi = sc.textFile('yellow.csv')\n",
    "taxi.take(2)[1].split(',')\n",
    "matchedTaxi = taxi.mapPartitionsWithIndex(filterTaxi)\n",
    "matchedTaxi.take(2)"
   ]
  },
  {
   "cell_type": "code",
   "execution_count": 9,
   "metadata": {},
   "outputs": [
    {
     "data": {
      "text/plain": [
       "[('2015-02-01 00:03:12', 0),\n",
       " ('2015-02-01 00:04:39', 0),\n",
       " ('2015-02-01 00:05:00', 1),\n",
       " ('2015-02-01 00:05:00', 1),\n",
       " ('2015-02-01 00:05:38', 0),\n",
       " ('2015-02-01 00:06:15', 0),\n",
       " ('2015-02-01 00:07:07', 0)]"
      ]
     },
     "execution_count": 9,
     "metadata": {},
     "output_type": "execute_result"
    }
   ],
   "source": [
    "allTrips = (matchedBike+matchedTaxi).sortByKey().cache()\n",
    "allTrips.take(7)"
   ]
  },
  {
   "cell_type": "code",
   "execution_count": 10,
   "metadata": {},
   "outputs": [
    {
     "data": {
      "text/plain": [
       "42"
      ]
     },
     "execution_count": 10,
     "metadata": {},
     "output_type": "execute_result"
    }
   ],
   "source": [
    "def connectTrips(_, records):\n",
    "   import datetime\n",
    "   lastTaxiTime = None\n",
    "   count = 0\n",
    "   for dt, mode in records:\n",
    "       t = datetime.datetime.strptime(dt, '%Y-%m-%d %H:%M:%S')\n",
    "       if mode == 1:\n",
    "           if lastTaxiTime != None:\n",
    "               diff = (t-lastTaxiTime).total_seconds()\n",
    "               if  0 <= diff <= 10:\n",
    "                   count += 1\n",
    "       else:\n",
    "           lastTaxiTime = t\n",
    "   yield count\n",
    "\n",
    "\n",
    "allTrips.mapPartitionsWithIndex(connectTrips).reduce(lambda x,y: x+y)"
   ]
  },
  {
   "cell_type": "code",
   "execution_count": null,
   "metadata": {},
   "outputs": [],
   "source": []
  },
  {
   "cell_type": "code",
   "execution_count": null,
   "metadata": {},
   "outputs": [],
   "source": []
  }
 ],
 "metadata": {
  "kernelspec": {
   "display_name": "Python 3",
   "language": "python",
   "name": "python3"
  },
  "language_info": {
   "codemirror_mode": {
    "name": "ipython",
    "version": 3
   },
   "file_extension": ".py",
   "mimetype": "text/x-python",
   "name": "python",
   "nbconvert_exporter": "python",
   "pygments_lexer": "ipython3",
   "version": "3.7.3"
  }
 },
 "nbformat": 4,
 "nbformat_minor": 1
}
