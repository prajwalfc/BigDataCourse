{
 "cells": [
  {
   "cell_type": "code",
   "execution_count": 1,
   "metadata": {},
   "outputs": [],
   "source": [
    "import random\n",
    "import math\n",
    "class CountMinSketch:\n",
    "    def __init__(self, width, depth):\n",
    "        self.width = width\n",
    "        self.depth = depth\n",
    "        self.LONG_PRIME = 4294967311\n",
    "        self.SOME_RAND=random.random()*(10**8)\n",
    "        self.countMatrix = [[0]*width for _ in range(depth)]\n",
    "        self.total=0\n",
    "        self.hashes=[[0]*2 for _ in range(depth)]\n",
    "        for i in self.hashes:\n",
    "            i[0]=int(float(random.random()*(10**8))*float(self.LONG_PRIME)/float(self.SOME_RAND) + 1);\n",
    "            i[1]=int(float(random.random()*(10**8))*float(self.LONG_PRIME)/float(self.SOME_RAND) + 1);   \n",
    "    \n",
    "    def getHashOfString(self,s):  #hash_djb2                                                                                                        \n",
    "        hash = 5381\n",
    "        for x in s:\n",
    "            hash = (( hash << 5) + hash) + ord(x)\n",
    "        return hash & 0xFFFFFFFF\n",
    "    \n",
    "    def update(self,item, size):\n",
    "        self.total+=size\n",
    "        hashval=0\n",
    "        hashed_item=self.getHashOfString(item)\n",
    "        for j in range(self.depth):\n",
    "            hashval = ((self.hashes[j][0]*hashed_item + self.hashes[j][1])%self.LONG_PRIME)%self.width\n",
    "            self.countMatrix[j][hashval]+=size\n",
    "    \n",
    "    def estimate(self,item):\n",
    "        minval=math.inf\n",
    "        hashval=0\n",
    "        hashed_item=self.getHashOfString(item)\n",
    "        for j in range(self.depth):\n",
    "            hashval = ((self.hashes[j][0]*hashed_item + self.hashes[j][1])%self.LONG_PRIME)%self.width\n",
    "            minval = min(minval,self.countMatrix[j][hashval])\n",
    "        return minval"
   ]
  },
  {
   "cell_type": "code",
   "execution_count": 2,
   "metadata": {},
   "outputs": [
    {
     "data": {
      "text/plain": [
       "[[0, 0, 0, 0, 0, 0, 0],\n",
       " [0, 0, 0, 0, 0, 0, 0],\n",
       " [0, 0, 0, 0, 0, 0, 0],\n",
       " [0, 0, 0, 0, 0, 0, 0]]"
      ]
     },
     "execution_count": 2,
     "metadata": {},
     "output_type": "execute_result"
    }
   ],
   "source": [
    "c=CountMinSketch(7,4)\n",
    "c.countMatrix"
   ]
  },
  {
   "cell_type": "code",
   "execution_count": 30,
   "metadata": {},
   "outputs": [],
   "source": [
    "c.update('hhs',5)"
   ]
  },
  {
   "cell_type": "code",
   "execution_count": 31,
   "metadata": {},
   "outputs": [
    {
     "data": {
      "text/plain": [
       "12"
      ]
     },
     "execution_count": 31,
     "metadata": {},
     "output_type": "execute_result"
    }
   ],
   "source": [
    "c.estimate('hhs')"
   ]
  },
  {
   "cell_type": "code",
   "execution_count": 32,
   "metadata": {},
   "outputs": [
    {
     "ename": "TypeError",
     "evalue": "update() missing 1 required positional argument: 'size'",
     "output_type": "error",
     "traceback": [
      "\u001b[0;31m---------------------------------------------------------------------------\u001b[0m",
      "\u001b[0;31mTypeError\u001b[0m                                 Traceback (most recent call last)",
      "\u001b[0;32m<ipython-input-32-db3816ab98a0>\u001b[0m in \u001b[0;36m<module>\u001b[0;34m\u001b[0m\n\u001b[0;32m----> 1\u001b[0;31m \u001b[0mc\u001b[0m\u001b[0;34m.\u001b[0m\u001b[0mupdate\u001b[0m\u001b[0;34m(\u001b[0m\u001b[0;34m'hhhs'\u001b[0m\u001b[0;34m)\u001b[0m\u001b[0;34m\u001b[0m\u001b[0;34m\u001b[0m\u001b[0m\n\u001b[0m",
      "\u001b[0;31mTypeError\u001b[0m: update() missing 1 required positional argument: 'size'"
     ]
    }
   ],
   "source": [
    "c.update('hhhs')"
   ]
  },
  {
   "cell_type": "code",
   "execution_count": null,
   "metadata": {},
   "outputs": [],
   "source": []
  }
 ],
 "metadata": {
  "kernelspec": {
   "display_name": "Python 3",
   "language": "python",
   "name": "python3"
  },
  "language_info": {
   "codemirror_mode": {
    "name": "ipython",
    "version": 3
   },
   "file_extension": ".py",
   "mimetype": "text/x-python",
   "name": "python",
   "nbconvert_exporter": "python",
   "pygments_lexer": "ipython3",
   "version": "3.7.1"
  }
 },
 "nbformat": 4,
 "nbformat_minor": 2
}
