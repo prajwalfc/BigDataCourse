{
 "cells": [
  {
   "cell_type": "code",
   "execution_count": 1,
   "metadata": {},
   "outputs": [],
   "source": [
    "import sys\n",
    "import csv\n",
    "from countminsketch1 import CountMinSketch\n"
   ]
  },
  {
   "cell_type": "code",
   "execution_count": 2,
   "metadata": {},
   "outputs": [],
   "source": [
    "item_set = set()\n",
    "currentCustomer=''\n",
    "itemCount = CountMinSketch(10,10)\n",
    "itemRevenue = CountMinSketch(10,10)\n",
    "def salesRead(filename):\n",
    "    with open(filename, 'r') as fi:\n",
    "        reader = csv.DictReader(fi)\n",
    "        for row in reader:\n",
    "            yield(row)"
   ]
  },
  {
   "cell_type": "code",
   "execution_count": 3,
   "metadata": {},
   "outputs": [],
   "source": [
    "input_file = sys.argv[1]\n",
    "out_file = sys.argv[2]\n",
    "individual_cart = set()\n",
    "for hod in salesRead('sale.csv'):  \n",
    "    product_id = hod['Product ID']\n",
    "    customer_id = hod['Customer ID']\n",
    "    item_cost = hod['Item Cost']\n",
    "    itemRevenue.put(product_id,float(item_cost))\n",
    "    if(currentCustomer != customer_id):\n",
    "        individual_cart = set()\n",
    "    elif (product_id in individual_cart):\n",
    "        continue\n",
    "    individual_cart.add(product_id)\n",
    "    item_set.add(product_id)\n",
    "    itemCount.put(product_id,1)\n",
    "    currentCustomer = customer_id\n",
    "    "
   ]
  },
  {
   "cell_type": "code",
   "execution_count": 4,
   "metadata": {},
   "outputs": [
    {
     "name": "stdout",
     "output_type": "stream",
     "text": [
      "[['P39328', 17, 1129.01]]\n",
      "[['P58225', 17, 1349.82]]\n",
      "[['P19498', 17, 989.99]]\n",
      "[['P33162', 18, 1210.92]]\n",
      "[['P76615', 18, 1087.96]]\n",
      "[['P82222', 17, 950.05]]\n",
      "[['P32565', 17, 1006.09]]\n",
      "[['P61235', 18, 959.02]]\n",
      "[['P02291', 16, 1181.97]]\n",
      "[['P92449', 14, 966.17]]\n"
     ]
    }
   ],
   "source": [
    "header = [['Product ID','Customer Count','Total Revenue']]\n",
    "with open('ouptut.csv', 'w') as writeFile:\n",
    "    writer = csv.writer(writeFile)\n",
    "    writer.writerows(header)\n",
    "    for item in item_set:\n",
    "        line =[[]]\n",
    "        line=[[item,itemCount.get(item),round(itemRevenue.get(item),2)]]\n",
    "        print(line)\n",
    "        writer.writerows(line)\n",
    "writeFile.close()"
   ]
  },
  {
   "cell_type": "code",
   "execution_count": null,
   "metadata": {},
   "outputs": [],
   "source": [
    "[['P92449', 83, 966.17]]\n",
    "[['P61235', 98, 959.02]]\n",
    "[['P19498', 101, 989.99]]\n",
    "[['P33162', 108, 1210.92]]\n",
    "[['P58225', 118, 1349.82]]\n",
    "[['P32565', 91, 1006.09]]\n",
    "[['P02291', 103, 1181.97]]\n",
    "[['P76615', 104, 1087.96]]\n",
    "[['P39328', 99, 1129.01]]\n",
    "[['P82222', 95, 950.05]]"
   ]
  }
 ],
 "metadata": {
  "kernelspec": {
   "display_name": "Python 3",
   "language": "python",
   "name": "python3"
  },
  "language_info": {
   "codemirror_mode": {
    "name": "ipython",
    "version": 3
   },
   "file_extension": ".py",
   "mimetype": "text/x-python",
   "name": "python",
   "nbconvert_exporter": "python",
   "pygments_lexer": "ipython3",
   "version": "3.7.1"
  }
 },
 "nbformat": 4,
 "nbformat_minor": 2
}
