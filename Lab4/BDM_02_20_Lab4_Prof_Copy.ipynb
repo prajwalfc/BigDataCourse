{
 "cells": [
  {
   "cell_type": "markdown",
   "metadata": {},
   "source": [
    "# Lab 4 - MapReduce\n",
    "\n",
    "In this lab, we are practicing the MapReduce programming paradigm. \n",
    "\n",
    "We will complete the tasks using the accompanied *mapreduce* package (as **mapreduce.py**) and MRJob. Please download the **mapreduce.py** file from our online class resource page, and place it in the same folder with your notebook.\n",
    "\n",
    "Please also install MRJob through **pip install mrjob**.\n",
    "\n",
    "For each invocation of an MapREduce job (with mr.run()), you are expected to supply a mapper, a reducer and/or a combiner as needed. Below are sample usage of the package:\n",
    "\n",
    "```python\n",
    "    # Run on input1 using your mapper1 and reducer1 function\n",
    "    output = list(mr.run(input1, mapper1, reducer1))\n",
    "\n",
    "    # Run on input2 using only your mapper2, no reduce phase\n",
    "    output = list(mr.run(enumerate(input2), mapper2, combiner2))\n",
    "    \n",
    "    # Run on input3 using 2 nested MapReduce jobs\n",
    "    output = mr.run(mr.run(input3, mapper3, reducer3), mapper4)\n",
    "```\n",
    "    \n",
    "Please note that the input must be an iteratable of **key/value pairs**. If your input data does not have a key, you can simply add a null or index key through **enumerator(input)**. The output of the mr.run() is always a **generator**. You have to cast it to a list if you'd like to view, index or print it out.\n",
    "\n",
    "The tasks below also include those that are in Homework 2, but we're using MapReduce instead of Python's general Higher Order Functions.\n",
    "\n",
    "You will need **book.txt** and **citibike.csv** file from the class resource page."
   ]
  },
  {
   "cell_type": "code",
   "execution_count": 12,
   "metadata": {},
   "outputs": [],
   "source": [
    "import csv\n",
    "import mapreduce as mr"
   ]
  },
  {
   "cell_type": "markdown",
   "metadata": {},
   "source": [
    "## Task 0\n",
    "\n",
    "Here is another concrete example on \"Word Count\" using the package. Assuming we have a text file named *book.txt*. Our task is to count the frequency of words in this document, and print the top 10. For illustration purposes, we use only the first 1000 lines of the book for counting."
   ]
  },
  {
   "cell_type": "code",
   "execution_count": 19,
   "metadata": {},
   "outputs": [
    {
     "name": "stdout",
     "output_type": "stream",
     "text": [
      "[('the', 360), ('of', 326), ('and', 246), ('a', 169), ('or', 161), ('to', 101), ('with', 100), ('in', 88), ('on', 67), ('as', 56), ('are', 52), ('coins', 46), ('The', 45), ('which', 45), ('is', 42), ('be', 34), ('have', 34), ('other', 34), ('that', 33), ('_Obverse_,', 32), ('by', 31), ('_Reverse_,', 30), ('been', 30), ('from', 29), ('name', 25), ('some', 25), ('an', 23), ('letters', 23), ('at', 22), ('but', 20), ('one', 20), ('more', 18), ('REX', 17), ('has', 17), ('two', 17), ('was', 17), ('[Illustration]', 16), ('horse', 16), ('it', 16), ('may', 16), ('moneyer’s', 16), ('those', 16), ('A', 15), ('for', 15), ('bust', 14), ('this', 14), ('others,', 13), ('were', 13), ('country', 12), ('cross', 12), ('etc.', 12), ('not', 12), ('about', 11), ('horse,', 11), ('name,', 11), ('our', 11), ('upon', 11), ('\"', 10), ('_reverse_,', 10), ('between', 10), ('first', 10), ('had', 10), ('less', 10), ('part', 10), ('present', 10), ('rude', 10), ('without', 10), ('}', 10), ('OF', 9), ('being', 9), ('coin', 9), ('coins,', 9), ('disjointed', 9), ('etc.,', 9), ('its', 9), ('most', 9), ('no', 9), ('their', 9), ('who', 9), ('within', 9), ('CVNO.', 8), ('REX,', 8), ('any', 8), ('son', 8), ('struck', 8), ('type', 8), ('what', 8), ('winged', 8), ('(p.', 7), ('COM', 7), ('Coins', 7), ('One', 7), ('_obverse_', 7), ('above', 7), ('across', 7), ('beaded', 7), ('bearing', 7), ('considerable', 7), ('counties', 7), ('gold', 7), ('head', 7), ('his', 7), ('known', 7), ('known.', 7), ('lines', 7), ('number', 7), ('period', 7), ('some,', 7), ('there', 7), ('they', 7), ('types', 7), ('various', 7), ('very', 7), ('whose', 7), ('6,', 6), ('DISTRICT,', 6), ('F', 6), ('Fig.', 6), ('REX.', 6), ('Roman', 6), ('THE', 6), ('and,', 6), ('bear', 6), ('before', 6), ('comprising', 6), ('early', 6), ('found', 6), ('horseman', 6), ('inscribed', 6), ('limbs', 6), ('made', 6), ('of--', 6), ('others', 6), ('parts', 6), ('same', 6), ('these', 6), ('three', 6), ('uninscribed', 6), ('well', 6), ('*', 5), ('A.D.', 5), ('B.C.', 5), ('British', 5), ('F;', 5), ('It', 5), ('Mr.', 5), ('_obverse_,', 5), ('almost', 5), ('also', 5), ('art', 5), ('became', 5), ('certain', 5), ('contemporary', 5), ('cross,', 5), ('each', 5), ('earliest', 5), ('etc.;', 5), ('general', 5), ('imitations', 5), ('mintage', 5), ('money', 5), ('place', 5), ('side', 5), ('so', 5), ('varieties', 5), ('(?)', 4), ('C', 4), ('CEOLVVLF', 4), ('COINS', 4), ('COMMI', 4), ('CVN.', 4), ('English', 4), ('Greek', 4), ('RICON', 4), ('Surrey,', 4), ('TASCI', 4), ('Tasciovanus', 4), ('_circa_', 4), ('_reverse_', 4), ('all', 4), ('among', 4), ('appear', 4), ('attempt', 4), ('attributed', 4), ('bust,', 4), ('character', 4), ('classed', 4), ('coast', 4), ('cruciform', 4), ('date.', 4), ('device', 4), ('engraved', 4), ('examples', 4), ('fifty', 4), ('head;', 4), ('here', 4), ('inner', 4), ('into', 4), ('king', 4), ('laureated', 4), ('letter', 4), ('much', 4), ('name.', 4), ('names', 4), ('over', 4), ('profile', 4), ('said', 4), ('seem', 4), ('seems', 4), ('show', 4), ('silver', 4), ('supposed', 4), ('tablet', 4), ('than', 4), ('them', 4), ('therefore,', 4), ('time', 4), ('town', 4), ('tribes', 4), ('under', 4), ('usually', 4), ('variety', 4), ('word', 4), ('your', 4), ('(?).', 3), ('(and', 3), ('Among', 3), ('Anglo-Saxon', 3), ('BODVOC', 3), ('Berkshire.', 3), ('CVNOBELINVS.', 3), ('Celtic', 3), ('Commivs.', 3), ('D', 3), ('Devonshire.', 3), ('EPPI', 3), ('Evans,', 3), ('F.', 3), ('Hampshire,', 3), ('I', 3), ('I.,', 3), ('Iceni.', 3), ('Kent', 3), ('M,', 3), ('RE,', 3), ('Saxon', 3), ('Suffolk,', 3), ('Sussex,', 3), ('TASCIO', 3), ('TINC', 3), ('V.', 3), ('VERICA', 3), ('VIR;', 3), ('_KINGS', 3), ('_reverse_;', 3), ('_stater_', 3), ('after', 3), ('ancient', 3), ('angles', 3), ('another', 3), ('are,', 3), ('ascribed', 3), ('began', 3), ('below', 3), ('branch', 3), ('brother', 3), ('bust.', 3), ('can', 3), ('capital', 3), ('central', 3), ('chariot-wheel,', 3), ('circle,', 3), ('city', 3), ('class', 3), ('country;', 3), ('currency', 3), ('degree', 3), ('described', 3), ('device.', 3), ('different', 3), ('double', 3), ('during', 3), ('eagle', 3), ('engraved.', 3), ('evidently', 3), ('figure', 3), ('four', 3), ('front', 3), ('generally', 3), ('geographical', 3), ('gradual', 3), ('has,', 3), ('have,', 3), ('head,', 3), ('her', 3), ('him', 3), ('however,', 3), ('hundred', 3), ('imitation', 3), ('included', 3), ('knowledge', 3), ('known,', 3), ('laws', 3), ('localities', 3), ('looked', 3), ('moneyers’', 3), ('naturally,', 3), ('only', 3), ('ordinary', 3), ('original', 3), ('own', 3), ('referred', 3), ('reign', 3), ('right,', 3), ('rising', 3), ('serve', 3), ('several', 3), ('side,', 3), ('similar', 3), ('sons', 3), ('sunk', 3), ('tablet,', 3), ('tablet;', 3), ('thus', 3), ('two,', 3), ('uncertain', 3), ('use', 3), ('varieties.', 3), ('was,', 3), ('we', 3), ('yet', 3), ('(supposed', 2), ('***', 2), ('...', 2), ('...,', 2), ('1', 2), ('2', 2), ('24', 2), ('5', 2), ('A,', 2), ('AMMINVS.', 2), ('AN.', 2), ('ANCIENT', 2), ('AND', 2), ('ANDOCO;', 2), ('ANDOCO[MIVS]', 2), ('ANTED,', 2), ('AVN', 2), ('About', 2), ('Abp.', 2), ('And', 2), ('Another', 2), ('As', 2), ('B.C.,', 2), ('BALDRED,', 2), ('BELI.', 2), ('BEORHTRIC,', 2), ('BY', 2), ('Barclay', 2), ('Bedfordshire,', 2), ('Berks,', 2), ('Berkshire,', 2), ('Boadicea,', 2), ('Brigantes,', 2), ('Britons', 2), ('Britons,', 2), ('Buckinghamshire,', 2), ('But', 2), ('CA', 2), ('CAM.', 2), ('CAMVL.', 2), ('CANT.', 2), ('CATTI.', 2), ('CAV', 2), ('CIOLVVLF', 2), ('COMMIVS', 2), ('COMVX.', 2), ('CV', 2), ('CVDRED', 2), ('CVNO', 2), ('CVNOBELI.', 2), ('CVNOBELINI.', 2), ('CVNOBELINVS', 2), ('Cambridgeshire,', 2), ('Canterbury,', 2), ('Chapter', 2), ('Coins,', 2), ('Commius.', 2), ('Cunobeline.', 2), ('DVRO', 2), ('Derbyshire,', 2), ('Dorsetshire.', 2), ('E', 2), ('EADMUND,', 2), ('ECEN', 2), ('ENGLISH', 2), ('EPPI,', 2), ('EPPILLVS,', 2), ('ETHELWARD,', 2), ('Epaticcus,', 2), ('Evans', 2), ('F,', 2), ('From', 2), ('Gaul', 2), ('Gaul,', 2), ('Gaulish', 2), ('Gloucester,', 2), ('Great', 2), ('Gutenberg', 2), ('Hants,', 2), ('Head', 2), ('Hercules,', 2), ('Hertfordshire.', 2), ('Huntingdonshire,', 2), ('I.', 2), ('II.', 2), ('II.,', 2), ('INAM,', 2), ('INARA.', 2), ('INMA,', 2), ('In', 2), ('Irish', 2), ('Jewitt', 2), ('Lancashire,', 2), ('Leicestershire,', 2), ('Llewellynn', 2), ('M', 2), ('M.', 2), ('MV.', 2), ('Macedon,', 2), ('Massilia', 2), ('Mercia,', 2), ('Middlesex,', 2), ('Monmouthshire,', 2), ('Northamptonshire,', 2), ('Of', 2), ('Offa,', 2), ('On', 2), ('Other', 2), ('Oxfordshire', 2), ('P', 2), ('Pegasus,', 2), ('Pegasus;', 2), ('Philip', 2), ('Philippus', 2), ('Project', 2), ('R', 2), ('RE', 2), ('RX,', 2), ('Runic', 2), ('SEGO', 2), ('SVEI.', 2), ('Scotland.', 2), ('Sea.', 2), ('Some', 2), ('St.', 2), ('Staffordshire,', 2), ('T', 2), ('TASC', 2), ('TASC.', 2), ('TASCIA;', 2), ('TASCIO.', 2), ('TASCIOVANI.', 2), ('TIN;', 2), ('Tasciovanus,', 2), ('Tasciovanus.', 2), ('These', 2), ('This', 2), ('United', 2), ('VEP', 2), ('VEROS,', 2), ('VOSE[NOS]', 2), ('Verulamium,', 2), ('Victory', 2), ('West', 2), ('Wilts,', 2), ('[Illustration:', 2), ('_recorded_', 2), ('_sceat_', 2), ('above,', 2), ('accompanied', 2), ('accompaniments,', 2), ('according', 2), ('acquired', 2), ('additional', 2), ('adjacent', 2), ('already', 2), ('also,', 2), ('another,', 2), ('appropriated', 2), ('appropriation', 2), ('approximate', 2), ('arrangement', 2), ('assigned', 2), ('at.', 2), ('attempted', 2), ('back', 2), ('barbarous', 2), ('bearded', 2), ('bears', 2), ('becomes', 2), ('before,', 2), ('beneath', 2), ('beneath,', 2), ('biga,', 2), ('birth', 2), ('bull’s', 2), ('certainty', 2), ('certainty,', 2), ('characters,', 2), ('chariot-wheel', 2), ('chief', 2), ('circular', 2), ('civilization', 2), ('coin,', 2), ('coinage', 2), ('commencement', 2), ('conclusion,', 2), ('conjoined,', 2), ('convenient', 2), ('convex', 2), ('country,', 2), ('crescents', 2), ('cross;', 2), ('crosses', 2), ('curved', 2), ('date', 2), ('derived', 2), ('design', 2), ('device,', 2), ('devices,', 2), ('diademed', 2), ('died', 2), ('divided', 2), ('doubtful.', 2), ('draped', 2), ('eBook', 2), ('every', 2), ('evidence', 2), ('evident', 2), ('example', 2), ('example.', 2), ('extent', 2), ('facing', 2), ('field;', 2), ('figure,', 2), ('fixed', 2), ('following', 2), ('formed', 2), ('galloping,', 2), ('given', 2), ('greater', 2), ('having,', 2), ('heads', 2), ('higher', 2), ('horse.', 2), ('horseman,', 2), ('imitated', 2), ('indeed', 2), ('indications,', 2), ('inhabitants', 2), ('inhabited', 2), ('inland', 2), ('island', 2), ('it,', 2), ('kind', 2), ('king,', 2), ('kings.', 2), ('last', 2), ('last,', 2), ('later', 2), ('latter', 2), ('left,', 2), ('letters,', 2), ('letters.', 2), ('line', 2), ('located', 2), ('long', 2), ('marks', 2), ('matter', 2), ('minor', 2), ('mints', 2), ('moneyers', 2), ('mounted', 2), ('my', 2), ('name;', 2), ('national', 2), ('naturally', 2), ('none', 2), ('northern', 2), ('nothing', 2), ('now,', 2), ('numerous', 2), ('object', 2), ('object;', 2), ('oblong', 2), ('occasionally', 2), ('occurs', 2), ('one,', 2), ('opinion', 2), ('order', 2), ('originally', 2), ('ornament,', 2), ('ornament;', 2), ('ornaments;', 2), ('other;', 2), ('out', 2), ('outwards,', 2), ('partaking', 2), ('pellets', 2), ('place,', 2), ('points', 2), ('portion', 2), ('portions', 2), ('possible', 2), ('probability', 2), ('produced', 2), ('range', 2), ('reason,', 2), ('received', 2), ('reverse,', 2), ('ring,', 2), ('rule,', 2), ('satisfactorily', 2), ('say', 2), ('seated', 2), ('seven', 2), ('she', 2), ('shield,', 2), ('should', 2), ('simply', 2), ('single', 2), ('singular', 2), ('standing', 2), ('star', 2), ('step', 2), ('study', 2), ('taken', 2), ('them,', 2), ('third', 2), ('three,', 2), ('through', 2), ('to;', 2), ('tolerably', 2), ('torque', 2), ('tribe,', 2), ('true', 2), ('types.', 2), ('undraped', 2), ('unknown.', 2), ('usual', 2), ('where', 2), ('whole', 2), ('will', 2), ('would', 2), ('wreath', 2), ('written', 2), ('you', 2), ('ÆTHELSTAN', 2), ('Æthelstan', 2), ('“The', 2), ('“finds”', 2), ('#51302]', 1), ('&', 1), ('(924-940),', 1), ('(?),', 1), ('(Colchester)', 1), ('(Marseilles),', 1), ('(This', 1), ('(already', 1), ('(or', 1), ('(placed', 1), ('(possibly', 1), ('(probably', 1), ('(said', 1), ('(say', 1), ('(which', 1), ('150', 1), ('1770', 1), ('1886.', 1), ('2016', 1), ('240th', 1), ('26,', 1), ('30', 1), ('356,', 1), ('40', 1), ('41', 1), ('45', 1), ('5),', 1), ('55', 1), ('5760', 1), ('59', 1), ('600,', 1), ('670-685.', 1), ('685-705.', 1), ('688.', 1), ('725-764.', 1), ('737-758.', 1), ('757', 1), ('757-796.', 1), ('759-765.', 1), ('765-791.', 1), ('794-798.', 1), ('794-818.', 1), ('796.', 1), ('798-805.', 1), ('805-823.', 1), ('819-827.', 1), ('819.', 1), ('820-824.', 1), ('824,', 1), ('825-839.', 1), ('825.', 1), ('828-837.', 1), ('837-850.', 1), ('839-852.', 1), ('852-874.', 1), ('852.', 1), ('855-870.', 1), ('857', 1), ('870-890.', 1), ('874.', 1), ('A-J,', 1), ('ACSV', 1), ('ADDEDO,', 1), ('ADDEDO-MARVS,', 1), ('ADDEDOMAROS.', 1), ('ADDEDOMARVS,', 1), ('ADMVND;', 1), ('AESV,', 1), ('AETHELVVEARD,', 1), ('ALDFRID,', 1), ('ALDFRIDVS.', 1), ('AM,', 1), ('AM.', 1), ('AM;', 1), ('AMMI;', 1), ('AMMINVS', 1), ('ANCALITES,', 1), ('ANDO;', 1), ('ANDOC,', 1), ('ANG.', 1), ('ANGLES._', 1), ('ANGLO-SAXONS.', 1), ('ANTD', 1), ('ANTED', 1), ('ANTEDRIGV,', 1), ('ANTEDRIGVS', 1), ('ANTEDRIGVS.', 1), ('ANTE[BO]', 1), ('ANTE[BO],', 1), ('ANTE[BO]RI,', 1), ('ATHBADIV.', 1), ('ATREBATES,', 1), ('ATTACOTTI,', 1), ('AVN-T,', 1), ('AVNT', 1), ('A[BO][BO]IIDO[M],', 1), ('According', 1), ('Albans,', 1), ('Alfred.', 1), ('Anglesea.', 1), ('Antiquities;”', 1), ('Apollo,', 1), ('Archive)', 1), ('Archæological', 1), ('Art', 1), ('Ascertained', 1), ('Atrebatii,', 1), ('Augusti.', 1), ('Augustus', 1), ('Augustus,', 1), ('Author:', 1), ('B', 1), ('B);', 1), ('B.', 1), ('BARCLAY', 1), ('BAS', 1), ('BEALDRED', 1), ('BELDRED,', 1), ('BELGÆ,', 1), ('BEONNA', 1), ('BEONNA.', 1), ('BEORCHTRIC,', 1), ('BEORMIRIC,', 1), ('BEORNVVLF', 1), ('BEORNVVLF,', 1), ('BEORNWVLF', 1), ('BERHTVLF', 1), ('BERHTVVLF', 1), ('BERTHVVLF,', 1), ('BIBROCI,', 1), ('BODVO', 1), ('BODVO,', 1), ('BODVOC,', 1), ('BODVOC.', 1), ('BRIGANTES,', 1), ('BRIGANTES.', 1), ('BRITISH', 1), ('BRITONS.', 1), ('BURGHRED,', 1), ('BVRGRD;', 1), ('BVRGRED', 1), ('Beds.,', 1), ('Belgic', 1), ('Belgæ,', 1), ('Beonna', 1), ('Beorn', 1), ('Besides', 1), ('Bibroci.', 1), ('Boadicea.', 1), ('Brecknockshire,', 1), ('Bristol', 1), ('Bristol,', 1), ('Britain', 1), ('Britain;”', 1), ('Briton,', 1), ('Buckingham,', 1), ('C).', 1), ('CALLE', 1), ('CAM', 1), ('CAMV.', 1), ('CAMVL', 1), ('CANGI,', 1), ('CANTII,', 1), ('CASSI,', 1), ('CATTI', 1), ('CATYEUCHLANI,', 1), ('CENTRAL', 1), ('CHANNEL', 1), ('CIMBRI,', 1), ('CITS', 1), ('CN', 1), ('CO', 1), ('COENVVLF', 1), ('COENVVLF,', 1), ('COINS.]', 1), ('COM,', 1), ('COMVX', 1), ('COM·F,', 1), ('COM·F;', 1), ('CORF,', 1), ('CORF.', 1), ('CORITANI,', 1), ('CORITAVI,', 1), ('CORNABII,', 1), ('CO·F,', 1), ('CRAB', 1), ('CRAB.', 1), ('CROWN,”', 1), ('CUTHRED,', 1), ('CVN', 1), ('CVNOB.', 1), ('CVNOBELIN.', 1), ('CVNOBII.', 1), ('CYNEFRYTH.', 1), ('Caermarthenshire,', 1), ('Caernarvon,', 1), ('Calleva--Silchester--as', 1), ('Cambridgeshire', 1), ('Cambs.,', 1), ('Camulodunum', 1), ('Cantii,', 1), ('Capricorn,', 1), ('Caractacus', 1), ('Cardiganshire,', 1), ('Catyeuchlani', 1), ('Catyeuchlani,', 1), ('Ceolnoth.', 1), ('Ceolvvlf', 1), ('Ceramic', 1), ('Channel', 1), ('Channel,', 1), ('Character', 1), ('Cheshire,', 1), ('Chichester', 1), ('Chris', 1), ('Christ.', 1), ('Christian', 1), ('Ciolwulf.', 1), ('Civitas_', 1), ('Commius,', 1), ('Contents;”', 1), ('Cornwall', 1), ('Cornwall,', 1), ('Corresponding', 1), ('Council', 1), ('Crenides', 1), ('Cuerdale,', 1), ('Cumberland', 1), ('Cumberland.', 1), ('Cunobeline', 1), ('Cunobelinus', 1), ('Cunobelinus.', 1), ('Cæsar,', 1), ('Cæsar’s', 1), ('CŒNIMAGNI,', 1), ('DAMNONII,', 1), ('DEMETÆ,', 1), ('DIAS', 1), ('DIORMOD', 1), ('DOBUNI,', 1), ('DRVR', 1), ('DUMNONII,', 1), ('DUROTRIGES,', 1), ('DV;', 1), ('DVBN', 1), ('DVBNO', 1), ('DVBNO;', 1), ('DVBNOVELLAVNVS', 1), ('DVBNOVELLAVNVS.', 1), ('DVBNOVIILLA,', 1), ('DVBNO[VELLA]VNOS;', 1), ('DVM', 1), ('DVMN', 1), ('DVMN--TIGIP--SENO', 1), ('DVMNO', 1), ('DVMNOCOVEROS.', 1), ('DVMNOVERO;', 1), ('DVN', 1), ('DVRO-CAM[BORICVM]),', 1), ('Date:', 1), ('Denbigh,', 1), ('Derby,', 1), ('Devonshire,', 1), ('Distributed', 1), ('Dobuni,', 1), ('Dorset,', 1), ('E);', 1), ('EADBEARHT', 1), ('EADBEARHT,', 1), ('EADBERHT,', 1), ('EADMVND', 1), ('EADVALD', 1), ('EADVALD,', 1), ('EAST', 1), ('EASTERN', 1), ('EBOOK', 1), ('EBook', 1), ('ECGFRID', 1), ('ECGFRITH,', 1), ('EDELSTAN,', 1), ('EDELSTIN,', 1), ('EDILARE,', 1), ('EDI[L]HD[L]V,', 1), ('EGCBERHT', 1), ('EGCBERHT,', 1), ('EI', 1), ('EP.', 1), ('EP;', 1), ('EPAT.', 1), ('EPATI', 1), ('EPATICCV;', 1), ('EPATICCVS.', 1), ('EPATICVS', 1), ('EPP,', 1), ('EPP;', 1), ('EPPIL', 1), ('EPPIL,', 1), ('EPPILLUS.', 1), ('EPPILLVS', 1), ('ETA', 1), ('ETC.,', 1), ('ETHELOARO,', 1), ('ETHELTTAN', 1), ('ETHELVVEARD,', 1), ('ETHELZTAN', 1), ('ETHILWALD,', 1), ('Eadmund.', 1), ('Eadwerd.', 1), ('East', 1), ('Ecgberht.', 1), ('England,”', 1), ('Eppillus),', 1), ('Eppillus.', 1), ('Essex,', 1), ('Essex.', 1), ('Essex;', 1), ('Evans’s', 1), ('Evesham,', 1), ('Exeter,', 1), ('F.S.A.,', 1), ('FIL.', 1), ('F[IL]', 1), ('February', 1), ('First', 1), ('Flint,', 1), ('Flintshire.', 1), ('Forth.', 1), ('GADENI,', 1), ('GUTENBERG', 1), ('Gaul;', 1), ('Gauls', 1), ('German', 1), ('Glamorganshire.', 1), ('Gloucester;', 1), ('Gloucestershire.', 1), ('H);', 1), ('HEAD,', 1), ('HEDUI,', 1), ('Hampshire.', 1), ('Hampton', 1), ('He', 1), ('Heptarchy', 1), ('Here,', 1), ('Herefordshire,', 1), ('Hertfordshire,', 1), ('Herts,', 1), ('His', 1), ('Homes', 1), ('Horace--became', 1), ('Humber', 1), ('Huntingdon,', 1), ('Huntingdonshire.', 1), ('I,', 1), ('I.--COINS', 1), ('ICEN),', 1), ('ICENI,', 1), ('ICENI.', 1), ('IDA.', 1), ('II.--SOUTH-EASTERN', 1), ('III.--KENTISH', 1), ('IISVPSV.', 1), ('IISVPSV;', 1), ('INARA', 1), ('ISLANDS.', 1), ('IV.--The', 1), ('Iceni,', 1), ('Icenian', 1), ('If', 1), ('Imperial', 1), ('Ina,', 1), ('Insignia', 1), ('Institute_.', 1), ('Internet', 1), ('Ipswich,', 1), ('Islands,', 1), ('Its', 1), ('J).', 1), ('JEWITT,', 1), ('JUGANTES,', 1), ('Jersey', 1), ('Jordan,', 1), ('Jove,', 1), ('Jove,”', 1), ('Julius', 1), ('KENT._', 1), ('KINGS._', 1), ('Keeper', 1), ('Kent,', 1), ('Kent.', 1), ('Kentish', 1), ('LE', 1), ('LLEWELLYNN', 1), ('LONDON:', 1), ('LOWREY,', 1), ('LUDICA', 1), ('LUDICAN,', 1), ('LVDICA', 1), ('LVX.', 1), ('Lancashire.', 1), ('Language:', 1), ('Lewes', 1), ('License', 1), ('Lincoln,', 1), ('Lincolnshire', 1), ('Lincolnshire,', 1), ('London', 1), ('M.R.A.S.,', 1), ('MCI', 1), ('ME', 1), ('MERCI.', 1), ('MERCIORN.', 1), ('MI', 1), ('MMIOS,', 1), ('MOLL', 1), ('MON', 1), ('MONETA,', 1), ('MONETA.', 1), ('MORINI,', 1), ('Macedon.', 1), ('Macedonian', 1), ('Many', 1), ('Medusa,', 1), ('Member', 1), ('Mercian', 1), ('Merioneth,', 1), ('Mersey', 1), ('Middlesex', 1), ('Montgomery,', 1), ('Moreover,', 1), ('Morin', 1), ('Mounds', 1), ('Much', 1), ('Museum;', 1), ('N', 1), ('N.', 1), ('NCOM,', 1), ('NO.', 1), ('NOCO', 1), ('NORTHUMBERLAND._', 1), ('NOS;', 1), ('Nation;', 1), ('Nemesis,', 1), ('Norfolk', 1), ('Norfolk,', 1), ('Norfolk;', 1), ('North', 1), ('Northampton;', 1), ('Northumberland,', 1), ('Northumberland;', 1), ('Norwich,', 1), ('Nothing', 1), ('Nottingham,', 1), ('Nottinghamshire,', 1), ('ODVNO.', 1), ('ODVOC,', 1), ('OFFA', 1), ('OFFA,', 1), ('OMMIOS.', 1), ('OR', 1), ('ORDOVICES,', 1), ('OTADINI,', 1), ('OV.', 1), ('Offa', 1), ('Offa)', 1), ('Offa.', 1), ('Office;”', 1), ('Online', 1), ('Only', 1), ('Oxfordshire,', 1), ('Oxfordshire;', 1), ('PARISII,', 1), ('PATERNOSTER', 1), ('PROJECT', 1), ('Pegasus', 1), ('Pembrokeshire.', 1), ('Philip--the', 1), ('Philippi)', 1), ('Philippus.”', 1), ('Phocæan', 1), ('Plate', 1), ('Plegmund.', 1), ('Possibly', 1), ('Prasutagus,', 1), ('Probably', 1), ('Produced', 1), ('Proofreading', 1), ('QUEEN', 1), ('Queen', 1), ('R,', 1), ('RECX', 1), ('REGINA.', 1), ('REGNI,', 1), ('REMI,', 1), ('RF;', 1), ('RI', 1), ('RICON,', 1), ('RICON.', 1), ('RICONI', 1), ('RUFI', 1), ('RVLI', 1), ('RX.', 1), ('Radnorshire,', 1), ('Regni,', 1), ('Release', 1), ('Remus', 1), ('Rochester', 1), ('Romano-Britons', 1), ('Romans', 1), ('Romulus', 1), ('Rutland.', 1), ('S', 1), ('S-shaped', 1), ('SAEMV', 1), ('SAEMV--', 1), ('SAFMV,', 1), ('SEGO.', 1), ('SEGONTIACI,', 1), ('SENONES,', 1), ('SESTUNTII,', 1), ('SILURES,', 1), ('SOLIDV.', 1), ('SONNENSCHEIN,', 1), ('SQUARE.', 1), ('ST.', 1), ('START', 1), ('SV', 1), ('SVEI', 1), ('SWAN', 1), ('Same', 1), ('Saviour', 1), ('Saxons,', 1), ('Scottish', 1), ('Selkirk,', 1), ('Shaftesbury', 1), ('Shakespeare,', 1), ('Shrewsbury,', 1), ('Shropshire,', 1), ('Silvanus;', 1), ('Sitric.', 1), ('Somerset,', 1), ('Somerset.', 1), ('Somerset;', 1), ('Somersetshire.', 1), ('Stately', 1), ('States', 1), ('States,', 1), ('Stow,', 1), ('Suffolk.', 1), ('Surrey', 1), ('Susan', 1), ('Sussex.', 1), ('T--', 1), ('TAS', 1), ('TAS;', 1), ('TASC,', 1), ('TASCIA,', 1), ('TASCIAVA;', 1), ('TASCIIOVA.', 1), ('TASCIIOVAN.', 1), ('TASCIIOVANII.', 1), ('TASCIIOVANTIS.', 1), ('TASCIOV', 1), ('TASCIOVAN,', 1), ('TASCIOVANVS', 1), ('TASCIOVANVS.', 1), ('TAXCI,', 1), ('THIS', 1), ('TIGIP-SENO', 1), ('TIN', 1), ('TINCOM,', 1), ('TINC[OMMIVS]', 1), ('TINC[OMMIVS].', 1), ('TOKENS', 1), ('TOKENS.', 1), ('TRINOBANTES,', 1), ('TYPES', 1), ('Tasciovanus’s', 1), ('Team', 1), ('Their', 1), ('Theresa', 1), ('These,', 1), ('Thetford,', 1), ('They', 1), ('This,', 1), ('Tinc[ommius]', 1), ('Title:', 1), ('Togodumnos', 1), ('Tokens', 1), ('Tokens,', 1), ('Trinobantes,', 1), ('Two', 1), ('Tyne', 1), ('UTF-8', 1), ('Under', 1), ('Upwards', 1), ('V,', 1), ('V.--The', 1), ('VEP,', 1), ('VEP--', 1), ('VER,', 1), ('VERICA,', 1), ('VERICA;', 1), ('VERI·COM·F', 1), ('VERLAMIO', 1), ('VERLAMIO,', 1), ('VERULAMIUM', 1), ('VERVLAMIVM.', 1), ('VI', 1), ('VI,', 1), ('VI.--The', 1), ('VICTORIA.]', 1), ('VIIR,', 1), ('VIR', 1), ('VIRI,', 1), ('VIRICA', 1), ('VIRICA.', 1), ('VIRRI;', 1), ('VO-CORIO', 1), ('VO-CORIO-AD', 1), ('VO-CORIO.', 1), ('VOCORIOADD,', 1), ('VOLISIOS.', 1), ('VOLUNTII,', 1), ('VOSII.', 1), ('VO·LI·SI·OS', 1), ('VVIGLAF', 1), ('Verica', 1), ('Verica.', 1), ('Verulam,', 1), ('WESTERN', 1), ('WIGLAF,', 1), ('WITH', 1), ('Wales,', 1), ('Wallingford,', 1), ('Warwickshire,', 1), ('Westmoreland', 1), ('Westmoreland.', 1), ('Wilts', 1), ('Winchester', 1), ('With', 1), ('Wittenagemote,', 1), ('Worcester,', 1), ('Worcestershire,', 1), ('Worcestershire;', 1), ('YORKSHIRE', 1), ('York,', 1), ('Yorkshire', 1), ('Yorkshire,', 1), ('Yorkshire.', 1), ('Yorkshire;', 1), ('You', 1), ('[CR]', 1), ('[DVBNO]VIILLAVN,', 1), ('[DV]BNOVELL', 1), ('[EBook', 1), ('[T]ASCIAV,', 1), ('_Assistant', 1), ('_Author', 1), ('_Dorovernia', 1), ('_Figs._', 1), ('_MERCIAN', 1), ('_may_', 1), ('_pand_,', 1), ('_pendere_,', 1), ('_pending_', 1), ('_penig_,', 1), ('_pening_,', 1), ('_regale', 1), ('_reverse_.', 1), ('_sc_', 1), ('_scæt_,', 1), ('_sh_,', 1), ('_sheat_', 1), ('_shæt_.', 1), ('_temp._', 1), ('a,', 1), ('abbot;', 1), ('abbreviated', 1), ('abbreviation,', 1), ('abbreviations.', 1), ('ably', 1), ('above;', 1), ('abundant,', 1), ('accomplished', 1), ('accurately', 1), ('accustomed,', 1), ('acquainted', 1), ('act', 1), ('actually', 1), ('adhesion.', 1), ('admirable', 1), ('adopted.', 1), ('adoption', 1), ('again', 1), ('against', 1), ('aids', 1), ('allude', 1), ('alluded', 1), ('alone,', 1), ('along', 1), ('always', 1), ('amounting', 1), ('analogy', 1), ('angles,', 1), ('angles;', 1), ('animal.', 1), ('annals', 1), ('annually,', 1), ('annulet,', 1), ('anterior', 1), ('anyone', 1), ('anywhere', 1), ('apparently', 1), ('appearance', 1), ('appearing', 1), ('appears', 1), ('appointed', 1), ('appreciated', 1), ('apprehend,', 1), ('appropriated.', 1), ('archbishop,', 1), ('area', 1), ('arms', 1), ('arrangement,', 1), ('arrangement--that', 1), ('arrive', 1), ('arrived', 1), ('art,', 1), ('art;', 1), ('artistic', 1), ('ascertained.', 1), ('asserted', 1), ('assiduous', 1), ('associated', 1), ('assumption', 1), ('attention', 1), ('authorities,', 1), ('authority', 1), ('autonomous', 1), ('available', 1), ('away', 1), ('back,', 1), ('band', 1), ('band,', 1), ('bandlet,', 1), ('barbarians', 1), ('bartering', 1), ('beads,', 1), ('beauty', 1), ('become', 1), ('been)', 1), ('before;', 1), ('believed', 1), ('belong', 1), ('belong.', 1), ('belonged', 1), ('below,', 1), ('below.', 1), ('below;', 1), ('besides', 1), ('better', 1), ('between,', 1), ('biga;', 1), ('billon,', 1), ('bishop.', 1), ('boar;', 1), ('boldly', 1), ('borders', 1), ('branch,', 1), ('branches', 1), ('branching', 1), ('bridled', 1), ('bronze,', 1), ('brothers', 1), ('bull', 1), ('bull,', 1), ('bust;', 1), ('by,', 1), ('cabinet;', 1), ('caduceus', 1), ('came', 1), ('cannot', 1), ('capricorn,', 1), ('case', 1), ('case,', 1), ('centre', 1), ('century', 1), ('changes', 1), ('character,', 1), ('character.', 1), ('characteristics.', 1), ('characters', 1), ('charging', 1), ('charioteer', 1), ('check', 1), ('chiefs', 1), ('circle.', 1), ('circle;', 1), ('circles', 1), ('circulated,', 1), ('circulated.', 1), ('circumstance', 1), ('civilized', 1), ('classes,', 1), ('classify', 1), ('classifying', 1), ('clearing', 1), ('clever', 1), ('closed,', 1), ('closely', 1), ('closely,', 1), ('cluster', 1), ('clusters', 1), ('coarse', 1), ('coin)', 1), ('coin.', 1), ('coin;', 1), ('coinage,”', 1), ('coiner.’', 1), ('coining', 1), ('coining,', 1), ('coining.', 1), ('coins.', 1), ('collection,', 1), ('colony', 1), ('come', 1), ('commenced.', 1), ('commerce.', 1), ('common', 1), ('complaint', 1), ('comprised', 1), ('concave,', 1), ('conclusion', 1), ('conclusive', 1), ('conclusively', 1), ('confined', 1), ('conjectural.', 1), ('connected', 1), ('connection', 1), ('consequently,', 1), ('consideration', 1), ('considered', 1), ('consist', 1), ('conspicuously', 1), ('constant', 1), ('constitute', 1), ('contact', 1), ('contemporary,', 1), ('continued,', 1), ('continuous', 1), ('contractions', 1), ('convenient,', 1), ('conventional', 1), ('convex.', 1), ('copied', 1), ('copied;', 1), ('copper', 1), ('copper.”', 1), ('copy', 1), ('corded', 1), ('cornucopiæ,', 1), ('correct', 1), ('correct)', 1), ('corrupted', 1), ('cost', 1), ('counties,', 1), ('country.', 1), ('county', 1), ('crescent', 1), ('crescent,', 1), ('crescents,', 1), ('cross.', 1), ('cupboard,', 1), ('current', 1), ('curves', 1), ('custom', 1), ('cut,', 1), ('daughters', 1), ('days', 1), ('decline', 1), ('decreasing', 1), ('definitely', 1), ('degeneracy', 1), ('degenerate', 1), ('degenerate,', 1), ('degeneration,', 1), ('demi-horses', 1), ('derived,', 1), ('derived.', 1), ('derives', 1), ('descent', 1), ('described,', 1), ('design,', 1), ('design.', 1), ('designed,', 1), ('details.', 1), ('developed', 1), ('devices', 1), ('diagonally', 1), ('die-sinker,', 1), ('dies', 1), ('difficulty.', 1), ('diffused,', 1), ('diminutive', 1), ('discernible.', 1), ('disintegrated,', 1), ('disinterred', 1), ('distinct,', 1), ('distinguished', 1), ('district', 1), ('district,', 1), ('district.', 1), ('districts', 1), ('dominions', 1), ('done', 1), ('dots', 1), ('doubt,', 1), ('doubtful', 1), ('doubtless,', 1), ('down', 1), ('drapery,', 1), ('driven', 1), ('driver', 1), ('dumb', 1), ('eagle,', 1), ('ear', 1), ('east', 1), ('ebook.', 1), ('eight,', 1), ('emblem', 1), ('emporium', 1), ('enabled', 1), ('encircling', 1), ('encoding:', 1), ('enlightened', 1), ('enumerate', 1), ('enumerated,', 1), ('equally', 1), ('erroneously,', 1), ('especially', 1), ('etc._', 1), ('even', 1), ('ever', 1), ('everywhere', 1), ('evidenced', 1), ('example,', 1), ('examples,', 1), ('execution', 1), ('execution.', 1), ('exercised', 1), ('exergual', 1), ('exhibit', 1), ('expanded', 1), ('expressions', 1), ('extended', 1), ('extending', 1), ('extensive,', 1), ('extent,', 1), ('extinction.', 1), ('extremely', 1), ('face;', 1), ('fact', 1), ('fact,', 1), ('faint', 1), ('fall', 1), ('far', 1), ('fate,', 1), ('father', 1), ('features,', 1), ('few', 1), ('field', 1), ('field.', 1), ('fierce', 1), ('figures', 1), ('figures,', 1), ('file', 1), ('filleted', 1), ('fillets,', 1), ('finding', 1), ('finished', 1), ('five', 1), ('five-lobed', 1), ('flowers;', 1), ('foliage', 1), ('following:--ECE', 1), ('follows,', 1), ('follows:--', 1), ('forefathers', 1), ('foreign', 1), ('forelegs', 1), ('form', 1), ('form,', 1), ('formed,', 1), ('forming,', 1), ('forms', 1), ('forms,', 1), ('forty', 1), ('fossils', 1), ('found,', 1), ('found--has', 1), ('found:--', 1), ('founded', 1), ('four-footed', 1), ('fourth', 1), ('framed', 1), ('friendly', 1), ('from,', 1), ('full', 1), ('galloping', 1), ('generously', 1), ('geologist', 1), ('geology:', 1), ('give', 1), ('given.', 1), ('government.', 1), ('grains,', 1), ('grains;', 1), ('great', 1), ('griffin,', 1), ('griffin;', 1), ('ground', 1), ('half', 1), ('happens,', 1), ('hard', 1), ('having', 1), ('he', 1), ('herself', 1), ('highest', 1), ('highly', 1), ('him,', 1), ('hippocampus,', 1), ('history;', 1), ('holds', 1), ('home-struck', 1), ('hoped', 1), ('horns', 1), ('horse’s', 1), ('http://www.pgdp.net', 1), ('human', 1), ('hundreds', 1), ('husband', 1), ('i).', 1), ('identical', 1), ('images', 1), ('imitation.', 1), ('imitations,', 1), ('imperfect', 1), ('impossible', 1), ('impressing', 1), ('inclosing', 1), ('including', 1), ('incursions', 1), ('independent', 1), ('indicated', 1), ('indicating', 1), ('indications', 1), ('inferior', 1), ('inhabitants,', 1), ('inscribed--that', 1), ('inscribed.', 1), ('inscription', 1), ('inscriptions', 1), ('inscriptions,', 1), ('inscriptions.', 1), ('inscriptions:--', 1), ('insisted', 1), ('instance', 1), ('instances', 1), ('instead', 1), ('intercourse', 1), ('interest.', 1), ('introduced', 1), ('introduced,', 1), ('introduced.', 1), ('invaders', 1), ('inwards;', 1), ('is,', 1), ('island,', 1), ('island.', 1), ('islands,', 1), ('issued', 1), ('it.', 1), ('javelin', 1), ('javelin,', 1), ('judge', 1), ('justice,', 1), ('king;', 1), ('kingdom', 1), ('kingdoms', 1), ('kings', 1), ('known)', 1), ('lance', 1), ('land', 1), ('large', 1), ('largest', 1), ('last;', 1), ('latest', 1), ('law,', 1), ('leader', 1), ('leaf,', 1), ('leaping,', 1), ('learned', 1), ('leaves,', 1), ('left', 1), ('left;', 1), ('legend,', 1), ('legends', 1), ('legs;', 1), ('length', 1), ('letters--', 1), ('life,', 1), ('like', 1), ('like,', 1), ('limited', 1), ('line,', 1), ('lines,', 1), ('lines.', 1), ('lines;', 1), ('lion', 1), ('list.', 1), ('little', 1), ('locality', 1), ('locality,', 1), ('locker,”', 1), ('lost,', 1), ('lot', 1), ('made,', 1), ('main', 1), ('making', 1), ('manifestly,', 1), ('marked', 1), ('may,', 1), ('me,', 1), ('meant', 1), ('medium', 1), ('mentioned', 1), ('mere', 1), ('metals,', 1), ('metals.', 1), ('middle', 1), ('might', 1), ('mineral', 1), ('mines', 1), ('mint;', 1), ('mintage);', 1), ('mintage.', 1), ('money,', 1), ('monogram', 1), ('mostly', 1), ('must', 1), ('named', 1), ('names,', 1), ('names.', 1), ('native', 1), ('natives', 1), ('natural', 1), ('near', 1), ('nearest', 1), ('necessary', 1), ('neck,', 1), ('neck.', 1), ('need', 1), ('neighbouring', 1), ('neighbours', 1), ('never', 1), ('next', 1), ('northwards', 1), ('not,', 1), ('not.', 1), ('nothing;', 1), ('now', 1), ('nude', 1), ('numbers', 1), ('numisma_', 1), ('numismatic', 1), ('numismatist', 1), ('numismatists', 1), ('oak', 1), ('object,', 1), ('objects,', 1), ('objects.', 1), ('obverse,', 1), ('occasion,', 1), ('occur', 1), ('occur--and', 1), ('often', 1), ('oldest,', 1), ('once', 1), ('online', 1), ('only,', 1), ('onward', 1), ('opposite', 1), ('origin,', 1), ('original.', 1), ('originals.', 1), ('ornamental', 1), ('ornaments,', 1), ('ornithocephalous', 1), ('other,', 1), ('others.', 1), ('outer', 1), ('overrun', 1), ('own,', 1), ('particularly', 1), ('partly', 1), ('parts,', 1), ('passant,', 1), ('past', 1), ('paying', 1), ('pellets,', 1), ('pellets.', 1), ('pennies', 1), ('pennies.', 1), ('penny', 1), ('penny,', 1), ('perfectly', 1), ('pieces', 1), ('pieces,', 1), ('pieces.', 1), ('pillaged', 1), ('places', 1), ('places);', 1), ('places.', 1), ('plain', 1), ('plain,', 1), ('plant', 1), ('plausible', 1), ('pledge,', 1), ('points,', 1), ('poising', 1), ('portability,', 1), ('possession,', 1), ('possibly', 1), ('pound,', 1), ('power', 1), ('power,', 1), ('practically', 1), ('preceded', 1), ('precise', 1), ('predecessors', 1), ('presenting', 1), ('preserved;', 1), ('pretty', 1), ('prince,', 1), ('princes', 1), ('probability,', 1), ('probability;', 1), ('probably', 1), ('probably,', 1), ('proceed', 1), ('produce', 1), ('product-barter.', 1), ('progenitors.', 1), ('progress', 1), ('project,', 1), ('pronounced', 1), ('proof', 1), ('proper,', 1), ('prove', 1), ('proves', 1), ('purposes', 1), ('purse.', 1), ('put', 1), ('quarter', 1), ('quatrefoil', 1), ('queen', 1), ('queenly', 1), ('quite', 1), ('radiated', 1), ('rare', 1), ('rather', 1), ('re-use', 1), ('reading', 1), ('realm,', 1), ('reasoning,', 1), ('recapitulated.', 1), ('receiving', 1), ('reckoning,', 1), ('reconstructed', 1), ('recording', 1), ('regardant,', 1), ('regardant.', 1), ('regulated', 1), ('regulus', 1), ('reign.', 1), ('reigned', 1), ('relative', 1), ('remainder', 1), ('remaining', 1), ('remarkable', 1), ('remarked', 1), ('remarks,', 1), ('remember,', 1), ('rendered.', 1), ('representation', 1), ('represented', 1), ('reproducing', 1), ('reproduction', 1), ('resemblance', 1), ('restrictions', 1), ('resulted', 1), ('retain', 1), ('retributive', 1), ('revolt', 1), ('revolt,', 1), ('riderless', 1), ('ring', 1), ('rings', 1), ('rocks', 1), ('round', 1), ('rows', 1), ('rude,', 1), ('rudely', 1), ('rudely,', 1), ('rudeness)', 1), ('ruder', 1), ('rulers:--', 1), ('saltire,', 1), ('say,', 1), ('says,', 1), ('sceattæ', 1), ('sceattæ,', 1), ('sceattæ;', 1), ('science', 1), ('scourged,', 1), ('searching', 1), ('seat', 1), ('seized', 1), ('semi-draped', 1), ('separate', 1), ('series', 1), ('serpent,', 1), ('serpent,”', 1), ('servile,', 1), ('set', 1), ('shame.”', 1), ('shared', 1), ('she-wolf,', 1), ('shires”', 1), ('short-lived', 1), ('shot', 1), ('shot”', 1), ('showing', 1), ('shown', 1), ('shown,', 1), ('shows', 1), ('six', 1), ('six,', 1), ('six-limbed', 1), ('small', 1), ('soft,', 1), ('soil,', 1), ('soil.', 1), ('sometimes', 1), ('somewhat', 1), ('somewhere', 1), ('south,', 1), ('south-east', 1), ('southern', 1), ('sovereignty,”', 1), ('special', 1), ('spike', 1), ('spread', 1), ('springing', 1), ('square,', 1), ('stages', 1), ('state', 1), ('still', 1), ('strokes,', 1), ('students', 1), ('stycas,', 1), ('subject,', 1), ('subjected.', 1), ('substitute', 1), ('succeed,', 1), ('succeeding', 1), ('successive', 1), ('such', 1), ('suckled', 1), ('summarize', 1), ('summarized', 1), ('superposition,', 1), ('supposed,', 1), ('supposing', 1), ('surrounded', 1), ('surrounding', 1), ('swift', 1), ('tables', 1), ('tabulated', 1), ('tail', 1), ('tall', 1), ('terms', 1), ('territory,', 1), ('testimony', 1), ('the--', 1), ('then,', 1), ('these,', 1), ('thirty', 1), ('this,', 1), ('though', 1), ('throughout', 1), ('thunderbolt', 1), ('till', 1), ('time,', 1), ('times', 1), ('to,', 1), ('took', 1), ('torque-like', 1), ('tossing,', 1), ('town.', 1), ('towns', 1), ('trace', 1), ('traces,', 1), ('traded,', 1), ('tressure', 1), ('tribe', 1), ('tribe.', 1), ('tribes,', 1), ('troops,', 1), ('trophy', 1), ('turn,', 1), ('twenty', 1), ('two-handled', 1), ('type,', 1), ('types,', 1), ('ultimate', 1), ('uncouth', 1), ('undecipherable.', 1), ('undoubtedly', 1), ('unfortunately,', 1), ('unfrequently', 1), ('uninitiated,', 1), ('uninscribed;', 1), ('uninterpretable.', 1), ('unique', 1), ('united', 1), ('unknown', 1), ('unless', 1), ('unless,', 1), ('unmeaning', 1), ('unusual', 1), ('up', 1), ('upwards', 1), ('usages', 1), ('use,', 1), ('used', 1), ('useful', 1), ('using', 1), ('usual,', 1), ('usually,', 1), ('vague', 1), ('value', 1), ('varied', 1), ('varied,', 1), ('vase,', 1), ('vast', 1), ('view', 1), ('weigh)', 1), ('weighed', 1), ('weight', 1), ('weight,', 1), ('well-known', 1), ('whatsoever.', 1), ('wheel', 1), ('wheel,', 1), ('wheels', 1), ('when', 1), ('when,', 1), ('whenever', 1), ('where,', 1), ('whether', 1), ('which,', 1), ('while', 1), ('who,', 1), ('whom,', 1), ('wider', 1), ('wife', 1), ('wings', 1), ('with,', 1), ('witnesses', 1), ('words,', 1), ('work,', 1), ('worked', 1), ('worker', 1), ('workmanship', 1), ('workmen', 1), ('world', 1), ('worth', 1), ('would,', 1), ('wreath;', 1), ('writers,', 1), ('www.gutenberg.org.', 1), ('year', 1), ('years', 1), (\"you'll\", 1), ('young', 1), ('zigzag', 1), ('£250,000', 1), ('ÆTHILBERHT', 1), ('Æthelred.', 1), ('Æthelstan.”', 1), ('Æthelstan’s', 1), ('‘Æthelstan', 1), ('“Although', 1), ('“Catherine-wheel”', 1), ('“Corporation', 1), ('“Cymbeline”', 1), ('“GOTHIC', 1), ('“Grave', 1), ('“Half-Hours', 1), ('“Thunderbolt', 1), ('“When', 1), ('“appears', 1), ('“dwt.”', 1), ('“forty', 1), ('“horned', 1), ('“it', 1), ('“not', 1), ('“paying', 1), ('“pennyweight.”', 1), ('“shot,”', 1), ('“the', 1), ('“there', 1)]\n"
     ]
    }
   ],
   "source": [
    "with open('book.txt', 'r') as fi:\n",
    "    lines = [(i,line.strip()) for i,line in enumerate(fi) if i<1000]\n",
    "lines\n",
    "### After this, 'lines' stores a list of 1000 text lines\n",
    "def mapper(_, line):\n",
    "    for word in line.strip().split(' '):\n",
    "        if len(word)>0:\n",
    "            yield (word, 1)\n",
    "  \n",
    "#print([r for k1,v1 in lines for r in mapper(k1,v1)])\n",
    "def reducer(word, counts):\n",
    "        yield (word, sum(counts))\n",
    "\n",
    "wCounts = list(mr.run(lines, mapper, reducer))\n",
    "sortedCounts = sorted(wCounts, key=lambda x: -x[1])\n",
    "# sortedCounts#[:10]\n",
    "# for r in k2v2:\n",
    "#     print(r)\n",
    "\n",
    "print(sortedCounts)"
   ]
  },
  {
   "cell_type": "markdown",
   "metadata": {},
   "source": [
    "### From Task 1 to Task 4, we re-do some tasks from Lab 3 (HOF) to familiarize ourselves with MapReduce\n",
    "\n",
    "## Task 1\n",
    "\n",
    "We would like to write a MapReduce job to count the total number of trips involved at each station. For example, if a trip starts at station A and stops at station B, the trip will count for both A and B. The output must be tuples, each consisting of a station name and a count."
   ]
  },
  {
   "cell_type": "code",
   "execution_count": 33,
   "metadata": {},
   "outputs": [
    {
     "data": {
      "text/plain": [
       "[('1 Ave & E 15 St', 795),\n",
       " ('1 Ave & E 44 St', 219),\n",
       " ('10 Ave & W 28 St', 422),\n",
       " ('11 Ave & W 27 St', 354),\n",
       " ('11 Ave & W 41 St', 461),\n",
       " ('11 Ave & W 59 St', 242),\n",
       " ('12 Ave & W 40 St', 217),\n",
       " ('2 Ave & E 31 St', 588),\n",
       " ('2 Ave & E 58 St', 125),\n",
       " ('3 Ave & Schermerhorn St', 34)]"
      ]
     },
     "execution_count": 33,
     "metadata": {},
     "output_type": "execute_result"
    }
   ],
   "source": [
    "def mapper1(_, row):\n",
    "    yield (row['start_station_name'], 1)\n",
    "    yield (row['end_station_name'], 1)\n",
    "\n",
    "def reducer1(station, counts):\n",
    "    yield (station, sum(counts))\n",
    "    \n",
    "with open('citibike.csv', 'r') as fi:\n",
    "    reader = enumerate(csv.DictReader(fi))\n",
    "    output1 = list(mr.run(reader, mapper1, reducer1))\n",
    "\n",
    "output1[:10]"
   ]
  },
  {
   "cell_type": "markdown",
   "metadata": {},
   "source": [
    "\n",
    "## Task 2\n",
    "\n",
    "Below is an example of showing how to use nested jobs and jobs with mappers only using the mapreduce package, thus, no points are included. Our task here is that we would like to filter the output of Task 1 to display only those stations with more than 1000 trips involved, of course, using the MapReduce paradigm."
   ]
  },
  {
   "cell_type": "code",
   "execution_count": 5,
   "metadata": {},
   "outputs": [
    {
     "data": {
      "text/plain": [
       "[('8 Ave & W 31 St', 1065),\n",
       " ('E 43 St & Vanderbilt Ave', 1003),\n",
       " ('Lafayette St & E 8 St', 1013),\n",
       " ('W 21 St & 6 Ave', 1057),\n",
       " ('W 41 St & 8 Ave', 1095)]"
      ]
     },
     "execution_count": 5,
     "metadata": {},
     "output_type": "execute_result"
    }
   ],
   "source": [
    "def mapper2(station, count):\n",
    "    if count>1000:\n",
    "        yield (station, count)\n",
    "\n",
    "with open('citibike.csv', 'r') as fi:\n",
    "    reader = enumerate(csv.DictReader(fi))\n",
    "    output2 = list(mr.run(mr.run(reader, mapper1, reducer1), mapper2))\n",
    "\n",
    "output2"
   ]
  },
  {
   "cell_type": "markdown",
   "metadata": {},
   "source": [
    "\n",
    "## Task 3\n",
    "\n",
    "We would like to count the number of trips taken between pairs of stations. Trips taken from station A to station B or  from station B to station A are both counted towards the station pair A and B. Please note that the station pair shoud be identified by station names, as a tuple, and in lexical order, i.e. (A,B) instead of (B,A) in this case. The output must be tuples, each consisting of the station pair identification and a count."
   ]
  },
  {
   "cell_type": "code",
   "execution_count": 6,
   "metadata": {},
   "outputs": [
    {
     "data": {
      "text/plain": [
       "[(['1 Ave & E 15 St', '1 Ave & E 15 St'], 5),\n",
       " (['1 Ave & E 15 St', '1 Ave & E 44 St'], 6),\n",
       " (['1 Ave & E 15 St', '11 Ave & W 27 St'], 1),\n",
       " (['1 Ave & E 15 St', '2 Ave & E 31 St'], 9),\n",
       " (['1 Ave & E 15 St', '5 Ave & E 29 St'], 2),\n",
       " (['1 Ave & E 15 St', '6 Ave & Broome St'], 3),\n",
       " (['1 Ave & E 15 St', '6 Ave & Canal St'], 1),\n",
       " (['1 Ave & E 15 St', '8 Ave & W 31 St'], 5),\n",
       " (['1 Ave & E 15 St', '9 Ave & W 14 St'], 3),\n",
       " (['1 Ave & E 15 St', '9 Ave & W 16 St'], 3)]"
      ]
     },
     "execution_count": 6,
     "metadata": {},
     "output_type": "execute_result"
    }
   ],
   "source": [
    "def mapper3(_, row):\n",
    "    station = sorted([row['start_station_name'], row['end_station_name']])\n",
    "    yield (station, 1)\n",
    "\n",
    "def reducer3(station_pair, counts):\n",
    "    yield (station_pair, sum(counts))\n",
    "\n",
    "with open('citibike.csv', 'r') as fi:\n",
    "    reader = enumerate(csv.DictReader(fi))\n",
    "    output3 = list(mr.run(reader, mapper3, reducer3))\n",
    "\n",
    "output3[:10]"
   ]
  },
  {
   "cell_type": "markdown",
   "metadata": {},
   "source": [
    "\n",
    "## Task 4\n",
    "\n",
    "In this task, you are asked to compute the station with the most riders started from, per each gender of the *'Subscriber'* user. Meaning, what was the station name with the highest number of bike pickups for female riders, for male riders and for unknown riders.\n",
    "\n",
    "The output will be a list of tuples, each includes a gender label (as indicated below) and another tuple consisting of a station name, and the total number of trips started at that station for that gender.\n",
    "\n",
    "The label mapping for the gender column in citibike.csv is: (Zero=<b>Unknown</b>; 1=<b>Male</b>; 2=<b>Female</b>)"
   ]
  },
  {
   "cell_type": "code",
   "execution_count": 7,
   "metadata": {},
   "outputs": [
    {
     "data": {
      "text/plain": [
       "[('Unknown', ('Catherine St & Monroe St', 1)),\n",
       " ('Male', ('8 Ave & W 31 St', 488)),\n",
       " ('Female', ('W 21 St & 6 Ave', 107))]"
      ]
     },
     "execution_count": 7,
     "metadata": {},
     "output_type": "execute_result"
    }
   ],
   "source": [
    "def mapper4(_, row):\n",
    "    if row['usertype'] == \"Subscriber\":\n",
    "        yield ((row['gender'], row['start_station_name']), 1)\n",
    "\n",
    "\n",
    "def reducer4(gender_station, counts):\n",
    "    yield (gender_station, sum(counts))\n",
    "    \n",
    "    \n",
    "def mapper5(gender_station, counts):\n",
    "    gender, station = gender_station\n",
    "    yield (gender, (station, counts))\n",
    "    \n",
    "    \n",
    "def reducer5(gender, station_counts):\n",
    "    max_station_count = max(station_counts, key=lambda x:x[1])\n",
    "    label = (\"Unknown\", \"Male\", \"Female\")\n",
    "    yield (label[int(gender)], max_station_count)\n",
    "\n",
    "with open('citibike.csv', 'r') as fi:\n",
    "    reader = enumerate(csv.DictReader(fi))\n",
    "    output5 = list(mr.run(mr.run(reader, mapper4, reducer4), mapper5, reducer5))\n",
    "\n",
    "output5"
   ]
  },
  {
   "cell_type": "markdown",
   "metadata": {},
   "source": [
    "\n",
    "## Task 5\n",
    "\n",
    "We're going to tackle Task 3 of Homework 2 (or simply Homework 1) MapReduce."
   ]
  },
  {
   "cell_type": "code",
   "execution_count": 8,
   "metadata": {},
   "outputs": [
    {
     "data": {
      "text/plain": [
       "[('P02291', 16, 1181.9699999999998),\n",
       " ('P19498', 17, 989.99),\n",
       " ('P32565', 17, 1006.0899999999999),\n",
       " ('P33162', 18, 1210.9199999999998),\n",
       " ('P39328', 17, 1129.0099999999998),\n",
       " ('P58225', 17, 1349.8199999999997),\n",
       " ('P61235', 18, 959.0199999999999),\n",
       " ('P76615', 18, 1087.9599999999998),\n",
       " ('P82222', 17, 950.0500000000001),\n",
       " ('P92449', 14, 966.17)]"
      ]
     },
     "execution_count": 8,
     "metadata": {},
     "output_type": "execute_result"
    }
   ],
   "source": [
    "def mapper6(_, row):\n",
    "    yield ((row['Product ID'], row['Customer ID']), float(row['Item Cost']))\n",
    "    \n",
    "    \n",
    "def reducer6(pid_cid, costs):\n",
    "    pid, cid = pid_cid\n",
    "    yield (pid, sum(costs))\n",
    "    \n",
    "def mapper7(pid, cost):\n",
    "    yield (pid, cost)\n",
    "    \n",
    "def reducer7(pid, costs):\n",
    "    yield (pid, len(costs), sum(costs))    \n",
    "    \n",
    "    \n",
    "with open('sale.csv', 'r') as fi:\n",
    "    reader = enumerate(csv.DictReader(fi))\n",
    "    output3 = list(mr.run(mr.run(reader, mapper6, reducer6), mapper7, reducer7))\n",
    "\n",
    "output3[:10]"
   ]
  },
  {
   "cell_type": "markdown",
   "metadata": {},
   "source": [
    "\n",
    "## Task 6\n",
    "\n",
    "MRJob is a convenient packages for simplifying the execution of MapReduce jobs on clusters. However, it doesn't work in a notebook. We're going to convert some of the examples of MRJob into our notebooks so that we can test our code before deploying them on Hadoop.\n",
    "\n",
    "The two examples are available at:\n",
    "https://pythonhosted.org/mrjob/guides/quickstart.html\n",
    "https://pythonhosted.org/mrjob/guides/writing-mrjobs.html"
   ]
  },
  {
   "cell_type": "code",
   "execution_count": 9,
   "metadata": {},
   "outputs": [
    {
     "data": {
      "text/plain": [
       "[('the', 419),\n",
       " ('of', 343),\n",
       " ('and', 260),\n",
       " ('a', 196),\n",
       " ('or', 163),\n",
       " ('to', 104),\n",
       " ('with', 103),\n",
       " ('in', 90),\n",
       " ('coins', 71),\n",
       " ('on', 69)]"
      ]
     },
     "execution_count": 9,
     "metadata": {},
     "output_type": "execute_result"
    }
   ],
   "source": [
    "from mrjob.job import MRJob\n",
    "import re\n",
    "\n",
    "WORD_RE = re.compile(r\"[\\w']+\")\n",
    "\n",
    "\n",
    "class MRWordFreqCount(MRJob):\n",
    "\n",
    "    def mapper(self, _, line):\n",
    "        for word in WORD_RE.findall(line):\n",
    "            yield word.lower(), 1\n",
    "\n",
    "    def combiner(self, word, counts):\n",
    "        yield word, sum(counts)\n",
    "\n",
    "    def reducer(self, word, counts):\n",
    "        yield word, sum(counts)\n",
    "\n",
    "\n",
    "with open('book.txt', 'r') as fi:\n",
    "    lines = [(i,line.strip()) for i,line in enumerate(fi) if i<1000]\n",
    "\n",
    "job = MRWordFreqCount()\n",
    "wCounts = list(mr.run(lines, job.mapper, job.reducer))\n",
    "sortedCounts = sorted(wCounts, key=lambda x: -x[1])\n",
    "sortedCounts[:10]"
   ]
  },
  {
   "cell_type": "markdown",
   "metadata": {},
   "source": [
    "\n",
    "## Task 7\n",
    "\n",
    "Let's try to run the above MRJob examples as stand-alone applications. Please check again:\n",
    "https://pythonhosted.org/mrjob/guides/quickstart.html"
   ]
  },
  {
   "cell_type": "code",
   "execution_count": 10,
   "metadata": {},
   "outputs": [
    {
     "data": {
      "text/plain": [
       "<generator object combine.<locals>.<genexpr> at 0x7ff1e40fc8b8>"
      ]
     },
     "execution_count": 10,
     "metadata": {},
     "output_type": "execute_result"
    }
   ],
   "source": [
    "from mrjob.job import MRJob\n",
    "from mrjob.step import MRStep\n",
    "import re\n",
    "\n",
    "WORD_RE = re.compile(r\"[\\w']+\")\n",
    "\n",
    "\n",
    "class MRMostUsedWord(MRJob):\n",
    "\n",
    "    def mapper_get_words(self, _, line):\n",
    "        # yield each word in the line\n",
    "        for word in WORD_RE.findall(line):\n",
    "            yield (word.lower(), 1)\n",
    "\n",
    "    def combiner_count_words(self, word, counts):\n",
    "        # sum the words we've seen so far\n",
    "        yield (word, sum(counts))\n",
    "\n",
    "    def reducer_count_words(self, word, counts):\n",
    "        # send all (num_occurrences, word) pairs to the same reducer.\n",
    "        # num_occurrences is so we can easily use Python's max() function.\n",
    "        yield None, (sum(counts), word)\n",
    "\n",
    "    # discard the key; it is just None\n",
    "    def reducer_find_max_word(self, _, word_count_pairs):\n",
    "        # each item of word_count_pairs is (count, word),\n",
    "        # so yielding one results in key=counts, value=word\n",
    "        yield max(word_count_pairs)\n",
    "\n",
    "    def steps(self):\n",
    "        return [\n",
    "            MRStep(mapper=self.mapper_get_words,\n",
    "                   combiner=self.combiner_count_words,\n",
    "                   reducer=self.reducer_count_words),\n",
    "            MRStep(reducer=self.reducer_find_max_word)\n",
    "        ]\n",
    "\n",
    "\n",
    "\n",
    "job = MRMostUsedWord()\n",
    "wCounts = mr.run(lines, job)\n",
    "wCounts"
   ]
  },
  {
   "cell_type": "code",
   "execution_count": 23,
   "metadata": {},
   "outputs": [],
   "source": [
    "l=((\"a\",3),(\"b\",1),(\"c\",2),(\"d\",4))"
   ]
  },
  {
   "cell_type": "code",
   "execution_count": 32,
   "metadata": {},
   "outputs": [
    {
     "data": {
      "text/plain": [
       "[('b', 1), ('c', 2), ('a', 3), ('d', 4)]"
      ]
     },
     "execution_count": 32,
     "metadata": {},
     "output_type": "execute_result"
    }
   ],
   "source": [
    "sorted(l, key=lambda x : x[1] )"
   ]
  },
  {
   "cell_type": "code",
   "execution_count": 4,
   "metadata": {},
   "outputs": [
    {
     "data": {
      "text/plain": [
       "'A B C'"
      ]
     },
     "execution_count": 4,
     "metadata": {},
     "output_type": "execute_result"
    }
   ],
   "source": [
    "' '.join(x.capitalize() for x in 'a b c'.split())"
   ]
  },
  {
   "cell_type": "code",
   "execution_count": null,
   "metadata": {},
   "outputs": [],
   "source": []
  }
 ],
 "metadata": {
  "kernelspec": {
   "display_name": "Python 3",
   "language": "python",
   "name": "python3"
  },
  "language_info": {
   "codemirror_mode": {
    "name": "ipython",
    "version": 3
   },
   "file_extension": ".py",
   "mimetype": "text/x-python",
   "name": "python",
   "nbconvert_exporter": "python",
   "pygments_lexer": "ipython3",
   "version": "3.7.1"
  }
 },
 "nbformat": 4,
 "nbformat_minor": 1
}
