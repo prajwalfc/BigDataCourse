{
 "cells": [
  {
   "cell_type": "code",
   "execution_count": 1,
   "metadata": {},
   "outputs": [],
   "source": [
    "path = \"flight.json\""
   ]
  },
  {
   "cell_type": "code",
   "execution_count": 2,
   "metadata": {},
   "outputs": [],
   "source": [
    "#Create a datafrane \n",
    "flight = spark.read.json(path,multiLine=True)"
   ]
  },
  {
   "cell_type": "markdown",
   "metadata": {},
   "source": [
    "## register a temporary view  allowing us to reference as a table"
   ]
  },
  {
   "cell_type": "code",
   "execution_count": 3,
   "metadata": {},
   "outputs": [],
   "source": [
    "flight.createGlobalTempView('flightsview')"
   ]
  },
  {
   "cell_type": "code",
   "execution_count": 10,
   "metadata": {},
   "outputs": [
    {
     "data": {
      "text/plain": [
       "DataFrame[data: array<array<string>>, meta: struct<view:struct<attribution:string,averageRating:bigint,category:string,columns:array<struct<cachedContents:struct<average:string,largest:string,non_null:bigint,null:bigint,smallest:string,sum:string,top:array<struct<count:bigint,item:string>>>,dataTypeName:string,fieldName:string,flags:array<string>,id:bigint,name:string,position:bigint,renderTypeName:string,tableColumnId:bigint,width:bigint>>,createdAt:bigint,description:string,displayType:string,downloadCount:bigint,flags:array<string>,grants:array<struct<flags:array<string>,inherited:boolean,type:string>>,hideFromCatalog:boolean,hideFromDataJson:boolean,id:string,indexUpdatedAt:bigint,license:struct<logoUrl:string,name:string,termsLink:string>,licenseId:string,metadata:struct<availableDisplayTypes:array<string>,custom_fields:struct<Committed Update Frequency:struct<Refresh rate:string>,Data Owner:struct<Department:string>,Location Specified:struct<Does this data have a Location column? (Yes or No):string>>,rdfClass:string,rdfSubject:string,renderTypeConfig:struct<visible:struct<table:boolean>>,rowIdentifier:string,rowLabel:string>,name:string,newBackend:boolean,numberOfComments:bigint,oid:bigint,owner:struct<displayName:string,id:string,profileImageUrlLarge:string,profileImageUrlMedium:string,profileImageUrlSmall:string,screenName:string,type:string>,provenance:string,publicationAppendEnabled:boolean,publicationDate:bigint,publicationGroup:bigint,publicationStage:string,rights:array<string>,rowClass:string,rowsUpdatedAt:bigint,rowsUpdatedBy:string,tableAuthor:struct<displayName:string,id:string,profileImageUrlLarge:string,profileImageUrlMedium:string,profileImageUrlSmall:string,screenName:string,type:string>,tableId:bigint,tags:array<string>,totalTimesRated:bigint,viewCount:bigint,viewLastModified:bigint,viewType:string>>]"
      ]
     },
     "execution_count": 10,
     "metadata": {},
     "output_type": "execute_result"
    }
   ],
   "source": [
    "flight"
   ]
  },
  {
   "cell_type": "code",
   "execution_count": null,
   "metadata": {},
   "outputs": [],
   "source": []
  }
 ],
 "metadata": {
  "kernelspec": {
   "display_name": "Python 3",
   "language": "python",
   "name": "python3"
  },
  "language_info": {
   "codemirror_mode": {
    "name": "ipython",
    "version": 3
   },
   "file_extension": ".py",
   "mimetype": "text/x-python",
   "name": "python",
   "nbconvert_exporter": "python",
   "pygments_lexer": "ipython3",
   "version": "3.7.1"
  }
 },
 "nbformat": 4,
 "nbformat_minor": 2
}
