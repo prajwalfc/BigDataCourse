{
 "cells": [
  {
   "cell_type": "code",
   "execution_count": 113,
   "metadata": {},
   "outputs": [],
   "source": [
    "rdd0 = sc.parallelize(list(range(10)))"
   ]
  },
  {
   "cell_type": "code",
   "execution_count": 114,
   "metadata": {},
   "outputs": [
    {
     "data": {
      "text/plain": [
       "[9, 8, 7, 6, 5]"
      ]
     },
     "execution_count": 114,
     "metadata": {},
     "output_type": "execute_result"
    }
   ],
   "source": [
    "rdd0.top(5)"
   ]
  },
  {
   "cell_type": "code",
   "execution_count": 115,
   "metadata": {},
   "outputs": [],
   "source": [
    "rdd = sc.textFile('book.txt')"
   ]
  },
  {
   "cell_type": "code",
   "execution_count": 116,
   "metadata": {},
   "outputs": [
    {
     "data": {
      "text/plain": [
       "'The Project Gutenberg EBook of English Coins and Tokens, by '"
      ]
     },
     "execution_count": 116,
     "metadata": {},
     "output_type": "execute_result"
    }
   ],
   "source": [
    "rdd.first()"
   ]
  },
  {
   "cell_type": "code",
   "execution_count": 117,
   "metadata": {},
   "outputs": [
    {
     "data": {
      "text/plain": [
       "['The', 'Project', 'Gutenberg']"
      ]
     },
     "execution_count": 117,
     "metadata": {},
     "output_type": "execute_result"
    }
   ],
   "source": [
    "rdd.flatMap(lambda x:x.split()).take(3)"
   ]
  },
  {
   "cell_type": "code",
   "execution_count": 118,
   "metadata": {},
   "outputs": [
    {
     "data": {
      "text/plain": [
       "[('The', 1), ('Project', 1), ('Gutenberg', 1)]"
      ]
     },
     "execution_count": 118,
     "metadata": {},
     "output_type": "execute_result"
    }
   ],
   "source": [
    "def mapper(rows):\n",
    "   # yield(len(rows))\n",
    "    for row in rows:\n",
    "        for word in row.split():\n",
    "            yield word\n",
    "rdd.mapPartitions(mapper)\\\n",
    "   .map(lambda x:(x,1))\\\n",
    "   .take(3)"
   ]
  },
  {
   "cell_type": "code",
   "execution_count": 120,
   "metadata": {},
   "outputs": [
    {
     "data": {
      "text/plain": [
       "[('The', 268), ('Project', 79), ('EBook', 2)]"
      ]
     },
     "execution_count": 120,
     "metadata": {},
     "output_type": "execute_result"
    }
   ],
   "source": [
    "def mapper(_,rows):\n",
    "   # yield(len(rows))\n",
    "    for row in rows:\n",
    "        for word in row.split():\n",
    "            yield word\n",
    "rdd.mapPartitionsWithIndex(mapper)\\\n",
    "   .map(lambda x:(x,1))\\\n",
    "   .reduceByKey(lambda x,y: x+y)\\\n",
    "   .take(3)"
   ]
  },
  {
   "cell_type": "markdown",
   "metadata": {},
   "source": [
    "## Task 1"
   ]
  },
  {
   "cell_type": "markdown",
   "metadata": {},
   "source": [
    "## Using RDD"
   ]
  },
  {
   "cell_type": "code",
   "execution_count": 27,
   "metadata": {},
   "outputs": [],
   "source": [
    "SAT_FN = 'SAT_Results.csv'\n",
    "HSD_FN = 'DOE_High_School_Directory_2014-2015.csv'"
   ]
  },
  {
   "cell_type": "code",
   "execution_count": 28,
   "metadata": {},
   "outputs": [],
   "source": [
    "sat = sc.textFile(SAT_FN).cache()"
   ]
  },
  {
   "cell_type": "code",
   "execution_count": 34,
   "metadata": {},
   "outputs": [
    {
     "data": {
      "text/plain": [
       "[(0, 'DBN'),\n",
       " (1, 'SCHOOL NAME'),\n",
       " (2, 'Num of SAT Test Takers'),\n",
       " (3, 'SAT Critical Reading Avg. Score'),\n",
       " (4, 'SAT Math Avg. Score'),\n",
       " (5, 'SAT Writing Avg. Score')]"
      ]
     },
     "execution_count": 34,
     "metadata": {},
     "output_type": "execute_result"
    }
   ],
   "source": [
    "list(enumerate(sat.first().split(',')))"
   ]
  },
  {
   "cell_type": "code",
   "execution_count": 70,
   "metadata": {},
   "outputs": [
    {
     "data": {
      "text/plain": [
       "[('02M047', '16', '400'),\n",
       " ('21K410', '475', '437'),\n",
       " ('30Q301', '98', '440'),\n",
       " ('17K382', '59', '374'),\n",
       " ('18K637', '35', '381')]"
      ]
     },
     "execution_count": 70,
     "metadata": {},
     "output_type": "execute_result"
    }
   ],
   "source": [
    "def extractScore(pid,rows):\n",
    "    if pid ==0:\n",
    "        next(rows)\n",
    "    for row in rows:\n",
    "        fields = row.split(',')\n",
    "        if fields[2]!='s':\n",
    "            yield(fields[0],fields[2],fields[4])\n",
    "\n",
    "satScores=sat.mapPartitionsWithIndex(extractScore)\n",
    "satScores.take(5)"
   ]
  },
  {
   "cell_type": "code",
   "execution_count": 78,
   "metadata": {},
   "outputs": [
    {
     "data": {
      "text/plain": [
       "[('02M047', (16, 400)),\n",
       " ('21K410', (475, 437)),\n",
       " ('30Q301', (98, 440)),\n",
       " ('17K382', (59, 374)),\n",
       " ('18K637', (35, 381))]"
      ]
     },
     "execution_count": 78,
     "metadata": {},
     "output_type": "execute_result"
    }
   ],
   "source": [
    "def extractScore(pid,rows):\n",
    "    if pid ==0:\n",
    "        next(rows)\n",
    "    import csv\n",
    "    for fields in csv.reader(rows):\n",
    "        if fields[2]!='s':\n",
    "            yield(fields[0],(int(fields[2]),int(fields[4])))\n",
    "\n",
    "satScores=sat.mapPartitionsWithIndex(extractScore)\n",
    "satScores.take(5)"
   ]
  },
  {
   "cell_type": "code",
   "execution_count": 75,
   "metadata": {},
   "outputs": [
    {
     "data": {
      "text/plain": [
       "DOE_High_School_Directory_2014-2015.csv MapPartitionsRDD[128] at textFile at NativeMethodAccessorImpl.java:0"
      ]
     },
     "execution_count": 75,
     "metadata": {},
     "output_type": "execute_result"
    }
   ],
   "source": [
    "schools = sc.textFile(HSD_FN).cache()\n",
    "#list(enumerate(schools.first().split(',')))\n",
    "schools"
   ]
  },
  {
   "cell_type": "code",
   "execution_count": 72,
   "metadata": {},
   "outputs": [
    {
     "data": {
      "text/plain": [
       "[('01M450', 'Manhattan'),\n",
       " ('01M539', 'Manhattan'),\n",
       " ('01M696', 'Manhattan'),\n",
       " ('02M374', 'Manhattan'),\n",
       " ('02M400', 'Manhattan')]"
      ]
     },
     "execution_count": 72,
     "metadata": {},
     "output_type": "execute_result"
    }
   ],
   "source": [
    "def extractSchool(pid,rows):\n",
    "    if pid ==0:\n",
    "        next(rows)\n",
    "    import csv\n",
    "    for fields in csv.reader(rows):\n",
    "        if len(fields)==58 and fields[17].isdigit():\n",
    "            yield(fields[0],fields[2],int(fields[17]))\n",
    "\n",
    "largeSchools=schools.mapPartitionsWithIndex(extractSchool)\\\n",
    "                    .filter(lambda x: x[2]>500)\\\n",
    "                    .map(lambda x:(x[0],x[1]))\n",
    "largeSchools.take(5)"
   ]
  },
  {
   "cell_type": "code",
   "execution_count": 68,
   "metadata": {},
   "outputs": [
    {
     "data": {
      "text/plain": [
       "[('01M450', 'Manhattan'),\n",
       " ('01M539', 'Manhattan'),\n",
       " ('01M696', 'Manhattan'),\n",
       " ('02M374', 'Manhattan'),\n",
       " ('02M400', 'Manhattan')]"
      ]
     },
     "execution_count": 68,
     "metadata": {},
     "output_type": "execute_result"
    }
   ],
   "source": [
    "def extractSchool1(pid,rows):\n",
    "    if pid ==0:\n",
    "        next(rows)\n",
    "    import csv\n",
    "    for fields in csv.reader(rows):\n",
    "        if len(fields)==58 and fields[17].isdigit():\n",
    "            if int(fields[17])>500:\n",
    "                yield(fields[0],fields[2])\n",
    "largeSchools1=schools.mapPartitionsWithIndex(extractSchool1)\n",
    "largeSchools1.take(5)"
   ]
  },
  {
   "cell_type": "code",
   "execution_count": 91,
   "metadata": {},
   "outputs": [
    {
     "data": {
      "text/plain": [
       "[('Bronx', 470),\n",
       " ('Staten Island', 477),\n",
       " ('Manhattan', 514),\n",
       " ('Brooklyn', 487),\n",
       " ('Queens', 474)]"
      ]
     },
     "execution_count": 91,
     "metadata": {},
     "output_type": "execute_result"
    }
   ],
   "source": [
    "largeSchools.join(satScores,)\\\n",
    "    .values()\\\n",
    "    .mapValues(lambda x:(x[0],x[0]*x[1]))\\\n",
    "    .reduceByKey(lambda x,y:(x[0]+y[0],x[1]+y[1]))\\\n",
    "    .mapValues(lambda x:x[1]//x[0])\\\n",
    "    .take(5)"
   ]
  },
  {
   "cell_type": "markdown",
   "metadata": {},
   "source": [
    "## Using Data Frames"
   ]
  },
  {
   "cell_type": "code",
   "execution_count": 107,
   "metadata": {},
   "outputs": [
    {
     "name": "stdout",
     "output_type": "stream",
     "text": [
      "+------+-------+------+\n",
      "|   DBN|ntakers| total|\n",
      "+------+-------+------+\n",
      "|02M047|     16|  6400|\n",
      "|21K410|    475|207575|\n",
      "|30Q301|     98| 43120|\n",
      "|17K382|     59| 22066|\n",
      "|18K637|     35| 13335|\n",
      "|32K403|     50| 18300|\n",
      "|09X365|     54| 18306|\n",
      "|11X270|     56| 22064|\n",
      "|05M367|     33| 12078|\n",
      "|14K404|     68| 24276|\n",
      "|30Q575|    135| 66420|\n",
      "|13K336|      9|  3366|\n",
      "|04M635|     48| 17712|\n",
      "|24Q264|     89| 40406|\n",
      "|17K408|     57| 19494|\n",
      "|19K618|     60| 22260|\n",
      "|27Q309|     36| 13644|\n",
      "|32K552|     67| 24388|\n",
      "|13K499|     72| 26208|\n",
      "|07X600|     76| 30400|\n",
      "+------+-------+------+\n",
      "only showing top 20 rows\n",
      "\n"
     ]
    }
   ],
   "source": [
    "dfScores = spark.read.load(SAT_FN,format='csv',header = True,inferSchema=True)\n",
    "dfScores = dfScores.select('DBN',\n",
    "                          dfScores['Num of SAT Test Takers'].cast('int').alias('ntakers'),\n",
    "                          dfScores['`SAT Math Avg. Score`'].cast('int').alias('score')\n",
    "                          ).na.drop()\n",
    "dfScores = dfScores.select('DBN','ntakers',\n",
    "                           (dfScores.score*dfScores.ntakers).alias('total'))\n",
    "dfScores.show()"
   ]
  },
  {
   "cell_type": "code",
   "execution_count": 111,
   "metadata": {},
   "outputs": [
    {
     "data": {
      "text/plain": [
       "Row(dbn='01M450', boro='Manhattan')"
      ]
     },
     "execution_count": 111,
     "metadata": {},
     "output_type": "execute_result"
    }
   ],
   "source": [
    "dfSchools = spark.read.load(HSD_FN,format='csv',header = True,inferSchema=True)\n",
    "dfSchools = dfSchools.na.drop(subset=['boro'])\n",
    "dfSchools = dfSchools.filter(dfSchools['total_students']>500)\n",
    "dfSchools = dfSchools.select('dbn','boro')\n",
    "dfSchools.head()"
   ]
  },
  {
   "cell_type": "code",
   "execution_count": null,
   "metadata": {},
   "outputs": [],
   "source": [
    "# largeSchools.join(satScores,)\\\n",
    "#     .values()\\\n",
    "#     .mapValues(lambda x:(x[0],x[0]*x[1]))\\\n",
    "#     .reduceByKey(lambda x,y:(x[0]+y[0],x[1]+y[1]))\\\n",
    "#     .mapValues(lambda x:x[1]//x[0])\\\n",
    "#     .take(5)"
   ]
  },
  {
   "cell_type": "code",
   "execution_count": 112,
   "metadata": {},
   "outputs": [
    {
     "name": "stdout",
     "output_type": "stream",
     "text": [
      "+-------------+------------------+\n",
      "|         boro|               avg|\n",
      "+-------------+------------------+\n",
      "|       Queens| 474.3679400475233|\n",
      "|     Brooklyn|487.46256168204246|\n",
      "|Staten Island| 477.9099864130435|\n",
      "|    Manhattan| 514.9312780989081|\n",
      "|        Bronx|  470.198606271777|\n",
      "+-------------+------------------+\n",
      "\n"
     ]
    }
   ],
   "source": [
    "dfResults = dfSchools.join(dfScores,dfSchools.dbn==dfScores.DBN,\n",
    "                          how='inner')\n",
    "dfResults = dfResults.groupBy('boro').sum('ntakers','total')\n",
    "dfResults = dfResults.withColumn('avg',dfResults[2]/dfResults[1])\\\n",
    "                     .select('boro','avg')\n",
    "dfResults.show()"
   ]
  },
  {
   "cell_type": "code",
   "execution_count": null,
   "metadata": {},
   "outputs": [],
   "source": []
  }
 ],
 "metadata": {
  "kernelspec": {
   "display_name": "Python 3",
   "language": "python",
   "name": "python3"
  },
  "language_info": {
   "codemirror_mode": {
    "name": "ipython",
    "version": 3
   },
   "file_extension": ".py",
   "mimetype": "text/x-python",
   "name": "python",
   "nbconvert_exporter": "python",
   "pygments_lexer": "ipython3",
   "version": "3.7.1"
  }
 },
 "nbformat": 4,
 "nbformat_minor": 2
}
